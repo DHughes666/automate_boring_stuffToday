{
 "cells": [
  {
   "cell_type": "markdown",
   "id": "5285e514",
   "metadata": {},
   "source": [
    "# REGEX"
   ]
  },
  {
   "cell_type": "code",
   "execution_count": 14,
   "id": "be5737cb",
   "metadata": {},
   "outputs": [],
   "source": [
    "import re"
   ]
  },
  {
   "cell_type": "code",
   "execution_count": 15,
   "id": "9428ec55",
   "metadata": {},
   "outputs": [],
   "source": [
    "phoneNumRegex = re.compile(r'\\d\\d\\d-\\d\\d\\d-\\d\\d\\d\\d')"
   ]
  },
  {
   "cell_type": "code",
   "execution_count": 16,
   "id": "0e0f5a7b",
   "metadata": {},
   "outputs": [],
   "source": [
    "mo = phoneNumRegex.search('My number is 415-555-4242.')"
   ]
  },
  {
   "cell_type": "code",
   "execution_count": 17,
   "id": "a7637a08",
   "metadata": {},
   "outputs": [
    {
     "name": "stdout",
     "output_type": "stream",
     "text": [
      "Phone number found: 415-555-4242\n"
     ]
    }
   ],
   "source": [
    "print('Phone number found: ' + mo.group())"
   ]
  },
  {
   "cell_type": "code",
   "execution_count": 11,
   "id": "9bcef140",
   "metadata": {},
   "outputs": [
    {
     "data": {
      "text/plain": [
       "'415-555-4242'"
      ]
     },
     "execution_count": 11,
     "metadata": {},
     "output_type": "execute_result"
    }
   ],
   "source": [
    "mo.group()"
   ]
  },
  {
   "cell_type": "code",
   "execution_count": 14,
   "id": "9f7638e2",
   "metadata": {},
   "outputs": [],
   "source": [
    "phoneNumRegex = re.compile(r'(\\d\\d\\d)-(\\d\\d\\d-\\d\\d\\d\\d)')"
   ]
  },
  {
   "cell_type": "code",
   "execution_count": 15,
   "id": "942fa377",
   "metadata": {},
   "outputs": [],
   "source": [
    "mo = phoneNumRegex.search('My number is 415-555-4242.')"
   ]
  },
  {
   "cell_type": "code",
   "execution_count": 16,
   "id": "efcf807d",
   "metadata": {},
   "outputs": [
    {
     "data": {
      "text/plain": [
       "'415'"
      ]
     },
     "execution_count": 16,
     "metadata": {},
     "output_type": "execute_result"
    }
   ],
   "source": [
    "mo.group(1)"
   ]
  },
  {
   "cell_type": "code",
   "execution_count": 17,
   "id": "8490446c",
   "metadata": {},
   "outputs": [
    {
     "data": {
      "text/plain": [
       "'555-4242'"
      ]
     },
     "execution_count": 17,
     "metadata": {},
     "output_type": "execute_result"
    }
   ],
   "source": [
    "mo.group(2)"
   ]
  },
  {
   "cell_type": "code",
   "execution_count": 18,
   "id": "a573d160",
   "metadata": {},
   "outputs": [
    {
     "data": {
      "text/plain": [
       "'415-555-4242'"
      ]
     },
     "execution_count": 18,
     "metadata": {},
     "output_type": "execute_result"
    }
   ],
   "source": [
    "mo.group(0)"
   ]
  },
  {
   "cell_type": "code",
   "execution_count": 19,
   "id": "04702c02",
   "metadata": {},
   "outputs": [
    {
     "data": {
      "text/plain": [
       "('415', '555-4242')"
      ]
     },
     "execution_count": 19,
     "metadata": {},
     "output_type": "execute_result"
    }
   ],
   "source": [
    "mo.groups()"
   ]
  },
  {
   "cell_type": "code",
   "execution_count": 20,
   "id": "e2e92a96",
   "metadata": {},
   "outputs": [],
   "source": [
    "areaCode, mainNumber = mo.groups()"
   ]
  },
  {
   "cell_type": "code",
   "execution_count": 21,
   "id": "3063ded3",
   "metadata": {},
   "outputs": [
    {
     "name": "stdout",
     "output_type": "stream",
     "text": [
      "415\n"
     ]
    }
   ],
   "source": [
    "print(areaCode)"
   ]
  },
  {
   "cell_type": "code",
   "execution_count": 22,
   "id": "2de802b0",
   "metadata": {},
   "outputs": [
    {
     "name": "stdout",
     "output_type": "stream",
     "text": [
      "555-4242\n"
     ]
    }
   ],
   "source": [
    "print(mainNumber)"
   ]
  },
  {
   "cell_type": "markdown",
   "id": "e919cb5e",
   "metadata": {},
   "source": [
    "#### Matching Multiple Groups with the Pipe"
   ]
  },
  {
   "cell_type": "markdown",
   "id": "f2a0da83",
   "metadata": {},
   "source": [
    "The | character is called a <i>pipe</i>. It can be used anywhere to match one of many expressions. For example, the regular r'Batman|Tina Fey' will match either 'Bataman' or Tina Fey'."
   ]
  },
  {
   "cell_type": "code",
   "execution_count": 23,
   "id": "43757b11",
   "metadata": {},
   "outputs": [],
   "source": [
    "heroRegex = re.compile(r'Batman|Tina Fey')"
   ]
  },
  {
   "cell_type": "code",
   "execution_count": 24,
   "id": "918b6f4a",
   "metadata": {},
   "outputs": [],
   "source": [
    "mo1 = heroRegex.search('Batman and Tina Fey')"
   ]
  },
  {
   "cell_type": "code",
   "execution_count": 25,
   "id": "8d2e251c",
   "metadata": {},
   "outputs": [
    {
     "data": {
      "text/plain": [
       "'Batman'"
      ]
     },
     "execution_count": 25,
     "metadata": {},
     "output_type": "execute_result"
    }
   ],
   "source": [
    "mo1.group()"
   ]
  },
  {
   "cell_type": "code",
   "execution_count": 26,
   "id": "fdb8611c",
   "metadata": {},
   "outputs": [],
   "source": [
    "mo2 = heroRegex.search('Tina Fey and Batman')"
   ]
  },
  {
   "cell_type": "code",
   "execution_count": 27,
   "id": "7b8f47b8",
   "metadata": {},
   "outputs": [
    {
     "data": {
      "text/plain": [
       "'Tina Fey'"
      ]
     },
     "execution_count": 27,
     "metadata": {},
     "output_type": "execute_result"
    }
   ],
   "source": [
    "mo2.group()"
   ]
  },
  {
   "cell_type": "code",
   "execution_count": 28,
   "id": "20a1d956",
   "metadata": {},
   "outputs": [],
   "source": [
    "batRegex = re.compile(r'Bat(man|mobile|copter|bat)')"
   ]
  },
  {
   "cell_type": "code",
   "execution_count": 29,
   "id": "f61ca70d",
   "metadata": {},
   "outputs": [],
   "source": [
    "mo = batRegex.search('Batmobile lost a wheel')"
   ]
  },
  {
   "cell_type": "code",
   "execution_count": 30,
   "id": "48bb0c05",
   "metadata": {},
   "outputs": [
    {
     "data": {
      "text/plain": [
       "'Batmobile'"
      ]
     },
     "execution_count": 30,
     "metadata": {},
     "output_type": "execute_result"
    }
   ],
   "source": [
    "mo.group()"
   ]
  },
  {
   "cell_type": "code",
   "execution_count": 31,
   "id": "2992faed",
   "metadata": {},
   "outputs": [
    {
     "data": {
      "text/plain": [
       "'mobile'"
      ]
     },
     "execution_count": 31,
     "metadata": {},
     "output_type": "execute_result"
    }
   ],
   "source": [
    "mo.group(1)"
   ]
  },
  {
   "cell_type": "markdown",
   "id": "84db7440",
   "metadata": {},
   "source": [
    "#### Optional Matching with the Question Mark"
   ]
  },
  {
   "cell_type": "markdown",
   "id": "24857050",
   "metadata": {},
   "source": [
    "The ? character flags the group that precedes it as an optional part of the pattern. "
   ]
  },
  {
   "cell_type": "code",
   "execution_count": 32,
   "id": "bcfb0628",
   "metadata": {},
   "outputs": [],
   "source": [
    "batRegex = re.compile(r'Bat(wo)?man')"
   ]
  },
  {
   "cell_type": "code",
   "execution_count": 33,
   "id": "7b853d11",
   "metadata": {},
   "outputs": [],
   "source": [
    "mo1 = batRegex.search('The Adventures of Batman')"
   ]
  },
  {
   "cell_type": "code",
   "execution_count": 34,
   "id": "9e7ddc37",
   "metadata": {},
   "outputs": [
    {
     "data": {
      "text/plain": [
       "'Batman'"
      ]
     },
     "execution_count": 34,
     "metadata": {},
     "output_type": "execute_result"
    }
   ],
   "source": [
    "mo1.group()"
   ]
  },
  {
   "cell_type": "code",
   "execution_count": 35,
   "id": "6e66777e",
   "metadata": {},
   "outputs": [],
   "source": [
    "mo2 = batRegex.search('The Adventures of Batwoman')"
   ]
  },
  {
   "cell_type": "code",
   "execution_count": 36,
   "id": "65c7b499",
   "metadata": {},
   "outputs": [
    {
     "data": {
      "text/plain": [
       "'Batwoman'"
      ]
     },
     "execution_count": 36,
     "metadata": {},
     "output_type": "execute_result"
    }
   ],
   "source": [
    "mo2.group()"
   ]
  },
  {
   "cell_type": "markdown",
   "id": "71594ab8",
   "metadata": {},
   "source": [
    "Using the earlier phone number example, one can make the regex look for phone numbers that do or do not have an area code."
   ]
  },
  {
   "cell_type": "code",
   "execution_count": 37,
   "id": "871b4802",
   "metadata": {},
   "outputs": [],
   "source": [
    "phoneRegex = re.compile(r'(\\d\\d\\d-)?\\d\\d\\d-\\d\\d\\d\\d')"
   ]
  },
  {
   "cell_type": "code",
   "execution_count": 38,
   "id": "238ecb3b",
   "metadata": {},
   "outputs": [],
   "source": [
    "mo1 = phoneRegex.search('My number is 415-555-4242')"
   ]
  },
  {
   "cell_type": "code",
   "execution_count": 39,
   "id": "7a0263b6",
   "metadata": {},
   "outputs": [
    {
     "data": {
      "text/plain": [
       "'415-555-4242'"
      ]
     },
     "execution_count": 39,
     "metadata": {},
     "output_type": "execute_result"
    }
   ],
   "source": [
    "mo1.group()"
   ]
  },
  {
   "cell_type": "code",
   "execution_count": 40,
   "id": "133ed3f0",
   "metadata": {},
   "outputs": [],
   "source": [
    "mo2 = phoneRegex.search('My number is 555-4242')"
   ]
  },
  {
   "cell_type": "code",
   "execution_count": 41,
   "id": "15be80f3",
   "metadata": {},
   "outputs": [
    {
     "data": {
      "text/plain": [
       "'555-4242'"
      ]
     },
     "execution_count": 41,
     "metadata": {},
     "output_type": "execute_result"
    }
   ],
   "source": [
    "mo2.group()"
   ]
  },
  {
   "cell_type": "markdown",
   "id": "73de147e",
   "metadata": {},
   "source": [
    "#### Matching One or More with the Plus"
   ]
  },
  {
   "cell_type": "code",
   "execution_count": 42,
   "id": "38577500",
   "metadata": {},
   "outputs": [],
   "source": [
    "batRegex = re.compile(r'Bat(wo)+man')"
   ]
  },
  {
   "cell_type": "code",
   "execution_count": 43,
   "id": "3c797dab",
   "metadata": {},
   "outputs": [],
   "source": [
    "mo1 = batRegex.search('The Adventures of Batwoman')"
   ]
  },
  {
   "cell_type": "code",
   "execution_count": 44,
   "id": "6e7e8358",
   "metadata": {},
   "outputs": [
    {
     "data": {
      "text/plain": [
       "'Batwoman'"
      ]
     },
     "execution_count": 44,
     "metadata": {},
     "output_type": "execute_result"
    }
   ],
   "source": [
    "mo1.group()"
   ]
  },
  {
   "cell_type": "code",
   "execution_count": 45,
   "id": "59aab71f",
   "metadata": {},
   "outputs": [],
   "source": [
    "mo2 = batRegex.search('The Adventures of Batwowowowoman')"
   ]
  },
  {
   "cell_type": "code",
   "execution_count": 46,
   "id": "c5e9b205",
   "metadata": {},
   "outputs": [
    {
     "data": {
      "text/plain": [
       "'Batwowowowoman'"
      ]
     },
     "execution_count": 46,
     "metadata": {},
     "output_type": "execute_result"
    }
   ],
   "source": [
    "mo2.group()"
   ]
  },
  {
   "cell_type": "code",
   "execution_count": 47,
   "id": "0f214b5b",
   "metadata": {},
   "outputs": [],
   "source": [
    "mo3 = batRegex.search('The Adventures of Batman')"
   ]
  },
  {
   "cell_type": "code",
   "execution_count": 48,
   "id": "6b393f78",
   "metadata": {},
   "outputs": [
    {
     "data": {
      "text/plain": [
       "True"
      ]
     },
     "execution_count": 48,
     "metadata": {},
     "output_type": "execute_result"
    }
   ],
   "source": [
    "mo3 == None"
   ]
  },
  {
   "cell_type": "markdown",
   "id": "d3b4abfc",
   "metadata": {},
   "source": [
    "#### Matching Specific Repititions with Braces"
   ]
  },
  {
   "cell_type": "markdown",
   "id": "49aad3ea",
   "metadata": {},
   "source": [
    "If you have a group that you want to repeat a specific number of times, follow the group in your regex with a number in braces. For example, the regex (Ha){3} will match the string 'HaHaHa', but it will not match 'HaHa', since the latter has only two repeats of the (Ha) group."
   ]
  },
  {
   "cell_type": "code",
   "execution_count": 49,
   "id": "761cab7b",
   "metadata": {},
   "outputs": [],
   "source": [
    "haRegex = re.compile(r'(Ha){3}')\n",
    "mo1 = haRegex.search('HaHaHa')"
   ]
  },
  {
   "cell_type": "code",
   "execution_count": 50,
   "id": "cd7981a0",
   "metadata": {},
   "outputs": [
    {
     "data": {
      "text/plain": [
       "'HaHaHa'"
      ]
     },
     "execution_count": 50,
     "metadata": {},
     "output_type": "execute_result"
    }
   ],
   "source": [
    "mo1.group()"
   ]
  },
  {
   "cell_type": "code",
   "execution_count": 51,
   "id": "8b3de868",
   "metadata": {},
   "outputs": [],
   "source": [
    "mo2 = haRegex.search('Ha')"
   ]
  },
  {
   "cell_type": "code",
   "execution_count": 52,
   "id": "3b8c0307",
   "metadata": {},
   "outputs": [
    {
     "data": {
      "text/plain": [
       "True"
      ]
     },
     "execution_count": 52,
     "metadata": {},
     "output_type": "execute_result"
    }
   ],
   "source": [
    "mo2 == None"
   ]
  },
  {
   "cell_type": "markdown",
   "id": "3162a466",
   "metadata": {},
   "source": [
    "#### Greedy and Non-Greedy Matching"
   ]
  },
  {
   "cell_type": "code",
   "execution_count": 53,
   "id": "69d9bf63",
   "metadata": {},
   "outputs": [],
   "source": [
    "greedyHaRegex = re.compile(r'(Ha){3,5}')"
   ]
  },
  {
   "cell_type": "code",
   "execution_count": 54,
   "id": "2ce08234",
   "metadata": {},
   "outputs": [],
   "source": [
    "mo1 = greedyHaRegex.search('HaHaHaHaHa')"
   ]
  },
  {
   "cell_type": "code",
   "execution_count": 55,
   "id": "16e77377",
   "metadata": {},
   "outputs": [
    {
     "data": {
      "text/plain": [
       "'HaHaHaHaHa'"
      ]
     },
     "execution_count": 55,
     "metadata": {},
     "output_type": "execute_result"
    }
   ],
   "source": [
    "mo1.group()"
   ]
  },
  {
   "cell_type": "code",
   "execution_count": 59,
   "id": "88d857de",
   "metadata": {},
   "outputs": [],
   "source": [
    "nongreedyHaRegex = re.compile(r'(Ha){3,5}?')"
   ]
  },
  {
   "cell_type": "code",
   "execution_count": 60,
   "id": "d3a6a298",
   "metadata": {},
   "outputs": [],
   "source": [
    "mo2 = nongreedyHaRegex.search('HaHaHaHaHa')"
   ]
  },
  {
   "cell_type": "code",
   "execution_count": 61,
   "id": "03e0f2cf",
   "metadata": {},
   "outputs": [
    {
     "data": {
      "text/plain": [
       "'HaHaHa'"
      ]
     },
     "execution_count": 61,
     "metadata": {},
     "output_type": "execute_result"
    }
   ],
   "source": [
    "mo2.group()"
   ]
  },
  {
   "cell_type": "markdown",
   "id": "df88dc96",
   "metadata": {},
   "source": [
    "#### findall() Method"
   ]
  },
  {
   "cell_type": "markdown",
   "id": "9eafee88",
   "metadata": {},
   "source": [
    "In addition to the search() method, Regex objects also have a findall() method. While search() will return a Match object of the first matched text in the searched string, the findall() method will return the strings of every match in the searched string."
   ]
  },
  {
   "cell_type": "code",
   "execution_count": 6,
   "id": "f841764e",
   "metadata": {},
   "outputs": [],
   "source": [
    "phoneNumRegex = re.compile(r'\\d\\d\\d-\\d\\d\\d-\\d\\d\\d\\d')"
   ]
  },
  {
   "cell_type": "code",
   "execution_count": 7,
   "id": "fe6e3c77",
   "metadata": {},
   "outputs": [],
   "source": [
    "mo = phoneNumRegex.search('Cell: 415-555-9999 Work: 212-555-0000')"
   ]
  },
  {
   "cell_type": "code",
   "execution_count": 8,
   "id": "accf60b4",
   "metadata": {},
   "outputs": [
    {
     "data": {
      "text/plain": [
       "'415-555-9999'"
      ]
     },
     "execution_count": 8,
     "metadata": {},
     "output_type": "execute_result"
    }
   ],
   "source": [
    "mo.group()"
   ]
  },
  {
   "cell_type": "code",
   "execution_count": 9,
   "id": "693837ab",
   "metadata": {},
   "outputs": [],
   "source": [
    "mo2 = phoneNumRegex.findall('Cell: 415-555-9999 Work: 212-555-0000')"
   ]
  },
  {
   "cell_type": "code",
   "execution_count": 10,
   "id": "4c516b46",
   "metadata": {},
   "outputs": [
    {
     "data": {
      "text/plain": [
       "['415-555-9999', '212-555-0000']"
      ]
     },
     "execution_count": 10,
     "metadata": {},
     "output_type": "execute_result"
    }
   ],
   "source": [
    "mo2"
   ]
  },
  {
   "cell_type": "code",
   "execution_count": 11,
   "id": "b51aa2e8",
   "metadata": {},
   "outputs": [],
   "source": [
    "phoneNumRegex = re.compile(r'(\\d\\d\\d)-(\\d\\d\\d)-(\\d\\d\\d\\d)')"
   ]
  },
  {
   "cell_type": "code",
   "execution_count": 12,
   "id": "23739a47",
   "metadata": {},
   "outputs": [],
   "source": [
    "momo = phoneNumRegex.findall('Cell: 415-555-9999 Work: 212-555-0000')"
   ]
  },
  {
   "cell_type": "code",
   "execution_count": 13,
   "id": "f4a2f627",
   "metadata": {},
   "outputs": [
    {
     "data": {
      "text/plain": [
       "[('415', '555', '9999'), ('212', '555', '0000')]"
      ]
     },
     "execution_count": 13,
     "metadata": {},
     "output_type": "execute_result"
    }
   ],
   "source": [
    "momo"
   ]
  },
  {
   "cell_type": "code",
   "execution_count": 14,
   "id": "3091fc60",
   "metadata": {},
   "outputs": [],
   "source": [
    "cell, work = phoneNumRegex.findall('Cell: 415-555-9890 Work: 212-598-0190')"
   ]
  },
  {
   "cell_type": "code",
   "execution_count": 15,
   "id": "e2c42894",
   "metadata": {},
   "outputs": [
    {
     "data": {
      "text/plain": [
       "('212', '598', '0190')"
      ]
     },
     "execution_count": 15,
     "metadata": {},
     "output_type": "execute_result"
    }
   ],
   "source": [
    "work"
   ]
  },
  {
   "cell_type": "code",
   "execution_count": 16,
   "id": "e71d7413",
   "metadata": {},
   "outputs": [
    {
     "data": {
      "text/plain": [
       "('415', '555', '9890')"
      ]
     },
     "execution_count": 16,
     "metadata": {},
     "output_type": "execute_result"
    }
   ],
   "source": [
    "cell"
   ]
  },
  {
   "cell_type": "markdown",
   "id": "a48d98a1",
   "metadata": {},
   "source": [
    "<p>When findall() is called on a regex with no groups, the method returns a list of string matches, such as ['415-555-9999', '212-555-0000'].</p>\n",
    "<p>When called on a regex that has groups, such as (\\d\\d\\d)-(\\d\\d\\d)-(\\d\\d\\d\\d), the method findall() returns a list of tuples of strings (one string for each group), such as [('415', '555', '9999'), ('212', '555', '0000')].</p>"
   ]
  },
  {
   "cell_type": "markdown",
   "id": "5e1c2008",
   "metadata": {},
   "source": [
    "### Character Class"
   ]
  },
  {
   "cell_type": "markdown",
   "id": "4d78a12a",
   "metadata": {},
   "source": [
    "Character classes are used for shortening regular expressions"
   ]
  },
  {
   "cell_type": "code",
   "execution_count": 17,
   "id": "108253d3",
   "metadata": {},
   "outputs": [],
   "source": [
    "xmasRegex = re.compile(r'\\d+\\s\\w+')"
   ]
  },
  {
   "cell_type": "code",
   "execution_count": 18,
   "id": "82a263d5",
   "metadata": {},
   "outputs": [
    {
     "data": {
      "text/plain": [
       "['12 drummers',\n",
       " '11 pipers',\n",
       " '10 lords',\n",
       " '9 ladies',\n",
       " '8 maids',\n",
       " '7 swans',\n",
       " '6 geese',\n",
       " '5 rings',\n",
       " '4 birds',\n",
       " '3 hens',\n",
       " '2 doves',\n",
       " '1 partridge']"
      ]
     },
     "execution_count": 18,
     "metadata": {},
     "output_type": "execute_result"
    }
   ],
   "source": [
    "xmasRegex.findall('12 drummers, 11 pipers, 10 lords, 9 ladies, 8 maids, 7 swans, 6 geese, 5 rings, 4 birds, 3 hens, 2 doves, 1 partridge')"
   ]
  },
  {
   "cell_type": "code",
   "execution_count": 5,
   "id": "5f8e98bc",
   "metadata": {},
   "outputs": [],
   "source": [
    "xmasRegex1 = re.compile(r'\\d+\\s\\w+')"
   ]
  },
  {
   "cell_type": "code",
   "execution_count": 6,
   "id": "05b6963d",
   "metadata": {},
   "outputs": [
    {
     "data": {
      "text/plain": [
       "['12 drummers',\n",
       " '11 pipers',\n",
       " '10 lords',\n",
       " '9 ladies',\n",
       " '8 maids',\n",
       " '7 swans',\n",
       " '6 geese',\n",
       " '5 rings',\n",
       " '4 birds',\n",
       " '3 hens',\n",
       " '2 doves',\n",
       " '1 partridge']"
      ]
     },
     "execution_count": 6,
     "metadata": {},
     "output_type": "execute_result"
    }
   ],
   "source": [
    "xmasRegex1.findall('12 drummers, 11 pipers, 10 lords, 9 ladies, 8 maids, 7 swans, 6 geese, 5 rings, 4 birds, 3 hens, 2 doves, 1 partridge')"
   ]
  },
  {
   "cell_type": "markdown",
   "id": "3abd7b5e",
   "metadata": {},
   "source": [
    "The regular expression \\d+\\s\\w+ will match text that has one or more numeric digits (\\d+), followed by a whitespace character (\\s), followed by one or more letter/digit/underscore character (\\w+). The findall() method returns all matching strings of the regex pattern in a list."
   ]
  },
  {
   "cell_type": "markdown",
   "id": "a607a52b",
   "metadata": {},
   "source": [
    "#### Making Your Own Character Classes"
   ]
  },
  {
   "cell_type": "markdown",
   "id": "3fd2559d",
   "metadata": {},
   "source": [
    "You can define your own character class using square brackets"
   ]
  },
  {
   "cell_type": "code",
   "execution_count": 87,
   "id": "a47a6b53",
   "metadata": {},
   "outputs": [],
   "source": [
    "vowelRegex = re.compile(r'[aeiouAEIOU]')"
   ]
  },
  {
   "cell_type": "code",
   "execution_count": 91,
   "id": "16520a2b",
   "metadata": {},
   "outputs": [
    {
     "data": {
      "text/plain": [
       "['o', 'o', 'o', 'e', 'a', 'a', 'o', 'o', 'A', 'O', 'O']"
      ]
     },
     "execution_count": 91,
     "metadata": {},
     "output_type": "execute_result"
    }
   ],
   "source": [
    "vowelRegex.findall('RoboCop eats baby food. BABY FOOD.')"
   ]
  },
  {
   "cell_type": "markdown",
   "id": "515fdbf8",
   "metadata": {},
   "source": [
    "<p>You can also include ranges of letters or numbers by using a hyphen. For example, the character class [a-zA-Z0-9] will match all lowercase letters, uppercase letters, and numbers.</p>\n",
    "<p>Note that inside the square brackets, the normal regular expression symbols are not interpreted as such. This means you do not need to escape the .,*,?, or () characters with a preceding backlash. For example, the character class [0-5.] will match digits 0 to 5 and a period. You do not need to write it as [0-5\\.]</p>\n",
    "<P>By placing a caret character (^) just after the character class's opening bracket, you can make a <i>negative character class.<i> A negative character class will match all the characters that are not in the character class. "
   ]
  },
  {
   "cell_type": "code",
   "execution_count": 89,
   "id": "2f1613b6",
   "metadata": {},
   "outputs": [],
   "source": [
    "consonantRegex = re.compile(r'[^aeiouAEIOU]')"
   ]
  },
  {
   "cell_type": "code",
   "execution_count": 92,
   "id": "756fce25",
   "metadata": {},
   "outputs": [
    {
     "data": {
      "text/plain": [
       "['R',\n",
       " 'b',\n",
       " 'C',\n",
       " 'p',\n",
       " ' ',\n",
       " 't',\n",
       " 's',\n",
       " ' ',\n",
       " 'b',\n",
       " 'b',\n",
       " 'y',\n",
       " ' ',\n",
       " 'f',\n",
       " 'd',\n",
       " '.',\n",
       " ' ',\n",
       " 'B',\n",
       " 'B',\n",
       " 'Y',\n",
       " ' ',\n",
       " 'F',\n",
       " 'D',\n",
       " '.']"
      ]
     },
     "execution_count": 92,
     "metadata": {},
     "output_type": "execute_result"
    }
   ],
   "source": [
    "consonantRegex.findall('RoboCop eats baby food. BABY FOOD.')"
   ]
  },
  {
   "cell_type": "markdown",
   "id": "a7fad11e",
   "metadata": {},
   "source": [
    "### Caret and Dollar Sign Characters"
   ]
  },
  {
   "cell_type": "raw",
   "id": "86c94922",
   "metadata": {},
   "source": [
    "You can also use the caret symbol (^) at the start of a regex to indicate that a match must occur at the beginning of the searched text. Likewise you can put a dollar sign $ at the end of the regex to indicate the string must end with this regex pattern. And you can use the ^ and $ together to indicate that the entire string must match the regex"
   ]
  },
  {
   "cell_type": "code",
   "execution_count": 93,
   "id": "8500523b",
   "metadata": {},
   "outputs": [],
   "source": [
    "beginsWithHello = re.compile(r'^Hello')"
   ]
  },
  {
   "cell_type": "code",
   "execution_count": 94,
   "id": "0df576b4",
   "metadata": {},
   "outputs": [
    {
     "data": {
      "text/plain": [
       "<re.Match object; span=(0, 5), match='Hello'>"
      ]
     },
     "execution_count": 94,
     "metadata": {},
     "output_type": "execute_result"
    }
   ],
   "source": [
    "beginsWithHello.search('Hello, world!')"
   ]
  },
  {
   "cell_type": "code",
   "execution_count": 96,
   "id": "de58bf6a",
   "metadata": {},
   "outputs": [
    {
     "data": {
      "text/plain": [
       "True"
      ]
     },
     "execution_count": 96,
     "metadata": {},
     "output_type": "execute_result"
    }
   ],
   "source": [
    "beginsWithHello.search('He said hello.') == None"
   ]
  },
  {
   "cell_type": "code",
   "execution_count": 97,
   "id": "a9fea26a",
   "metadata": {},
   "outputs": [],
   "source": [
    "endsWithNumber = re.compile(r'\\d$')"
   ]
  },
  {
   "cell_type": "code",
   "execution_count": 98,
   "id": "e75c0c6b",
   "metadata": {},
   "outputs": [
    {
     "data": {
      "text/plain": [
       "<re.Match object; span=(16, 17), match='2'>"
      ]
     },
     "execution_count": 98,
     "metadata": {},
     "output_type": "execute_result"
    }
   ],
   "source": [
    "endsWithNumber.search('Your number is 42')"
   ]
  },
  {
   "cell_type": "code",
   "execution_count": 99,
   "id": "45a89847",
   "metadata": {},
   "outputs": [],
   "source": [
    "endsWithNumber.search('Your number is forty two.')"
   ]
  },
  {
   "cell_type": "code",
   "execution_count": 105,
   "id": "eb595705",
   "metadata": {},
   "outputs": [],
   "source": [
    "wholeStringIsNum = re.compile(r'^\\d+$')"
   ]
  },
  {
   "cell_type": "code",
   "execution_count": 106,
   "id": "df2d3abc",
   "metadata": {},
   "outputs": [
    {
     "data": {
      "text/plain": [
       "<re.Match object; span=(0, 10), match='1234567890'>"
      ]
     },
     "execution_count": 106,
     "metadata": {},
     "output_type": "execute_result"
    }
   ],
   "source": [
    "wholeStringIsNum.search('1234567890')"
   ]
  },
  {
   "cell_type": "code",
   "execution_count": 107,
   "id": "06695031",
   "metadata": {},
   "outputs": [
    {
     "data": {
      "text/plain": [
       "True"
      ]
     },
     "execution_count": 107,
     "metadata": {},
     "output_type": "execute_result"
    }
   ],
   "source": [
    "wholeStringIsNum.search('12345xyz67890') == None"
   ]
  },
  {
   "cell_type": "code",
   "execution_count": 108,
   "id": "7a3b1005",
   "metadata": {},
   "outputs": [
    {
     "data": {
      "text/plain": [
       "True"
      ]
     },
     "execution_count": 108,
     "metadata": {},
     "output_type": "execute_result"
    }
   ],
   "source": [
    "wholeStringIsNum.search('12 34567890') == None"
   ]
  },
  {
   "cell_type": "markdown",
   "id": "c09bb1f8",
   "metadata": {},
   "source": [
    "### Wildcard Character"
   ]
  },
  {
   "cell_type": "markdown",
   "id": "b23d83c3",
   "metadata": {},
   "source": [
    "The dot(.) character in a regular expression is called a wildcard and will match any character except for a newline. "
   ]
  },
  {
   "cell_type": "code",
   "execution_count": 109,
   "id": "aafa7d0e",
   "metadata": {},
   "outputs": [],
   "source": [
    "atRegex = re.compile(r'.at')"
   ]
  },
  {
   "cell_type": "code",
   "execution_count": 110,
   "id": "2d2a52a7",
   "metadata": {},
   "outputs": [
    {
     "data": {
      "text/plain": [
       "['cat', 'hat', 'sat', 'lat', 'mat']"
      ]
     },
     "execution_count": 110,
     "metadata": {},
     "output_type": "execute_result"
    }
   ],
   "source": [
    "atRegex.findall('The cat in the hat sat on the flat mat.')"
   ]
  },
  {
   "cell_type": "code",
   "execution_count": 114,
   "id": "d66afb3b",
   "metadata": {},
   "outputs": [],
   "source": [
    "atRegex2 = re.compile(r'\\.at')"
   ]
  },
  {
   "cell_type": "code",
   "execution_count": 115,
   "id": "7880bb5f",
   "metadata": {},
   "outputs": [
    {
     "data": {
      "text/plain": [
       "[]"
      ]
     },
     "execution_count": 115,
     "metadata": {},
     "output_type": "execute_result"
    }
   ],
   "source": [
    "atRegex2.findall('The cat in the hat sat on the flat mat at home.')"
   ]
  },
  {
   "cell_type": "markdown",
   "id": "726c6233",
   "metadata": {},
   "source": [
    "#### Matching Everything with Dot-Star"
   ]
  },
  {
   "cell_type": "code",
   "execution_count": 116,
   "id": "660e0095",
   "metadata": {},
   "outputs": [],
   "source": [
    "nameRegex = re.compile(r'First Name: (.*) Last Name: (.*)')"
   ]
  },
  {
   "cell_type": "code",
   "execution_count": 117,
   "id": "7792ce9a",
   "metadata": {},
   "outputs": [],
   "source": [
    "mo = nameRegex.search('First Name: Al Last Name: Sweigart')"
   ]
  },
  {
   "cell_type": "code",
   "execution_count": 118,
   "id": "7469737c",
   "metadata": {},
   "outputs": [
    {
     "data": {
      "text/plain": [
       "'Al'"
      ]
     },
     "execution_count": 118,
     "metadata": {},
     "output_type": "execute_result"
    }
   ],
   "source": [
    "mo.group(1)"
   ]
  },
  {
   "cell_type": "code",
   "execution_count": 119,
   "id": "e7a8de45",
   "metadata": {},
   "outputs": [
    {
     "data": {
      "text/plain": [
       "'Sweigart'"
      ]
     },
     "execution_count": 119,
     "metadata": {},
     "output_type": "execute_result"
    }
   ],
   "source": [
    "mo.group(2)"
   ]
  },
  {
   "cell_type": "markdown",
   "id": "28ab51e6",
   "metadata": {},
   "source": [
    "the dot means 'any single character except newline.' and the star character means 'zero or more of the preceding character'"
   ]
  },
  {
   "cell_type": "code",
   "execution_count": 120,
   "id": "8d3bdec6",
   "metadata": {},
   "outputs": [],
   "source": [
    "nongreedyRegex = re.compile(r'<.*?>')"
   ]
  },
  {
   "cell_type": "code",
   "execution_count": 121,
   "id": "a2757101",
   "metadata": {},
   "outputs": [],
   "source": [
    "mo = nongreedyRegex.search('<To serve man> for dinner.')"
   ]
  },
  {
   "cell_type": "code",
   "execution_count": 122,
   "id": "85003f7e",
   "metadata": {},
   "outputs": [
    {
     "data": {
      "text/plain": [
       "'<To serve man>'"
      ]
     },
     "execution_count": 122,
     "metadata": {},
     "output_type": "execute_result"
    }
   ],
   "source": [
    "mo.group()"
   ]
  },
  {
   "cell_type": "code",
   "execution_count": 123,
   "id": "33373768",
   "metadata": {},
   "outputs": [],
   "source": [
    "greedyRegex = re.compile(r'<.*>')"
   ]
  },
  {
   "cell_type": "code",
   "execution_count": 126,
   "id": "9f1f8995",
   "metadata": {},
   "outputs": [],
   "source": [
    "mo = greedyRegex.search('<To serve man> for dinner.>')"
   ]
  },
  {
   "cell_type": "code",
   "execution_count": 127,
   "id": "d41a6c0d",
   "metadata": {},
   "outputs": [
    {
     "data": {
      "text/plain": [
       "'<To serve man> for dinner.>'"
      ]
     },
     "execution_count": 127,
     "metadata": {},
     "output_type": "execute_result"
    }
   ],
   "source": [
    "mo.group()"
   ]
  },
  {
   "cell_type": "markdown",
   "id": "971109a6",
   "metadata": {},
   "source": [
    "Both regexes roughly translate to 'Match an opening angle bracket, followed by anything, followed by a closing angle bracket.'"
   ]
  },
  {
   "cell_type": "markdown",
   "id": "1258edd1",
   "metadata": {},
   "source": [
    "#### Matching Newlines with the Dot Character"
   ]
  },
  {
   "cell_type": "code",
   "execution_count": 128,
   "id": "d8158b32",
   "metadata": {},
   "outputs": [],
   "source": [
    "noNewLineRegex = re.compile('.*')"
   ]
  },
  {
   "cell_type": "code",
   "execution_count": 139,
   "id": "eabc7e83",
   "metadata": {},
   "outputs": [
    {
     "data": {
      "text/plain": [
       "'Serve the public trust.'"
      ]
     },
     "execution_count": 139,
     "metadata": {},
     "output_type": "execute_result"
    }
   ],
   "source": [
    "noNewLineRegex.search(\n",
    "    'Serve the public trust.\\nProtect the innocent.' \n",
    "    '\\nUphold the law.').group()"
   ]
  },
  {
   "cell_type": "code",
   "execution_count": 138,
   "id": "5c1bb712",
   "metadata": {},
   "outputs": [],
   "source": [
    "newlineRegex = re.compile('.*', re.DOTALL)"
   ]
  },
  {
   "cell_type": "code",
   "execution_count": 140,
   "id": "cfcfbe40",
   "metadata": {},
   "outputs": [
    {
     "data": {
      "text/plain": [
       "'Serve the public trust.\\nProtect the innocent\\nUphold the law.'"
      ]
     },
     "execution_count": 140,
     "metadata": {},
     "output_type": "execute_result"
    }
   ],
   "source": [
    "newlineRegex.search('Serve the public trust.\\nProtect the innocent'\n",
    "                   '\\nUphold the law.').group()"
   ]
  },
  {
   "cell_type": "markdown",
   "id": "012a8d61",
   "metadata": {},
   "source": [
    "#### Case-Insensitive Matching"
   ]
  },
  {
   "cell_type": "code",
   "execution_count": 141,
   "id": "15c3ddc4",
   "metadata": {},
   "outputs": [],
   "source": [
    "regex1 = re.compile('RobCop')"
   ]
  },
  {
   "cell_type": "code",
   "execution_count": 142,
   "id": "874f0c08",
   "metadata": {},
   "outputs": [],
   "source": [
    "regex2 = re.compile('ROBOCOP')"
   ]
  },
  {
   "cell_type": "code",
   "execution_count": 143,
   "id": "e95ac043",
   "metadata": {},
   "outputs": [],
   "source": [
    "regex3 = re.compile('robOcop')"
   ]
  },
  {
   "cell_type": "code",
   "execution_count": 144,
   "id": "41c89298",
   "metadata": {},
   "outputs": [],
   "source": [
    "regex4 = re.compile('RobocOp')"
   ]
  },
  {
   "cell_type": "markdown",
   "id": "f198f073",
   "metadata": {},
   "source": [
    "But sometimes our only concern is to match the letters irrespective of the case"
   ]
  },
  {
   "cell_type": "code",
   "execution_count": 145,
   "id": "7fb053d6",
   "metadata": {},
   "outputs": [],
   "source": [
    "robocop = re.compile(r'robocop', re.I)"
   ]
  },
  {
   "cell_type": "code",
   "execution_count": 146,
   "id": "4f4a4308",
   "metadata": {},
   "outputs": [
    {
     "data": {
      "text/plain": [
       "'RoboCop'"
      ]
     },
     "execution_count": 146,
     "metadata": {},
     "output_type": "execute_result"
    }
   ],
   "source": [
    "robocop.search('RoboCop is part man, part machine, all cop.').group()"
   ]
  },
  {
   "cell_type": "code",
   "execution_count": 148,
   "id": "91fc98c2",
   "metadata": {},
   "outputs": [
    {
     "data": {
      "text/plain": [
       "'ROBOCOP'"
      ]
     },
     "execution_count": 148,
     "metadata": {},
     "output_type": "execute_result"
    }
   ],
   "source": [
    "robocop.search('ROBOCOP protects the innocent').group()"
   ]
  },
  {
   "cell_type": "code",
   "execution_count": 149,
   "id": "e9d45639",
   "metadata": {},
   "outputs": [
    {
     "data": {
      "text/plain": [
       "'robocop'"
      ]
     },
     "execution_count": 149,
     "metadata": {},
     "output_type": "execute_result"
    }
   ],
   "source": [
    "robocop.search('Al, why does your programming book' \n",
    "               'talk about robocop so much?').group()"
   ]
  },
  {
   "cell_type": "markdown",
   "id": "1de0bf16",
   "metadata": {},
   "source": [
    "#### Substituting Strings with the sub() Method"
   ]
  },
  {
   "cell_type": "markdown",
   "id": "41f1750c",
   "metadata": {},
   "source": [
    "The sub() method for Regex objects is passed two arguments. The first argument is a string to replace any matches. The second is the string for the regular expression. The sub() method returns a string with the substitutions applied."
   ]
  },
  {
   "cell_type": "code",
   "execution_count": 150,
   "id": "ddb14d1f",
   "metadata": {},
   "outputs": [],
   "source": [
    "namesRegex = re.compile(r'Agent \\w+')"
   ]
  },
  {
   "cell_type": "code",
   "execution_count": 151,
   "id": "bbd07c03",
   "metadata": {},
   "outputs": [
    {
     "data": {
      "text/plain": [
       "'CENSORED gave the secret documentsto CENSORED.'"
      ]
     },
     "execution_count": 151,
     "metadata": {},
     "output_type": "execute_result"
    }
   ],
   "source": [
    "namesRegex.sub('CENSORED', 'Agent Alice gave the secret documents'\n",
    "              'to Agent Bob.')"
   ]
  },
  {
   "cell_type": "code",
   "execution_count": 156,
   "id": "ff49817f",
   "metadata": {},
   "outputs": [],
   "source": [
    "agentNamesRegex = re.compile(r'Agent (\\w)\\w*')"
   ]
  },
  {
   "cell_type": "code",
   "execution_count": 160,
   "id": "93c7c8cc",
   "metadata": {},
   "outputs": [
    {
     "data": {
      "text/plain": [
       "'A**** told C**** that E**** knew B**** was a double agent'"
      ]
     },
     "execution_count": 160,
     "metadata": {},
     "output_type": "execute_result"
    }
   ],
   "source": [
    "agentNamesRegex.sub(r'\\1****', 'Agent Alice told Agent Carol that ' \n",
    "                    'Agent Eve knew Agent Bob was a double agent')"
   ]
  },
  {
   "cell_type": "markdown",
   "id": "009ab03b",
   "metadata": {},
   "source": [
    "## PROJECT: PHONE NUMBER AND EMAIL ADDRESS EXTRACTOR"
   ]
  },
  {
   "cell_type": "markdown",
   "id": "de3c7084",
   "metadata": {},
   "source": [
    "<p>Your phone and email address extractor will need to do the following:<p>\n",
    "    <ol>\n",
    "        <li>Get the text off the clipboard.</li>\n",
    "        <li>Find all phone numbers and email addresses in the text.</li>\n",
    "        <li>Paste them onto the clipboard.</li>\n",
    "    </ol>\n",
    "<p>Now you an start thinking about how this might work in code. The code will need to do the following</p>\n",
    "    <ol>\n",
    "    <li>Use the pyperclip module to copy and paste strings.</li>\n",
    "    <li>Create two regexes, one for matching phone numbers and the other for matching email addresses.</li>\n",
    "    <li>Find all matches, not just the first match, of both regexes</li>\n",
    "    <li>   Neatly format the matched strings into a single string to paste.</li>\n",
    "    <li>Display some kind of message if no matches were found in the text</li>\n",
    "    </ol>"
   ]
  },
  {
   "cell_type": "markdown",
   "id": "a69f34ab",
   "metadata": {},
   "source": [
    "#### <i>Step1: Create a Regex for Phone Numbers</i>"
   ]
  },
  {
   "cell_type": "code",
   "execution_count": null,
   "id": "7d9d5328",
   "metadata": {},
   "outputs": [],
   "source": []
  },
  {
   "cell_type": "code",
   "execution_count": 7,
   "id": "922383b2",
   "metadata": {},
   "outputs": [],
   "source": [
    "network_part = \"192.168.2.\"\n",
    "host_parts = [20, 40, 60]"
   ]
  },
  {
   "cell_type": "code",
   "execution_count": 9,
   "id": "60781793",
   "metadata": {},
   "outputs": [
    {
     "name": "stdout",
     "output_type": "stream",
     "text": [
      "The router IP is: 192.168.2.20\n",
      "The router IP is: 192.168.2.40\n",
      "The router IP is: 192.168.2.60\n"
     ]
    }
   ],
   "source": [
    "for idx in range(len(host_parts)):\n",
    "    host_part = host_parts[idx]\n",
    "    ip = network_part + str(host_part)\n",
    "    print('The router IP is: ' + ip)"
   ]
  },
  {
   "cell_type": "code",
   "execution_count": null,
   "id": "ef246090",
   "metadata": {},
   "outputs": [],
   "source": []
  },
  {
   "cell_type": "code",
   "execution_count": null,
   "id": "dfa63a92",
   "metadata": {},
   "outputs": [],
   "source": []
  },
  {
   "cell_type": "code",
   "execution_count": null,
   "id": "10a25f7c",
   "metadata": {},
   "outputs": [],
   "source": []
  },
  {
   "cell_type": "code",
   "execution_count": null,
   "id": "20f7f038",
   "metadata": {},
   "outputs": [],
   "source": []
  },
  {
   "cell_type": "markdown",
   "id": "057a1d28",
   "metadata": {},
   "source": [
    "### Project Work: Date Detection"
   ]
  },
  {
   "cell_type": "markdown",
   "id": "b4bcbc6a",
   "metadata": {},
   "source": [
    "Write a regular expression that can detect dates in the <i>DD/MM/YYYY</i> format. Assume that the days range from 01 to 31, the months range from 01 to 12, and the years range from 1000 to 2999. Note that if the day or month is a single digit, it'll have a leading zero.\n",
    "\n",
    "The regular expression doesn't have to detect correct days for each month or for leap years; it will accept nonexistent dates like 31/02/2020 or 31/04/2021. Then store these strings into variables named <b>month, day</b> and <b>year</b>, and write additional code that can detect if it is a valid date. April, June, September, and November have 30 days, February has 28 days, and the rest of the months have 31 days. February has 29 days in leap years. Leap years are every year evenly divisible by 4, 100 or 400. "
   ]
  },
  {
   "cell_type": "code",
   "execution_count": 22,
   "id": "e3ad0ceb",
   "metadata": {},
   "outputs": [
    {
     "name": "stdout",
     "output_type": "stream",
     "text": [
      "Enter date: 04/06/2020\n"
     ]
    }
   ],
   "source": [
    "\n",
    "#Step 1: Get dates to verify\n",
    "    \n",
    "getdate = input('Enter date: ')\n",
    "    "
   ]
  },
  {
   "cell_type": "code",
   "execution_count": 43,
   "id": "13f2ee62",
   "metadata": {},
   "outputs": [],
   "source": [
    "#Create date regular expression\n",
    "dateRegex = re.compile(r'''(\n",
    "    [1-31]+\n",
    "    [\\/]+\n",
    "    [1-12]+\n",
    "    [\\/]+\n",
    "    [1000 - 2999])\n",
    "    \n",
    "''')\n"
   ]
  },
  {
   "cell_type": "code",
   "execution_count": 44,
   "id": "132f03ad",
   "metadata": {},
   "outputs": [
    {
     "data": {
      "text/plain": [
       "'04/06/2020'"
      ]
     },
     "execution_count": 44,
     "metadata": {},
     "output_type": "execute_result"
    }
   ],
   "source": [
    "getdate"
   ]
  },
  {
   "cell_type": "code",
   "execution_count": 45,
   "id": "4c1c40fa",
   "metadata": {},
   "outputs": [],
   "source": [
    "di = dateRegex.search(getdate)"
   ]
  },
  {
   "cell_type": "code",
   "execution_count": 46,
   "id": "e8f796af",
   "metadata": {},
   "outputs": [
    {
     "ename": "AttributeError",
     "evalue": "'NoneType' object has no attribute 'groups'",
     "output_type": "error",
     "traceback": [
      "\u001b[1;31m---------------------------------------------------------------------------\u001b[0m",
      "\u001b[1;31mAttributeError\u001b[0m                            Traceback (most recent call last)",
      "Input \u001b[1;32mIn [46]\u001b[0m, in \u001b[0;36m<module>\u001b[1;34m\u001b[0m\n\u001b[1;32m----> 1\u001b[0m \u001b[43mdi\u001b[49m\u001b[38;5;241;43m.\u001b[39;49m\u001b[43mgroups\u001b[49m\n",
      "\u001b[1;31mAttributeError\u001b[0m: 'NoneType' object has no attribute 'groups'"
     ]
    }
   ],
   "source": [
    "di.groups"
   ]
  },
  {
   "cell_type": "code",
   "execution_count": null,
   "id": "2aeb187e",
   "metadata": {},
   "outputs": [],
   "source": []
  }
 ],
 "metadata": {
  "kernelspec": {
   "display_name": "Python 3 (ipykernel)",
   "language": "python",
   "name": "python3"
  },
  "language_info": {
   "codemirror_mode": {
    "name": "ipython",
    "version": 3
   },
   "file_extension": ".py",
   "mimetype": "text/x-python",
   "name": "python",
   "nbconvert_exporter": "python",
   "pygments_lexer": "ipython3",
   "version": "3.9.6"
  }
 },
 "nbformat": 4,
 "nbformat_minor": 5
}
