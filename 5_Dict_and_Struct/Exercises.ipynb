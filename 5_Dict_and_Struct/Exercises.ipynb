{
 "cells": [
  {
   "cell_type": "markdown",
   "id": "62a4d457",
   "metadata": {},
   "source": [
    "<p><b>1. </b>If a dictionary is stored in spam, what is the difference between the expression 'cat' in spam and 'cat' in spam.values()? </p>"
   ]
  },
  {
   "cell_type": "code",
   "execution_count": 3,
   "id": "edf19a22",
   "metadata": {},
   "outputs": [],
   "source": [
    "spam = {'color': 'red', 'age': 42}"
   ]
  },
  {
   "cell_type": "code",
   "execution_count": 4,
   "id": "60e5aa69",
   "metadata": {},
   "outputs": [
    {
     "data": {
      "text/plain": [
       "False"
      ]
     },
     "execution_count": 4,
     "metadata": {},
     "output_type": "execute_result"
    }
   ],
   "source": [
    "'cat' in spam"
   ]
  },
  {
   "cell_type": "code",
   "execution_count": 5,
   "id": "d7056d08",
   "metadata": {},
   "outputs": [
    {
     "data": {
      "text/plain": [
       "False"
      ]
     },
     "execution_count": 5,
     "metadata": {},
     "output_type": "execute_result"
    }
   ],
   "source": [
    "'cat' in spam.values()"
   ]
  },
  {
   "cell_type": "markdown",
   "id": "8782cece",
   "metadata": {},
   "source": [
    "<h4><b>2. Fantasy Game Inventory</b></h4><p>You are creating a fantasy video game. The data structure to model the player's inventory will be a dictionary where the keys are string values describing the item in the inventory and the value is an integer value detailing how many of that item the player has. For example, the dictionary value {'rope': 1, 'torch': 6, 'gold coin': 42, 'dagger': 1, 'arrow': 12} means the player has 1 rope, 6 torches, 42 gold coins, and so on.</p><p>Write a function named displayInventory() that would take any possible 'inventory' and display."
   ]
  },
  {
   "cell_type": "code",
   "execution_count": 56,
   "id": "e7a2a3d8",
   "metadata": {},
   "outputs": [],
   "source": [
    "inventory = {'rope': 1, 'torch': 6, 'gold coin': 42, 'dagger': 1, 'arrow': 12}\n",
    "\n",
    "def displayInventory(inv):\n",
    "    num = 0\n",
    "    for ke, va in inv.items():\n",
    "        print(va, ke)\n",
    "        num = num + inv.get(ke, 0)\n",
    "    print('Total number of items:', num)"
   ]
  },
  {
   "cell_type": "code",
   "execution_count": 57,
   "id": "ff680234",
   "metadata": {},
   "outputs": [
    {
     "name": "stdout",
     "output_type": "stream",
     "text": [
      "1 rope\n",
      "6 torch\n",
      "42 gold coin\n",
      "1 dagger\n",
      "12 arrow\n",
      "Total number of items: 62\n"
     ]
    }
   ],
   "source": [
    "displayInventory(inventory)"
   ]
  },
  {
   "cell_type": "code",
   "execution_count": null,
   "id": "9a7752a1",
   "metadata": {},
   "outputs": [],
   "source": []
  }
 ],
 "metadata": {
  "kernelspec": {
   "display_name": "Python 3",
   "language": "python",
   "name": "python3"
  },
  "language_info": {
   "codemirror_mode": {
    "name": "ipython",
    "version": 3
   },
   "file_extension": ".py",
   "mimetype": "text/x-python",
   "name": "python",
   "nbconvert_exporter": "python",
   "pygments_lexer": "ipython3",
   "version": "3.9.6"
  }
 },
 "nbformat": 4,
 "nbformat_minor": 5
}
