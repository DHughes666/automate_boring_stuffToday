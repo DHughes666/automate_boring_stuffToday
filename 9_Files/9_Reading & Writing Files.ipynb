{
 "cells": [
  {
   "cell_type": "markdown",
   "id": "5f485f5f",
   "metadata": {},
   "source": [
    "# READING & WRITING FILES"
   ]
  },
  {
   "cell_type": "code",
   "execution_count": 1,
   "id": "b583c96d",
   "metadata": {},
   "outputs": [],
   "source": [
    "from pathlib import Path"
   ]
  },
  {
   "cell_type": "code",
   "execution_count": 2,
   "id": "739fa04e",
   "metadata": {},
   "outputs": [
    {
     "data": {
      "text/plain": [
       "WindowsPath('spam/bacon/eggs')"
      ]
     },
     "execution_count": 2,
     "metadata": {},
     "output_type": "execute_result"
    }
   ],
   "source": [
    "Path('spam', 'bacon', 'eggs')"
   ]
  },
  {
   "cell_type": "code",
   "execution_count": 3,
   "id": "d4a90e81",
   "metadata": {},
   "outputs": [
    {
     "data": {
      "text/plain": [
       "'spam\\\\bacon\\\\egss'"
      ]
     },
     "execution_count": 3,
     "metadata": {},
     "output_type": "execute_result"
    }
   ],
   "source": [
    "str(Path('spam', 'bacon', 'egss'))"
   ]
  },
  {
   "cell_type": "code",
   "execution_count": 4,
   "id": "13195c56",
   "metadata": {},
   "outputs": [],
   "source": [
    "myFiles = ['file1.txt', 'file2.csv', 'file3.docx']"
   ]
  },
  {
   "cell_type": "code",
   "execution_count": 5,
   "id": "bd96151b",
   "metadata": {},
   "outputs": [
    {
     "name": "stdout",
     "output_type": "stream",
     "text": [
      "E:\\Lux\\Python\\Automate_Boring_Stuffs\\9_Files\\file1.txt\n",
      "E:\\Lux\\Python\\Automate_Boring_Stuffs\\9_Files\\file2.csv\n",
      "E:\\Lux\\Python\\Automate_Boring_Stuffs\\9_Files\\file3.docx\n"
     ]
    }
   ],
   "source": [
    "for filename in myFiles:\n",
    "    print(Path(r'E:\\Lux\\Python\\Automate_Boring_Stuffs\\9_Files', filename))"
   ]
  },
  {
   "cell_type": "code",
   "execution_count": 6,
   "id": "714e84f2",
   "metadata": {},
   "outputs": [
    {
     "data": {
      "text/plain": [
       "WindowsPath('spam/bacon/egss')"
      ]
     },
     "execution_count": 6,
     "metadata": {},
     "output_type": "execute_result"
    }
   ],
   "source": [
    "Path('spam') /'bacon'/'egss'"
   ]
  },
  {
   "cell_type": "code",
   "execution_count": 7,
   "id": "785ab47c",
   "metadata": {},
   "outputs": [
    {
     "data": {
      "text/plain": [
       "WindowsPath('spam/bacon/eggs')"
      ]
     },
     "execution_count": 7,
     "metadata": {},
     "output_type": "execute_result"
    }
   ],
   "source": [
    "Path('spam')/Path('bacon/eggs')"
   ]
  },
  {
   "cell_type": "code",
   "execution_count": 8,
   "id": "bdfed745",
   "metadata": {},
   "outputs": [
    {
     "data": {
      "text/plain": [
       "WindowsPath('spam/bacon/eggs')"
      ]
     },
     "execution_count": 8,
     "metadata": {},
     "output_type": "execute_result"
    }
   ],
   "source": [
    "Path('spam') / Path('bacon', 'eggs')"
   ]
  },
  {
   "cell_type": "code",
   "execution_count": 9,
   "id": "896616da",
   "metadata": {},
   "outputs": [],
   "source": [
    "homeFolder = r'E:\\Lux\\Python\\Automate_Boring_Stuffs'"
   ]
  },
  {
   "cell_type": "code",
   "execution_count": 10,
   "id": "9cc76fce",
   "metadata": {},
   "outputs": [],
   "source": [
    "subFolder = 'spam'"
   ]
  },
  {
   "cell_type": "code",
   "execution_count": 11,
   "id": "fdeaf20e",
   "metadata": {},
   "outputs": [
    {
     "data": {
      "text/plain": [
       "'E:\\\\Lux\\\\Python\\\\Automate_Boring_Stuffs\\\\spam'"
      ]
     },
     "execution_count": 11,
     "metadata": {},
     "output_type": "execute_result"
    }
   ],
   "source": [
    "homeFolder + '\\\\' + subFolder"
   ]
  },
  {
   "cell_type": "code",
   "execution_count": 12,
   "id": "f2fe345f",
   "metadata": {},
   "outputs": [
    {
     "data": {
      "text/plain": [
       "'E:\\\\Lux\\\\Python\\\\Automate_Boring_Stuffs\\\\spam'"
      ]
     },
     "execution_count": 12,
     "metadata": {},
     "output_type": "execute_result"
    }
   ],
   "source": [
    "'\\\\'.join([homeFolder, subFolder])"
   ]
  },
  {
   "cell_type": "markdown",
   "id": "65a4a2f4",
   "metadata": {},
   "source": [
    "The /math division operator joins paths correctly, no matter what operating system your code is running on"
   ]
  },
  {
   "cell_type": "code",
   "execution_count": 14,
   "id": "5244c57f",
   "metadata": {},
   "outputs": [],
   "source": [
    "homeFolder = Path('E:\\Lux\\Python\\Automate_Boring_Stuffs')"
   ]
  },
  {
   "cell_type": "code",
   "execution_count": 15,
   "id": "85779171",
   "metadata": {},
   "outputs": [],
   "source": [
    "subFolder = Path('spam')"
   ]
  },
  {
   "cell_type": "code",
   "execution_count": 16,
   "id": "0f3b3ed4",
   "metadata": {},
   "outputs": [
    {
     "data": {
      "text/plain": [
       "'E:\\\\Lux\\\\Python\\\\Automate_Boring_Stuffs\\\\spam'"
      ]
     },
     "execution_count": 16,
     "metadata": {},
     "output_type": "execute_result"
    }
   ],
   "source": [
    "str(homeFolder / subFolder)"
   ]
  },
  {
   "cell_type": "markdown",
   "id": "89650113",
   "metadata": {},
   "source": [
    "The only thing you need to keep in mind when using the / operator for joining paths is that one of the first two values must be a Path object"
   ]
  },
  {
   "cell_type": "markdown",
   "id": "30ef91b7",
   "metadata": {},
   "source": [
    "###### Python will give an error if you try entering the following into the interactive shell:"
   ]
  },
  {
   "cell_type": "code",
   "execution_count": 17,
   "id": "bce01b54",
   "metadata": {},
   "outputs": [
    {
     "ename": "TypeError",
     "evalue": "unsupported operand type(s) for /: 'str' and 'str'",
     "output_type": "error",
     "traceback": [
      "\u001b[1;31m---------------------------------------------------------------------------\u001b[0m",
      "\u001b[1;31mTypeError\u001b[0m                                 Traceback (most recent call last)",
      "Input \u001b[1;32mIn [17]\u001b[0m, in \u001b[0;36m<module>\u001b[1;34m\u001b[0m\n\u001b[1;32m----> 1\u001b[0m \u001b[38;5;124;43m'\u001b[39;49m\u001b[38;5;124;43mspam\u001b[39;49m\u001b[38;5;124;43m'\u001b[39;49m\u001b[43m \u001b[49m\u001b[38;5;241;43m/\u001b[39;49m\u001b[43m \u001b[49m\u001b[38;5;124;43m'\u001b[39;49m\u001b[38;5;124;43mbacon\u001b[39;49m\u001b[38;5;124;43m'\u001b[39;49m \u001b[38;5;241m/\u001b[39m \u001b[38;5;124m'\u001b[39m\u001b[38;5;124meggs\u001b[39m\u001b[38;5;124m'\u001b[39m\n",
      "\u001b[1;31mTypeError\u001b[0m: unsupported operand type(s) for /: 'str' and 'str'"
     ]
    }
   ],
   "source": [
    "'spam' / 'bacon' / 'eggs'"
   ]
  },
  {
   "cell_type": "markdown",
   "id": "033686a1",
   "metadata": {},
   "source": [
    "Every program that runs on your computer has a <i>current working directory,</i> or <i>cwd</i>. Any filenames or paths that do not begin with the root folder are assumed to be under the current working directory."
   ]
  },
  {
   "cell_type": "code",
   "execution_count": 18,
   "id": "09df9847",
   "metadata": {},
   "outputs": [],
   "source": [
    "import os"
   ]
  },
  {
   "cell_type": "code",
   "execution_count": 19,
   "id": "cb368ed8",
   "metadata": {},
   "outputs": [
    {
     "data": {
      "text/plain": [
       "WindowsPath('E:/Lux/Python/Automate_Boring_Stuffs')"
      ]
     },
     "execution_count": 19,
     "metadata": {},
     "output_type": "execute_result"
    }
   ],
   "source": [
    "Path.cwd()"
   ]
  },
  {
   "cell_type": "code",
   "execution_count": 20,
   "id": "1f89950a",
   "metadata": {},
   "outputs": [],
   "source": [
    "os.chdir('C:\\\\Windows\\\\System32')"
   ]
  },
  {
   "cell_type": "code",
   "execution_count": 21,
   "id": "e19043b1",
   "metadata": {},
   "outputs": [
    {
     "data": {
      "text/plain": [
       "WindowsPath('C:/Windows/System32')"
      ]
     },
     "execution_count": 21,
     "metadata": {},
     "output_type": "execute_result"
    }
   ],
   "source": [
    "Path.cwd()"
   ]
  },
  {
   "cell_type": "markdown",
   "id": "c0afb4dc",
   "metadata": {},
   "source": [
    "Here, the current directory is set to <i>E:\\Lux\\Python\\Automate_Boring_Stuffs</i>. When we change the current working directory to <i>C:\\Windows\\System32\\</i>, the filename <i>project.docx</i> is interpreted as <i>C:\\Windows\\System32\\project.docx</i>"
   ]
  },
  {
   "cell_type": "markdown",
   "id": "32318893",
   "metadata": {},
   "source": [
    "###### Python will display an error if you try to change to a directory that does not exist"
   ]
  },
  {
   "cell_type": "code",
   "execution_count": 22,
   "id": "9b6c78be",
   "metadata": {},
   "outputs": [
    {
     "ename": "FileNotFoundError",
     "evalue": "[WinError 2] The system cannot find the file specified: 'C:/ThisFolderDoesNotExist'",
     "output_type": "error",
     "traceback": [
      "\u001b[1;31m---------------------------------------------------------------------------\u001b[0m",
      "\u001b[1;31mFileNotFoundError\u001b[0m                         Traceback (most recent call last)",
      "Input \u001b[1;32mIn [22]\u001b[0m, in \u001b[0;36m<module>\u001b[1;34m\u001b[0m\n\u001b[1;32m----> 1\u001b[0m \u001b[43mos\u001b[49m\u001b[38;5;241;43m.\u001b[39;49m\u001b[43mchdir\u001b[49m\u001b[43m(\u001b[49m\u001b[38;5;124;43m'\u001b[39;49m\u001b[38;5;124;43mC:/ThisFolderDoesNotExist\u001b[39;49m\u001b[38;5;124;43m'\u001b[39;49m\u001b[43m)\u001b[49m\n",
      "\u001b[1;31mFileNotFoundError\u001b[0m: [WinError 2] The system cannot find the file specified: 'C:/ThisFolderDoesNotExist'"
     ]
    }
   ],
   "source": [
    "os.chdir('C:/ThisFolderDoesNotExist')"
   ]
  },
  {
   "cell_type": "markdown",
   "id": "5f13abee",
   "metadata": {},
   "source": [
    "There is no pathlib function for changing the working directory, because changing the current working directory while a program is running can often lead to subtle bugs."
   ]
  },
  {
   "cell_type": "code",
   "execution_count": 23,
   "id": "f57babff",
   "metadata": {},
   "outputs": [
    {
     "data": {
      "text/plain": [
       "WindowsPath('C:/Users/Admin')"
      ]
     },
     "execution_count": 23,
     "metadata": {},
     "output_type": "execute_result"
    }
   ],
   "source": [
    "Path.home()"
   ]
  },
  {
   "cell_type": "markdown",
   "id": "c52a2c01",
   "metadata": {},
   "source": [
    "#### Absolute vs. Relative Paths"
   ]
  },
  {
   "cell_type": "markdown",
   "id": "b9262d07",
   "metadata": {},
   "source": [
    "There are two ways to specify a file path:\n",
    "    \n",
    "**1** An <i>absolute path</i>, which always begins with the root folder\n",
    "\n",
    "**2** A <i>relative path</i>, which is relative to the program's current working directory"
   ]
  },
  {
   "cell_type": "markdown",
   "id": "1320715d",
   "metadata": {},
   "source": [
    "There are also the <i>dot (.)</i> and <i>dot-dot (..)</i> folders. These are not real folders but special names that can be used in a path. A single ('dot') for a folder name is shorthand for 'this directory'. Two periods ('dot-dot') means 'the parent folder.'"
   ]
  },
  {
   "cell_type": "markdown",
   "id": "580524ba",
   "metadata": {},
   "source": [
    "#### Creating New Folders Using the os.makedirs() Function"
   ]
  },
  {
   "cell_type": "code",
   "execution_count": 36,
   "id": "ae494ec7",
   "metadata": {},
   "outputs": [],
   "source": [
    "os.chdir('E:\\Lux\\Python\\Automate_Boring_Stuffs')"
   ]
  },
  {
   "cell_type": "code",
   "execution_count": 24,
   "id": "8a3c45e6",
   "metadata": {},
   "outputs": [],
   "source": [
    "os.makedirs('C:\\\\delicious\\\\walnut\\\\waffles')"
   ]
  },
  {
   "cell_type": "markdown",
   "id": "8e3ed551",
   "metadata": {},
   "source": [
    "To make a directory from a Path object, call the mkdir() method. "
   ]
  },
  {
   "cell_type": "code",
   "execution_count": 26,
   "id": "c05e3897",
   "metadata": {},
   "outputs": [],
   "source": [
    "Path(r'E:\\Lux\\Python\\Automate_Boring_Stuffs\\9_Files\\spam').mkdir()"
   ]
  },
  {
   "cell_type": "markdown",
   "id": "165ff9e3",
   "metadata": {},
   "source": [
    "###### Handling Absolute and Relative Paths"
   ]
  },
  {
   "cell_type": "code",
   "execution_count": 27,
   "id": "97dc0f54",
   "metadata": {},
   "outputs": [
    {
     "data": {
      "text/plain": [
       "WindowsPath('C:/Windows/System32')"
      ]
     },
     "execution_count": 27,
     "metadata": {},
     "output_type": "execute_result"
    }
   ],
   "source": [
    "Path.cwd()"
   ]
  },
  {
   "cell_type": "code",
   "execution_count": 28,
   "id": "db3c881c",
   "metadata": {},
   "outputs": [
    {
     "data": {
      "text/plain": [
       "True"
      ]
     },
     "execution_count": 28,
     "metadata": {},
     "output_type": "execute_result"
    }
   ],
   "source": [
    "Path.cwd().is_absolute()"
   ]
  },
  {
   "cell_type": "code",
   "execution_count": 30,
   "id": "b05f1cd7",
   "metadata": {},
   "outputs": [
    {
     "data": {
      "text/plain": [
       "False"
      ]
     },
     "execution_count": 30,
     "metadata": {},
     "output_type": "execute_result"
    }
   ],
   "source": [
    "Path('spam/bacon/eggs').is_absolute()"
   ]
  },
  {
   "cell_type": "code",
   "execution_count": 31,
   "id": "491c206a",
   "metadata": {},
   "outputs": [
    {
     "data": {
      "text/plain": [
       "WindowsPath('my/relative/path')"
      ]
     },
     "execution_count": 31,
     "metadata": {},
     "output_type": "execute_result"
    }
   ],
   "source": [
    "Path('my/relative/path')"
   ]
  },
  {
   "cell_type": "code",
   "execution_count": 37,
   "id": "d4955022",
   "metadata": {},
   "outputs": [
    {
     "data": {
      "text/plain": [
       "WindowsPath('E:/Lux/Python/Automate_Boring_Stuffs/my/relative/path')"
      ]
     },
     "execution_count": 37,
     "metadata": {},
     "output_type": "execute_result"
    }
   ],
   "source": [
    "Path.cwd() / Path('my/relative/path')"
   ]
  },
  {
   "cell_type": "code",
   "execution_count": 38,
   "id": "bbde8e1d",
   "metadata": {},
   "outputs": [
    {
     "data": {
      "text/plain": [
       "WindowsPath('C:/Users/Admin/my/relative/path')"
      ]
     },
     "execution_count": 38,
     "metadata": {},
     "output_type": "execute_result"
    }
   ],
   "source": [
    "Path.home() / Path('my/relative/path')"
   ]
  },
  {
   "cell_type": "markdown",
   "id": "219b78f9",
   "metadata": {},
   "source": [
    "The os.path module also has some useful functions related to absolute and relative paths:\n",
    "    \n",
    "**1** Calling os.path.abspath(path) will return a string of the absolute path of the argument. This is an easy way to convert a relative path into an absolute one.\n",
    "\n",
    "**2** Calling os.path.isabs(path) will return True if the argument is an absolute path and False if it is a relative path.\n",
    "\n",
    "**3** Calling os.path.relpath(path, start) will return a string of a relative path from the <i>start</i> path to <i>path</i>. If <i>start</i> is not provided, the current working directory is used as the start path"
   ]
  },
  {
   "cell_type": "code",
   "execution_count": 39,
   "id": "1fa34799",
   "metadata": {},
   "outputs": [
    {
     "data": {
      "text/plain": [
       "'E:\\\\Lux\\\\Python\\\\Automate_Boring_Stuffs'"
      ]
     },
     "execution_count": 39,
     "metadata": {},
     "output_type": "execute_result"
    }
   ],
   "source": [
    "os.path.abspath('.')"
   ]
  },
  {
   "cell_type": "code",
   "execution_count": 40,
   "id": "f21ce2c0",
   "metadata": {},
   "outputs": [
    {
     "data": {
      "text/plain": [
       "'E:\\\\Lux\\\\Python\\\\Automate_Boring_Stuffs\\\\Scripts'"
      ]
     },
     "execution_count": 40,
     "metadata": {},
     "output_type": "execute_result"
    }
   ],
   "source": [
    "os.path.abspath('.\\\\Scripts')"
   ]
  },
  {
   "cell_type": "code",
   "execution_count": 41,
   "id": "c396b5ab",
   "metadata": {},
   "outputs": [
    {
     "data": {
      "text/plain": [
       "False"
      ]
     },
     "execution_count": 41,
     "metadata": {},
     "output_type": "execute_result"
    }
   ],
   "source": [
    "os.path.isabs('.')"
   ]
  },
  {
   "cell_type": "code",
   "execution_count": 43,
   "id": "c72c6a09",
   "metadata": {},
   "outputs": [
    {
     "data": {
      "text/plain": [
       "True"
      ]
     },
     "execution_count": 43,
     "metadata": {},
     "output_type": "execute_result"
    }
   ],
   "source": [
    "os.path.isabs(os.path.abspath('.'))"
   ]
  },
  {
   "cell_type": "code",
   "execution_count": 42,
   "id": "e4a0d326",
   "metadata": {},
   "outputs": [
    {
     "data": {
      "text/plain": [
       "'E:\\\\Lux\\\\Python'"
      ]
     },
     "execution_count": 42,
     "metadata": {},
     "output_type": "execute_result"
    }
   ],
   "source": [
    "os.path.abspath('..')"
   ]
  },
  {
   "cell_type": "code",
   "execution_count": 44,
   "id": "396f9a0f",
   "metadata": {},
   "outputs": [
    {
     "data": {
      "text/plain": [
       "'Windows'"
      ]
     },
     "execution_count": 44,
     "metadata": {},
     "output_type": "execute_result"
    }
   ],
   "source": [
    "os.path.relpath('C:\\\\Windows', 'C:\\\\')"
   ]
  },
  {
   "cell_type": "code",
   "execution_count": 45,
   "id": "72add6cf",
   "metadata": {},
   "outputs": [
    {
     "data": {
      "text/plain": [
       "'..\\\\..\\\\Windows'"
      ]
     },
     "execution_count": 45,
     "metadata": {},
     "output_type": "execute_result"
    }
   ],
   "source": [
    "os.path.relpath('C:\\\\Windows', 'C:\\\\spam\\\\eggs')"
   ]
  },
  {
   "cell_type": "markdown",
   "id": "80315312",
   "metadata": {},
   "source": [
    "##### Getting the Parts of File Path"
   ]
  },
  {
   "cell_type": "markdown",
   "id": "86254b8e",
   "metadata": {},
   "source": [
    "The parts of a file path include the following:\n",
    "    \n",
    "**1** The <i>anchor</i>, which is the root folder of the filesystem\n",
    "\n",
    "**2** On Windows, the <i>drive</i>, which is the single letter that often denotes a physical hard drive or other storage device\n",
    "\n",
    "**3** The <i>parent</i>, which is the folder that contains the file\n",
    "\n",
    "**4** The <i>name</i> of the file, made up of the <i>stem</i>(or <i>base name</i>) and the <i>suffix</i> (or <i>extension</i>)"
   ]
  },
  {
   "cell_type": "code",
   "execution_count": 47,
   "id": "1de7ef42",
   "metadata": {},
   "outputs": [],
   "source": [
    "p = Path('E:\\Lux\\Python\\Automate_Boring_Stuffs\\9_Files')"
   ]
  },
  {
   "cell_type": "code",
   "execution_count": 48,
   "id": "aec35c54",
   "metadata": {},
   "outputs": [
    {
     "data": {
      "text/plain": [
       "'E:\\\\'"
      ]
     },
     "execution_count": 48,
     "metadata": {},
     "output_type": "execute_result"
    }
   ],
   "source": [
    "p.anchor"
   ]
  },
  {
   "cell_type": "code",
   "execution_count": 49,
   "id": "01811d89",
   "metadata": {},
   "outputs": [
    {
     "data": {
      "text/plain": [
       "WindowsPath('E:/Lux/Python/Automate_Boring_Stuffs')"
      ]
     },
     "execution_count": 49,
     "metadata": {},
     "output_type": "execute_result"
    }
   ],
   "source": [
    "p.parent # This is a Path object, not a string."
   ]
  },
  {
   "cell_type": "code",
   "execution_count": 50,
   "id": "398c8984",
   "metadata": {},
   "outputs": [
    {
     "data": {
      "text/plain": [
       "'9_Files'"
      ]
     },
     "execution_count": 50,
     "metadata": {},
     "output_type": "execute_result"
    }
   ],
   "source": [
    "p.name"
   ]
  },
  {
   "cell_type": "code",
   "execution_count": 51,
   "id": "5d7b6a9b",
   "metadata": {},
   "outputs": [
    {
     "data": {
      "text/plain": [
       "'9_Files'"
      ]
     },
     "execution_count": 51,
     "metadata": {},
     "output_type": "execute_result"
    }
   ],
   "source": [
    "p.stem"
   ]
  },
  {
   "cell_type": "code",
   "execution_count": 52,
   "id": "1b146de3",
   "metadata": {},
   "outputs": [
    {
     "data": {
      "text/plain": [
       "''"
      ]
     },
     "execution_count": 52,
     "metadata": {},
     "output_type": "execute_result"
    }
   ],
   "source": [
    "p.suffix"
   ]
  },
  {
   "cell_type": "code",
   "execution_count": 53,
   "id": "d959418b",
   "metadata": {},
   "outputs": [
    {
     "data": {
      "text/plain": [
       "'E:'"
      ]
     },
     "execution_count": 53,
     "metadata": {},
     "output_type": "execute_result"
    }
   ],
   "source": [
    "p.drive"
   ]
  },
  {
   "cell_type": "code",
   "execution_count": 54,
   "id": "cdfd3cee",
   "metadata": {},
   "outputs": [],
   "source": [
    "m = Path('E:\\Lux\\Python\\Automate_Boring_Stuffs\\9_Files\\file2.csv')"
   ]
  },
  {
   "cell_type": "code",
   "execution_count": 55,
   "id": "3ec5263f",
   "metadata": {},
   "outputs": [
    {
     "data": {
      "text/plain": [
       "'E:\\\\'"
      ]
     },
     "execution_count": 55,
     "metadata": {},
     "output_type": "execute_result"
    }
   ],
   "source": [
    "m.anchor"
   ]
  },
  {
   "cell_type": "code",
   "execution_count": 56,
   "id": "7258af74",
   "metadata": {},
   "outputs": [
    {
     "data": {
      "text/plain": [
       "WindowsPath('E:/Lux/Python/Automate_Boring_Stuffs')"
      ]
     },
     "execution_count": 56,
     "metadata": {},
     "output_type": "execute_result"
    }
   ],
   "source": [
    "m.parent"
   ]
  },
  {
   "cell_type": "code",
   "execution_count": 57,
   "id": "44cfada0",
   "metadata": {},
   "outputs": [
    {
     "data": {
      "text/plain": [
       "'9_Files\\x0cile2.csv'"
      ]
     },
     "execution_count": 57,
     "metadata": {},
     "output_type": "execute_result"
    }
   ],
   "source": [
    "m.name"
   ]
  },
  {
   "cell_type": "code",
   "execution_count": 58,
   "id": "51e40fe0",
   "metadata": {},
   "outputs": [
    {
     "data": {
      "text/plain": [
       "'9_Files\\x0cile2'"
      ]
     },
     "execution_count": 58,
     "metadata": {},
     "output_type": "execute_result"
    }
   ],
   "source": [
    "m.stem"
   ]
  },
  {
   "cell_type": "code",
   "execution_count": 59,
   "id": "510e3f61",
   "metadata": {},
   "outputs": [
    {
     "data": {
      "text/plain": [
       "'.csv'"
      ]
     },
     "execution_count": 59,
     "metadata": {},
     "output_type": "execute_result"
    }
   ],
   "source": [
    "m.suffix"
   ]
  },
  {
   "cell_type": "code",
   "execution_count": 60,
   "id": "24f2a33b",
   "metadata": {},
   "outputs": [
    {
     "data": {
      "text/plain": [
       "'E:'"
      ]
     },
     "execution_count": 60,
     "metadata": {},
     "output_type": "execute_result"
    }
   ],
   "source": [
    "m.drive"
   ]
  },
  {
   "cell_type": "code",
   "execution_count": 61,
   "id": "e151c295",
   "metadata": {},
   "outputs": [
    {
     "data": {
      "text/plain": [
       "WindowsPath('E:/Lux/Python/Automate_Boring_Stuffs')"
      ]
     },
     "execution_count": 61,
     "metadata": {},
     "output_type": "execute_result"
    }
   ],
   "source": [
    "Path.cwd()"
   ]
  },
  {
   "cell_type": "code",
   "execution_count": 63,
   "id": "6c03ef93",
   "metadata": {},
   "outputs": [
    {
     "data": {
      "text/plain": [
       "WindowsPath('E:/Lux/Python')"
      ]
     },
     "execution_count": 63,
     "metadata": {},
     "output_type": "execute_result"
    }
   ],
   "source": [
    "Path.cwd().parents[0]"
   ]
  },
  {
   "cell_type": "code",
   "execution_count": 64,
   "id": "7c0f95da",
   "metadata": {},
   "outputs": [
    {
     "data": {
      "text/plain": [
       "WindowsPath('E:/Lux/Python')"
      ]
     },
     "execution_count": 64,
     "metadata": {},
     "output_type": "execute_result"
    }
   ],
   "source": [
    "Path.cwd().parent"
   ]
  },
  {
   "cell_type": "code",
   "execution_count": 65,
   "id": "487742f0",
   "metadata": {},
   "outputs": [
    {
     "data": {
      "text/plain": [
       "WindowsPath('E:/Lux')"
      ]
     },
     "execution_count": 65,
     "metadata": {},
     "output_type": "execute_result"
    }
   ],
   "source": [
    "Path.cwd().parents[1]"
   ]
  },
  {
   "cell_type": "code",
   "execution_count": 66,
   "id": "e909dba5",
   "metadata": {},
   "outputs": [
    {
     "data": {
      "text/plain": [
       "WindowsPath('E:/')"
      ]
     },
     "execution_count": 66,
     "metadata": {},
     "output_type": "execute_result"
    }
   ],
   "source": [
    "Path.cwd().parents[2]"
   ]
  },
  {
   "cell_type": "code",
   "execution_count": 67,
   "id": "823e70a9",
   "metadata": {},
   "outputs": [
    {
     "ename": "IndexError",
     "evalue": "3",
     "output_type": "error",
     "traceback": [
      "\u001b[1;31m---------------------------------------------------------------------------\u001b[0m",
      "\u001b[1;31mIndexError\u001b[0m                                Traceback (most recent call last)",
      "Input \u001b[1;32mIn [67]\u001b[0m, in \u001b[0;36m<module>\u001b[1;34m\u001b[0m\n\u001b[1;32m----> 1\u001b[0m \u001b[43mPath\u001b[49m\u001b[38;5;241;43m.\u001b[39;49m\u001b[43mcwd\u001b[49m\u001b[43m(\u001b[49m\u001b[43m)\u001b[49m\u001b[38;5;241;43m.\u001b[39;49m\u001b[43mparents\u001b[49m\u001b[43m[\u001b[49m\u001b[38;5;241;43m3\u001b[39;49m\u001b[43m]\u001b[49m\n",
      "File \u001b[1;32mC:\\edb\\languagepack\\v2\\Python-3.9\\lib\\pathlib.py:635\u001b[0m, in \u001b[0;36m_PathParents.__getitem__\u001b[1;34m(self, idx)\u001b[0m\n\u001b[0;32m    633\u001b[0m \u001b[38;5;28;01mdef\u001b[39;00m \u001b[38;5;21m__getitem__\u001b[39m(\u001b[38;5;28mself\u001b[39m, idx):\n\u001b[0;32m    634\u001b[0m     \u001b[38;5;28;01mif\u001b[39;00m idx \u001b[38;5;241m<\u001b[39m \u001b[38;5;241m0\u001b[39m \u001b[38;5;129;01mor\u001b[39;00m idx \u001b[38;5;241m>\u001b[39m\u001b[38;5;241m=\u001b[39m \u001b[38;5;28mlen\u001b[39m(\u001b[38;5;28mself\u001b[39m):\n\u001b[1;32m--> 635\u001b[0m         \u001b[38;5;28;01mraise\u001b[39;00m \u001b[38;5;167;01mIndexError\u001b[39;00m(idx)\n\u001b[0;32m    636\u001b[0m     \u001b[38;5;28;01mreturn\u001b[39;00m \u001b[38;5;28mself\u001b[39m\u001b[38;5;241m.\u001b[39m_pathcls\u001b[38;5;241m.\u001b[39m_from_parsed_parts(\u001b[38;5;28mself\u001b[39m\u001b[38;5;241m.\u001b[39m_drv, \u001b[38;5;28mself\u001b[39m\u001b[38;5;241m.\u001b[39m_root,\n\u001b[0;32m    637\u001b[0m                                             \u001b[38;5;28mself\u001b[39m\u001b[38;5;241m.\u001b[39m_parts[:\u001b[38;5;241m-\u001b[39midx \u001b[38;5;241m-\u001b[39m \u001b[38;5;241m1\u001b[39m])\n",
      "\u001b[1;31mIndexError\u001b[0m: 3"
     ]
    }
   ],
   "source": [
    "Path.cwd().parents[3]"
   ]
  },
  {
   "cell_type": "markdown",
   "id": "7430a054",
   "metadata": {},
   "source": [
    "Calling <i>os.path.dirname(path)</i> will return a string of everything that comes before the last slash in the path argument\n",
    "\n",
    "Calling <i>os.path.basename(path)</i> will return a string of everything aht comes after the last slash in the path argument"
   ]
  },
  {
   "cell_type": "code",
   "execution_count": 73,
   "id": "50f8a2e7",
   "metadata": {},
   "outputs": [],
   "source": [
    "calcFilePath = 'C:\\\\Windows\\\\System32\\\\calc.exe'"
   ]
  },
  {
   "cell_type": "code",
   "execution_count": 69,
   "id": "57bf9a77",
   "metadata": {},
   "outputs": [
    {
     "data": {
      "text/plain": [
       "'calc.exe'"
      ]
     },
     "execution_count": 69,
     "metadata": {},
     "output_type": "execute_result"
    }
   ],
   "source": [
    "os.path.basename(calcFilePath)"
   ]
  },
  {
   "cell_type": "code",
   "execution_count": 70,
   "id": "f5bb8f57",
   "metadata": {},
   "outputs": [
    {
     "data": {
      "text/plain": [
       "'C:\\\\Windows\\\\System32'"
      ]
     },
     "execution_count": 70,
     "metadata": {},
     "output_type": "execute_result"
    }
   ],
   "source": [
    "os.path.dirname(calcFilePath)"
   ]
  },
  {
   "cell_type": "markdown",
   "id": "f560efa8",
   "metadata": {},
   "source": [
    "To get both dir name and base name together, you can call os.path.split() to get a tuple value"
   ]
  },
  {
   "cell_type": "code",
   "execution_count": 71,
   "id": "51cf1368",
   "metadata": {},
   "outputs": [
    {
     "data": {
      "text/plain": [
       "('C:\\\\Windows\\\\System32', 'calc.exe')"
      ]
     },
     "execution_count": 71,
     "metadata": {},
     "output_type": "execute_result"
    }
   ],
   "source": [
    "os.path.split(calcFilePath)"
   ]
  },
  {
   "cell_type": "code",
   "execution_count": 72,
   "id": "636fb375",
   "metadata": {},
   "outputs": [
    {
     "data": {
      "text/plain": [
       "('C:\\\\Windows\\\\System32', 'calc.exe')"
      ]
     },
     "execution_count": 72,
     "metadata": {},
     "output_type": "execute_result"
    }
   ],
   "source": [
    "(os.path.dirname(calcFilePath), os.path.basename(calcFilePath))"
   ]
  },
  {
   "cell_type": "code",
   "execution_count": 75,
   "id": "b914c13b",
   "metadata": {},
   "outputs": [
    {
     "data": {
      "text/plain": [
       "['C:', 'Windows', 'System32', 'calc.exe']"
      ]
     },
     "execution_count": 75,
     "metadata": {},
     "output_type": "execute_result"
    }
   ],
   "source": [
    "calcFilePath.split(os.sep)"
   ]
  },
  {
   "cell_type": "markdown",
   "id": "22ffd49f",
   "metadata": {},
   "source": [
    "##### Finding File Sizes and Folder Contents"
   ]
  },
  {
   "cell_type": "markdown",
   "id": "c9ebed4d",
   "metadata": {},
   "source": [
    "Calling os.path.getsize(path) will return the size in bytes of the file in the path argument\n",
    "\n",
    "Calling os.listdir(path) will return a list of filename strings for each file in the path argument. (Note that this function is in the os module, not os.path)"
   ]
  },
  {
   "cell_type": "code",
   "execution_count": 76,
   "id": "bb3436a8",
   "metadata": {},
   "outputs": [
    {
     "data": {
      "text/plain": [
       "27648"
      ]
     },
     "execution_count": 76,
     "metadata": {},
     "output_type": "execute_result"
    }
   ],
   "source": [
    "os.path.getsize('C:\\\\Windows\\\\System32\\\\calc.exe')"
   ]
  },
  {
   "cell_type": "code",
   "execution_count": 77,
   "id": "12b4594d",
   "metadata": {},
   "outputs": [
    {
     "data": {
      "text/plain": [
       "['0409',\n",
       " '07409496-a423-4a3e-b620-2cfb01a9318d_HyperV-ComputeNetwork.dll',\n",
       " '1028',\n",
       " '1029',\n",
       " '1031',\n",
       " '1033',\n",
       " '1036',\n",
       " '1040',\n",
       " '1041',\n",
       " '1042',\n",
       " '1045',\n",
       " '1046',\n",
       " '1049',\n",
       " '1055',\n",
       " '2052',\n",
       " '3082',\n",
       " '69fe178f-26e7-43a9-aa7d-2b616b672dde_eventlogservice.dll',\n",
       " '6bea57fb-8dfb-4177-9ae8-42e8b3529933_RuntimeDeviceInstall.dll',\n",
       " '@AdvancedKeySettingsNotification.png',\n",
       " '@AppHelpToast.png',\n",
       " '@AudioToastIcon.png',\n",
       " '@BackgroundAccessToastIcon.png',\n",
       " '@bitlockertoastimage.png',\n",
       " '@edptoastimage.png',\n",
       " '@EnrollmentToastIcon.png',\n",
       " '@language_notification_icon.png',\n",
       " '@optionalfeatures.png',\n",
       " '@StorageSenseToastIcon.png',\n",
       " '@VpnToastIcon.png',\n",
       " '@windows-hello-V4.1.gif',\n",
       " '@WindowsHelloFaceToastIcon.png',\n",
       " '@WindowsUpdateToastIcon.contrast-black.png',\n",
       " '@WindowsUpdateToastIcon.contrast-white.png',\n",
       " '@WindowsUpdateToastIcon.png',\n",
       " '@WirelessDisplayToast.png',\n",
       " '@WLOGO_48x48.png',\n",
       " 'aadauthhelper.dll',\n",
       " 'aadcloudap.dll',\n",
       " 'aadjcsp.dll',\n",
       " 'aadtb.dll',\n",
       " 'aadWamExtension.dll',\n",
       " 'AarSvc.dll',\n",
       " 'AboutSettingsHandlers.dll',\n",
       " 'AboveLockAppHost.dll',\n",
       " 'accessibilitycpl.dll',\n",
       " 'accountaccessor.dll',\n",
       " 'AccountsRt.dll',\n",
       " 'AcGenral.dll',\n",
       " 'AcLayers.dll',\n",
       " 'acledit.dll',\n",
       " 'aclui.dll',\n",
       " 'acmigration.dll',\n",
       " 'ACPBackgroundManagerPolicy.dll',\n",
       " 'acppage.dll',\n",
       " 'acproxy.dll',\n",
       " 'AcSpecfc.dll',\n",
       " 'ActionCenter.dll',\n",
       " 'ActionCenterCPL.dll',\n",
       " 'ActionQueue.dll',\n",
       " 'ActivationClient.dll',\n",
       " 'ActivationManager.dll',\n",
       " 'activeds.dll',\n",
       " 'activeds.tlb',\n",
       " 'ActiveHours.png',\n",
       " 'ActiveSyncCsp.dll',\n",
       " 'ActiveSyncProvider.dll',\n",
       " 'actxprxy.dll',\n",
       " 'AcWinRT.dll',\n",
       " 'AcXtrnal.dll',\n",
       " 'adal.dll',\n",
       " 'AdaptiveCards.dll',\n",
       " 'AddressParser.dll',\n",
       " 'adhapi.dll',\n",
       " 'adhsvc.dll',\n",
       " 'AdmTmpl.dll',\n",
       " 'adprovider.dll',\n",
       " 'adrclient.dll',\n",
       " 'adsldp.dll',\n",
       " 'adsldpc.dll',\n",
       " 'adsmsext.dll',\n",
       " 'adsnt.dll',\n",
       " 'adtschema.dll',\n",
       " 'AdvancedEmojiDS.dll',\n",
       " 'AdvancedInstallers',\n",
       " 'advapi32.dll',\n",
       " 'advapi32res.dll',\n",
       " 'advpack.dll',\n",
       " 'aeevts.dll',\n",
       " 'aeinv.dll',\n",
       " 'aepic.dll',\n",
       " 'agentactivationruntime.dll',\n",
       " 'agentactivationruntimestarter.exe',\n",
       " 'agentactivationruntimewindows.dll',\n",
       " 'AgentService.exe',\n",
       " 'aitstatic.exe',\n",
       " 'AJRouter.dll',\n",
       " 'alg.exe',\n",
       " 'altspace.dll',\n",
       " 'am-et',\n",
       " 'amcompat.tlb',\n",
       " 'amsi.dll',\n",
       " 'amsiproxy.dll',\n",
       " 'amstream.dll',\n",
       " 'Analog.Shell.Broker.dll',\n",
       " 'AnalogCommonProxyStub.dll',\n",
       " 'apds.dll',\n",
       " 'APHostClient.dll',\n",
       " 'APHostRes.dll',\n",
       " 'APHostService.dll',\n",
       " 'apisampling.dll',\n",
       " 'ApiSetHost.AppExecutionAlias.dll',\n",
       " 'apisetschema.dll',\n",
       " 'APMon.dll',\n",
       " 'AppContracts.dll',\n",
       " 'AppExtension.dll',\n",
       " 'apphelp.dll',\n",
       " 'Apphlpdm.dll',\n",
       " 'AppHostRegistrationVerifier.exe',\n",
       " 'appidapi.dll',\n",
       " 'appidcertstorecheck.exe',\n",
       " 'appidpolicyconverter.exe',\n",
       " 'AppIdPolicyEngineApi.dll',\n",
       " 'appidsvc.dll',\n",
       " 'appidtel.exe',\n",
       " 'appinfo.dll',\n",
       " 'appinfoext.dll',\n",
       " 'AppInstallerPrompt.Desktop.dll',\n",
       " 'ApplicationControlCSP.dll',\n",
       " 'ApplicationFrame.dll',\n",
       " 'ApplicationFrameHost.exe',\n",
       " 'AppListBackupLauncher.dll',\n",
       " 'AppLocker',\n",
       " 'AppLockerCSP.dll',\n",
       " 'ApplySettingsTemplateCatalog.exe',\n",
       " 'ApplyTrustOffline.exe',\n",
       " 'AppManagementConfiguration.dll',\n",
       " 'appmgmt',\n",
       " 'appmgmts.dll',\n",
       " 'appmgr.dll',\n",
       " 'AppMon.dll',\n",
       " 'AppointmentActivation.dll',\n",
       " 'AppointmentApis.dll',\n",
       " 'appraiser',\n",
       " 'appraiser.dll',\n",
       " 'AppReadiness.dll',\n",
       " 'apprepapi.dll',\n",
       " 'AppResolver.dll',\n",
       " 'ApproveChildRequest.exe',\n",
       " 'appsruprov.dll',\n",
       " 'AppV',\n",
       " 'AppVCatalog.dll',\n",
       " 'AppVClient.exe',\n",
       " 'AppvClientEventLog.dll',\n",
       " 'AppVClientPS.dll',\n",
       " 'AppVDllSurrogate.exe',\n",
       " 'AppVEntStreamingManager.dll',\n",
       " 'AppVEntSubsystemController.dll',\n",
       " 'AppVEntSubsystems64.dll',\n",
       " 'AppVEntVirtualization.dll',\n",
       " 'appvetwclientres.dll',\n",
       " 'appvetwsharedperformance.dll',\n",
       " 'appvetwstreamingux.dll',\n",
       " 'AppVFileSystemMetadata.dll',\n",
       " 'AppVIntegration.dll',\n",
       " 'AppVManifest.dll',\n",
       " 'AppVNice.exe',\n",
       " 'AppVOrchestration.dll',\n",
       " 'AppVPolicy.dll',\n",
       " 'AppVPublishing.dll',\n",
       " 'AppVReporting.dll',\n",
       " 'AppVScripting.dll',\n",
       " 'AppVSentinel.dll',\n",
       " 'AppVShNotify.exe',\n",
       " 'AppVStreamingUX.dll',\n",
       " 'AppVStreamMap.dll',\n",
       " 'AppVTerminator.dll',\n",
       " 'appwiz.cpl',\n",
       " 'AppxAllUserStore.dll',\n",
       " 'AppXApplicabilityBlob.dll',\n",
       " 'AppxApplicabilityEngine.dll',\n",
       " 'AppXDeploymentClient.dll',\n",
       " 'AppXDeploymentExtensions.desktop.dll',\n",
       " 'AppXDeploymentExtensions.onecore.dll',\n",
       " 'AppXDeploymentServer.dll',\n",
       " 'AppxPackaging.dll',\n",
       " 'AppxProvisioning.xml',\n",
       " 'AppxSip.dll',\n",
       " 'AppxStreamingDataSourcePS.dll',\n",
       " 'AppxSysprep.dll',\n",
       " 'ar-SA',\n",
       " 'archiveint.dll',\n",
       " 'ARP.EXE',\n",
       " 'asferror.dll',\n",
       " 'aspnet_counters.dll',\n",
       " 'AssignedAccessCsp.dll',\n",
       " 'AssignedAccessGuard.exe',\n",
       " 'AssignedAccessManager.dll',\n",
       " 'assignedaccessmanagersvc.dll',\n",
       " 'assignedaccessproviderevents.dll',\n",
       " 'AssignedAccessRuntime.dll',\n",
       " 'AssignedAccessShellProxy.dll',\n",
       " 'asycfilt.dll',\n",
       " 'at.exe',\n",
       " 'AtBroker.exe',\n",
       " 'atl.dll',\n",
       " 'atl100.dll',\n",
       " 'atlthunk.dll',\n",
       " 'atmlib.dll',\n",
       " 'attrib.exe',\n",
       " 'audiodg.exe',\n",
       " 'AudioEndpointBuilder.dll',\n",
       " 'AudioEng.dll',\n",
       " 'AudioHandlers.dll',\n",
       " 'AUDIOKSE.dll',\n",
       " 'audioresourceregistrar.dll',\n",
       " 'AudioSes.dll',\n",
       " 'audiosrv.dll',\n",
       " 'AudioSrvPolicyManager.dll',\n",
       " 'auditcse.dll',\n",
       " 'AuditNativeSnapIn.dll',\n",
       " 'auditpol.exe',\n",
       " 'auditpolcore.dll',\n",
       " 'AuditPolicyGPInterop.dll',\n",
       " 'auditpolmsg.dll',\n",
       " 'AuthBroker.dll',\n",
       " 'AuthBrokerUI.dll',\n",
       " 'authentication.dll',\n",
       " 'AuthExt.dll',\n",
       " 'authfwcfg.dll',\n",
       " 'AuthFWGP.dll',\n",
       " 'AuthFWSnapin.dll',\n",
       " 'AuthFWWizFwk.dll',\n",
       " 'AuthHost.exe',\n",
       " 'AuthHostProxy.dll',\n",
       " 'authui.dll',\n",
       " 'authz.dll',\n",
       " 'autochk.exe',\n",
       " 'autoconv.exe',\n",
       " 'autofmt.exe',\n",
       " 'autopilot.dll',\n",
       " 'autopilotdiag.dll',\n",
       " 'autoplay.dll',\n",
       " 'autotimesvc.dll',\n",
       " 'AverageRoom.bin',\n",
       " 'avicap32.dll',\n",
       " 'avifil32.dll',\n",
       " 'avrt.dll',\n",
       " 'AxInstSv.dll',\n",
       " 'AxInstUI.exe',\n",
       " 'azman.msc',\n",
       " 'azroles.dll',\n",
       " 'azroleui.dll',\n",
       " 'AzSqlExt.dll',\n",
       " 'AzureSettingSyncProvider.dll',\n",
       " 'baaupdate.exe',\n",
       " 'BackgroundMediaPolicy.dll',\n",
       " 'backgroundTaskHost.exe',\n",
       " 'BackgroundTransferHost.exe',\n",
       " 'BamSettingsClient.dll',\n",
       " 'BarcodeProvisioningPlugin.dll',\n",
       " 'basecsp.dll',\n",
       " 'basesrv.dll',\n",
       " 'bash.exe',\n",
       " 'batmeter.dll',\n",
       " 'bcastdvr.proxy.dll',\n",
       " 'BcastDVRBroker.dll',\n",
       " 'BcastDVRClient.dll',\n",
       " 'BcastDVRCommon.dll',\n",
       " 'bcastdvruserservice.dll',\n",
       " 'bcd.dll',\n",
       " 'bcdboot.exe',\n",
       " 'bcdedit.exe',\n",
       " 'bcdprov.dll',\n",
       " 'bcdsrv.dll',\n",
       " 'BCP47Langs.dll',\n",
       " 'BCP47mrm.dll',\n",
       " 'bcrypt.dll',\n",
       " 'bcryptprimitives.dll',\n",
       " 'bdaplgin.ax',\n",
       " 'bdechangepin.exe',\n",
       " 'BdeHdCfg.exe',\n",
       " 'BdeHdCfgLib.dll',\n",
       " 'bderepair.dll',\n",
       " 'bdesvc.dll',\n",
       " 'BdeSysprep.dll',\n",
       " 'bdeui.dll',\n",
       " 'BdeUISrv.exe',\n",
       " 'bdeunlock.exe',\n",
       " 'BFE.DLL',\n",
       " 'bg-BG',\n",
       " 'bi.dll',\n",
       " 'bidispl.dll',\n",
       " 'bindfltapi.dll',\n",
       " 'BingASDS.dll',\n",
       " 'BingFilterDS.dll',\n",
       " 'BingMaps.dll',\n",
       " 'BingOnlineServices.dll',\n",
       " 'BioCredProv.dll',\n",
       " 'BioIso.exe',\n",
       " 'bisrv.dll',\n",
       " 'BitLockerCsp.dll',\n",
       " 'BitLockerDeviceEncryption.exe',\n",
       " 'BitLockerWizard.exe',\n",
       " 'BitLockerWizardElev.exe',\n",
       " 'bitsadmin.exe',\n",
       " 'bitsigd.dll',\n",
       " 'bitsperf.dll',\n",
       " 'BitsProxy.dll',\n",
       " 'biwinrt.dll',\n",
       " 'BlbEvents.dll',\n",
       " 'blbres.dll',\n",
       " 'blb_ps.dll',\n",
       " 'BluetoothApis.dll',\n",
       " 'BluetoothDesktopHandlers.dll',\n",
       " 'BluetoothPairingSystemToastIcon.contrast-black.png',\n",
       " 'BluetoothPairingSystemToastIcon.contrast-high.png',\n",
       " 'BluetoothPairingSystemToastIcon.contrast-white.png',\n",
       " 'BluetoothPairingSystemToastIcon.png',\n",
       " 'BluetoothSystemToastIcon.contrast-white.png',\n",
       " 'BluetoothSystemToastIcon.png',\n",
       " 'bnmanager.dll',\n",
       " 'Boot',\n",
       " 'boot.sdi',\n",
       " 'bootcfg.exe',\n",
       " 'bootim.exe',\n",
       " 'BootMenuUX.dll',\n",
       " 'bootsect.exe',\n",
       " 'bootstr.dll',\n",
       " 'bootux.dll',\n",
       " 'BOOTVID.DLL',\n",
       " 'bopomofo.uce',\n",
       " 'bridgeres.dll',\n",
       " 'bridgeunattend.exe',\n",
       " 'BrokerLib.dll',\n",
       " 'browcli.dll',\n",
       " 'browserbroker.dll',\n",
       " 'browserexport.exe',\n",
       " 'BrowserSettingSync.dll',\n",
       " 'browser_broker.exe',\n",
       " 'browseui.dll',\n",
       " 'BTAGService.dll',\n",
       " 'BthAvctpSvc.dll',\n",
       " 'BthAvrcp.dll',\n",
       " 'BthAvrcpAppSvc.dll',\n",
       " 'bthci.dll',\n",
       " 'BthMtpContextHandler.dll',\n",
       " 'bthpanapi.dll',\n",
       " 'BthpanContextHandler.dll',\n",
       " 'Bthprops',\n",
       " 'bthprops.cpl',\n",
       " 'BthRadioMedia.dll',\n",
       " 'bthserv.dll',\n",
       " 'BthTelemetry.dll',\n",
       " 'bthudtask.exe',\n",
       " 'btpanui.dll',\n",
       " 'Bubbles.scr',\n",
       " 'BWContextHandler.dll',\n",
       " 'ByteCodeGenerator.exe',\n",
       " 'c4d66f00-b6f0-4439-ac9b-c5ea13fe54d7_HyperV-ComputeCore.dll',\n",
       " 'cabapi.dll',\n",
       " 'cabinet.dll',\n",
       " 'cabview.dll',\n",
       " 'cacls.exe',\n",
       " 'calc.exe',\n",
       " 'calibration.bin',\n",
       " 'CallButtons.dll',\n",
       " 'CallButtons.ProxyStub.dll',\n",
       " 'CallHistoryClient.dll',\n",
       " 'CameraCaptureUI.dll',\n",
       " 'CameraSettingsUIHost.exe',\n",
       " 'CapabilityAccessHandlers.dll',\n",
       " 'CapabilityAccessManager.dll',\n",
       " 'CapabilityAccessManagerClient.dll',\n",
       " 'capauthz.dll',\n",
       " 'capiprovider.dll',\n",
       " 'capisp.dll',\n",
       " 'CaptureService.dll',\n",
       " 'CastingShellExt.dll',\n",
       " 'CastLaunch.dll',\n",
       " 'CastSrv.exe',\n",
       " 'CatRoot',\n",
       " 'catroot2',\n",
       " 'catsrv.dll',\n",
       " 'catsrvps.dll',\n",
       " 'catsrvut.dll',\n",
       " 'cAVS',\n",
       " 'CBDHSvc.dll',\n",
       " 'cca.dll',\n",
       " 'cdd.dll',\n",
       " 'cdosys.dll',\n",
       " 'cdp.dll',\n",
       " 'cdprt.dll',\n",
       " 'cdpsvc.dll',\n",
       " 'cdpusersvc.dll',\n",
       " 'CellularAPI.dll',\n",
       " 'cellulardatacapabilityhandler.dll',\n",
       " 'cemapi.dll',\n",
       " 'cero.rs',\n",
       " 'certca.dll',\n",
       " 'certcli.dll',\n",
       " 'certCredProvider.dll',\n",
       " 'certenc.dll',\n",
       " 'CertEnroll.dll',\n",
       " 'CertEnrollCtrl.exe',\n",
       " 'CertEnrollUI.dll',\n",
       " 'certlm.msc',\n",
       " 'certmgr.dll',\n",
       " 'certmgr.msc',\n",
       " 'CertPKICmdlet.dll',\n",
       " 'CertPolEng.dll',\n",
       " 'certprop.dll',\n",
       " 'certreq.exe',\n",
       " 'certutil.exe',\n",
       " 'cewmdm.dll',\n",
       " 'cfgbkend.dll',\n",
       " 'cfgmgr32.dll',\n",
       " 'CfgSPCellular.dll',\n",
       " 'CfgSPPolicy.dll',\n",
       " 'cflapi.dll',\n",
       " 'cfmifs.dll',\n",
       " 'cfmifsproxy.dll',\n",
       " 'Chakra.dll',\n",
       " 'Chakradiag.dll',\n",
       " 'Chakrathunk.dll',\n",
       " 'change.exe',\n",
       " 'changepk.exe',\n",
       " 'charmap.exe',\n",
       " 'chartv.dll',\n",
       " 'ChatApis.dll',\n",
       " 'chcp.com',\n",
       " 'CheckNetIsolation.exe',\n",
       " 'chglogon.exe',\n",
       " 'chgport.exe',\n",
       " 'chgusr.exe',\n",
       " 'chkdsk.exe',\n",
       " 'chkntfs.exe',\n",
       " 'chkwudrv.dll',\n",
       " 'choice.exe',\n",
       " 'ChsStrokeDS.dll',\n",
       " 'chs_singlechar_pinyin.dat',\n",
       " 'ChtAdvancedDS.dll',\n",
       " 'ChtBopomofoDS.dll',\n",
       " 'ChtCangjieDS.dll',\n",
       " 'ChtHkStrokeDS.dll',\n",
       " 'ChtQuickDS.dll',\n",
       " 'ChxAPDS.dll',\n",
       " 'ChxDecoder.dll',\n",
       " 'ChxHAPDS.dll',\n",
       " 'chxinputrouter.dll',\n",
       " 'chxranker.dll',\n",
       " 'CHxReadingStringIME.dll',\n",
       " 'ci.dll',\n",
       " 'cic.dll',\n",
       " 'CIDiag.exe',\n",
       " 'cimfs.dll',\n",
       " 'cipher.exe',\n",
       " 'CIRCoInst.dll',\n",
       " 'CIWmi.dll',\n",
       " 'clb.dll',\n",
       " 'clbcatq.dll',\n",
       " 'cldapi.dll',\n",
       " 'cleanmgr.exe',\n",
       " 'CleanPCCSP.dll',\n",
       " 'clfsw32.dll',\n",
       " 'cliconfg.dll',\n",
       " 'cliconfg.exe',\n",
       " 'cliconfg.rll',\n",
       " 'clip.exe',\n",
       " 'ClipboardServer.dll',\n",
       " 'Clipc.dll',\n",
       " 'ClipRenew.exe',\n",
       " 'ClipSVC.dll',\n",
       " 'ClipUp.exe',\n",
       " 'clipwinrt.dll',\n",
       " 'cloudAP.dll',\n",
       " 'CloudDomainJoinAUG.dll',\n",
       " 'CloudDomainJoinDataModelServer.dll',\n",
       " 'CloudExperienceHost.dll',\n",
       " 'CloudExperienceHostBroker.dll',\n",
       " 'CloudExperienceHostBroker.exe',\n",
       " 'CloudExperienceHostCommon.dll',\n",
       " 'CloudExperienceHostUser.dll',\n",
       " 'cloudidsvc.dll',\n",
       " 'CloudNotifications.exe',\n",
       " 'clrhost.dll',\n",
       " 'clusapi.dll',\n",
       " 'cmcfg32.dll',\n",
       " 'cmd.exe',\n",
       " 'cmdext.dll',\n",
       " 'cmdial32.dll',\n",
       " 'cmdkey.exe',\n",
       " 'cmdl32.exe',\n",
       " 'cmgrcspps.dll',\n",
       " 'cmifw.dll',\n",
       " 'cmintegrator.dll',\n",
       " 'cmlua.dll',\n",
       " 'cmmon32.exe',\n",
       " 'cmpbk32.dll',\n",
       " 'cmstp.exe',\n",
       " 'cmstplua.dll',\n",
       " 'cmutil.dll',\n",
       " 'cngcredui.dll',\n",
       " 'cngprovider.dll',\n",
       " 'CNHMCA6.dll',\n",
       " 'CNQ190ED.TBL',\n",
       " 'CNQ_451N.DAT',\n",
       " 'CNQ_CJC.dll',\n",
       " 'CNQ_CJI.dll',\n",
       " 'CNQ_CJL.dll',\n",
       " 'CNQ_CJO.dll',\n",
       " 'cnvfat.dll',\n",
       " 'cob-au.rs',\n",
       " 'CodeIntegrity',\n",
       " 'cofire.exe',\n",
       " 'cofiredm.dll',\n",
       " 'colbact.dll',\n",
       " 'coloradapterclient.dll',\n",
       " 'COLORCNV.DLL',\n",
       " 'colorcpl.exe',\n",
       " 'colorui.dll',\n",
       " 'Com',\n",
       " 'combase.dll',\n",
       " 'comcat.dll',\n",
       " 'comctl32.dll',\n",
       " 'comdlg32.dll',\n",
       " 'comexp.msc',\n",
       " 'coml2.dll',\n",
       " 'comp.exe',\n",
       " 'compact.exe',\n",
       " 'CompatTelRunner.exe',\n",
       " 'compmgmt.msc',\n",
       " 'CompMgmtLauncher.exe',\n",
       " 'ComposableShellProxyStub.dll',\n",
       " 'ComposerFramework.dll',\n",
       " 'CompPkgSrv.exe',\n",
       " 'CompPkgSup.dll',\n",
       " 'compstui.dll',\n",
       " 'computecore.dll',\n",
       " 'computelibeventlog.dll',\n",
       " 'computenetwork.dll',\n",
       " 'ComputerDefaults.exe',\n",
       " 'ComputerToastIcon.contrast-white.png',\n",
       " 'ComputerToastIcon.png',\n",
       " 'computestorage.dll',\n",
       " 'comrepl.dll',\n",
       " 'comres.dll',\n",
       " 'comsnap.dll',\n",
       " 'comsvcs.dll',\n",
       " 'comuid.dll',\n",
       " 'concrt140.dll',\n",
       " 'config',\n",
       " 'configmanager2.dll',\n",
       " 'Configuration',\n",
       " 'ConfigureExpandedStorage.dll',\n",
       " 'conhost.exe',\n",
       " 'ConhostV1.dll',\n",
       " 'connect.dll',\n",
       " 'ConnectedAccountState.dll',\n",
       " 'consent.exe',\n",
       " 'ConsentExperienceCommon.dll',\n",
       " 'ConsentUX.dll',\n",
       " 'ConsentUxClient.dll',\n",
       " 'console.dll',\n",
       " 'ConsoleLogon.dll',\n",
       " 'ConstraintIndex.Search.dll',\n",
       " 'ContactActivation.dll',\n",
       " 'ContactApis.dll',\n",
       " 'ContactHarvesterDS.dll',\n",
       " 'container.dll',\n",
       " 'containerdevicemanagement.dll',\n",
       " 'ContainerSettingsProviders',\n",
       " 'ContentDeliveryManager.Utilities.dll',\n",
       " 'control.exe',\n",
       " 'convert.exe',\n",
       " 'convertvhd.exe',\n",
       " 'coreaudiopolicymanagerext.dll',\n",
       " 'coredpus.dll',\n",
       " 'coredpussvr.exe',\n",
       " 'coreglobconfig.dll',\n",
       " 'CoreMas.dll',\n",
       " 'CoreMessaging.dll',\n",
       " 'CoreMmRes.dll',\n",
       " 'CoreShell.dll',\n",
       " 'CoreShellAPI.dll',\n",
       " 'CoreShellExtFramework.dll',\n",
       " 'CoreUIComponents.dll',\n",
       " 'correngine.dll',\n",
       " 'CourtesyEngine.dll',\n",
       " 'CPFilters.dll',\n",
       " 'CredDialogBroker.dll',\n",
       " 'CredentialEnrollmentManager.exe',\n",
       " 'CredentialEnrollmentManagerForUser.dll',\n",
       " 'CredentialUIBroker.exe',\n",
       " 'CredProv2faHelper.dll',\n",
       " 'CredProvDataModel.dll',\n",
       " 'CredProvHelper.dll',\n",
       " 'credprovhost.dll',\n",
       " 'credprovs.dll',\n",
       " 'credprovslegacy.dll',\n",
       " 'credssp.dll',\n",
       " 'credui.dll',\n",
       " 'credwiz.exe',\n",
       " 'crypt32.dll',\n",
       " 'cryptbase.dll',\n",
       " 'cryptcatsvc.dll',\n",
       " 'cryptdlg.dll',\n",
       " 'cryptdll.dll',\n",
       " 'cryptext.dll',\n",
       " 'cryptnet.dll',\n",
       " 'cryptngc.dll',\n",
       " 'CryptoWinRT.dll',\n",
       " 'cryptsp.dll',\n",
       " 'cryptsvc.dll',\n",
       " 'crypttpmeksvc.dll',\n",
       " 'cryptui.dll',\n",
       " 'cryptuiwizard.dll',\n",
       " 'cryptxml.dll',\n",
       " 'cs-CZ',\n",
       " 'cscapi.dll',\n",
       " 'cscdll.dll',\n",
       " 'CscMig.dll',\n",
       " 'cscobj.dll',\n",
       " 'cscript.exe',\n",
       " 'cscsvc.dll',\n",
       " 'cscui.dll',\n",
       " 'CspCellularSettings.dll',\n",
       " 'CSpkExt64.dll',\n",
       " 'csplte.dll',\n",
       " 'CspProxy.dll',\n",
       " 'csrr.rs',\n",
       " 'csrsrv.dll',\n",
       " 'csrss.exe',\n",
       " 'CSystemEventsBrokerClient.dll',\n",
       " 'ctfmon.exe',\n",
       " 'cttune.exe',\n",
       " 'cttunesvr.exe',\n",
       " 'curl.exe',\n",
       " 'CustomInstallExec.exe',\n",
       " 'CustomShellHost.exe',\n",
       " 'CX64APO.dll',\n",
       " 'CX64APO2.dll',\n",
       " 'CX64APOre32.dll',\n",
       " 'CX64Proxy.dll',\n",
       " 'cxapo.prop',\n",
       " 'cxcredprov.dll',\n",
       " 'CXHProvisioningServer.dll',\n",
       " 'C_037.NLS',\n",
       " 'C_10000.NLS',\n",
       " 'C_10001.NLS',\n",
       " 'C_10002.NLS',\n",
       " 'C_10003.NLS',\n",
       " 'C_10004.NLS',\n",
       " 'C_10005.NLS',\n",
       " 'C_10006.NLS',\n",
       " 'C_10007.NLS',\n",
       " 'C_10008.NLS',\n",
       " 'C_10010.NLS',\n",
       " 'C_10017.NLS',\n",
       " 'C_10021.NLS',\n",
       " 'C_10029.NLS',\n",
       " 'C_10079.NLS',\n",
       " 'C_10081.NLS',\n",
       " 'C_10082.NLS',\n",
       " 'C_1026.NLS',\n",
       " 'C_1047.NLS',\n",
       " 'C_1140.NLS',\n",
       " 'C_1141.NLS',\n",
       " 'C_1142.NLS',\n",
       " 'C_1143.NLS',\n",
       " 'C_1144.NLS',\n",
       " 'C_1145.NLS',\n",
       " 'C_1146.NLS',\n",
       " 'C_1147.NLS',\n",
       " 'C_1148.NLS',\n",
       " 'C_1149.NLS',\n",
       " 'C_1250.NLS',\n",
       " 'C_1251.NLS',\n",
       " 'C_1252.NLS',\n",
       " 'C_1253.NLS',\n",
       " 'C_1254.NLS',\n",
       " 'C_1255.NLS',\n",
       " 'C_1256.NLS',\n",
       " 'C_1257.NLS',\n",
       " 'C_1258.NLS',\n",
       " 'C_1361.NLS',\n",
       " 'C_20000.NLS',\n",
       " 'C_20001.NLS',\n",
       " 'C_20002.NLS',\n",
       " 'C_20003.NLS',\n",
       " 'C_20004.NLS',\n",
       " 'C_20005.NLS',\n",
       " 'C_20105.NLS',\n",
       " 'C_20106.NLS',\n",
       " 'C_20107.NLS',\n",
       " 'C_20108.NLS',\n",
       " 'C_20127.NLS',\n",
       " 'C_20261.NLS',\n",
       " 'C_20269.NLS',\n",
       " 'C_20273.NLS',\n",
       " 'C_20277.NLS',\n",
       " 'C_20278.NLS',\n",
       " 'C_20280.NLS',\n",
       " 'C_20284.NLS',\n",
       " 'C_20285.NLS',\n",
       " 'C_20290.NLS',\n",
       " 'C_20297.NLS',\n",
       " 'C_20420.NLS',\n",
       " 'C_20423.NLS',\n",
       " 'C_20424.NLS',\n",
       " 'C_20833.NLS',\n",
       " 'C_20838.NLS',\n",
       " 'C_20866.NLS',\n",
       " 'C_20871.NLS',\n",
       " 'C_20880.NLS',\n",
       " 'C_20905.NLS',\n",
       " 'C_20924.NLS',\n",
       " 'C_20932.NLS',\n",
       " 'C_20936.NLS',\n",
       " 'C_20949.NLS',\n",
       " 'C_21025.NLS',\n",
       " 'C_21027.NLS',\n",
       " 'C_21866.NLS',\n",
       " 'C_28591.NLS',\n",
       " 'C_28592.NLS',\n",
       " 'C_28593.NLS',\n",
       " 'C_28594.NLS',\n",
       " 'C_28595.NLS',\n",
       " 'C_28596.NLS',\n",
       " 'C_28597.NLS',\n",
       " 'C_28598.NLS',\n",
       " 'C_28599.NLS',\n",
       " 'c_28603.nls',\n",
       " 'C_28605.NLS',\n",
       " 'C_437.NLS',\n",
       " 'C_500.NLS',\n",
       " 'C_708.NLS',\n",
       " 'C_720.NLS',\n",
       " 'C_737.NLS',\n",
       " 'C_775.NLS',\n",
       " 'C_850.NLS',\n",
       " 'C_852.NLS',\n",
       " 'C_855.NLS',\n",
       " 'C_857.NLS',\n",
       " 'C_858.NLS',\n",
       " 'C_860.NLS',\n",
       " 'C_861.NLS',\n",
       " 'C_862.NLS',\n",
       " 'C_863.NLS',\n",
       " 'C_864.NLS',\n",
       " 'C_865.NLS',\n",
       " 'C_866.NLS',\n",
       " 'C_869.NLS',\n",
       " 'C_870.NLS',\n",
       " 'C_874.NLS',\n",
       " 'C_875.NLS',\n",
       " 'C_932.NLS',\n",
       " 'C_936.NLS',\n",
       " 'C_949.NLS',\n",
       " 'C_950.NLS',\n",
       " 'C_G18030.DLL',\n",
       " 'c_GSM7.DLL',\n",
       " 'C_IS2022.DLL',\n",
       " 'C_ISCII.DLL',\n",
       " 'd2d1.dll',\n",
       " 'd3d10.dll',\n",
       " 'd3d10core.dll',\n",
       " 'd3d10level9.dll',\n",
       " 'd3d10warp.dll',\n",
       " 'd3d10_1.dll',\n",
       " 'd3d10_1core.dll',\n",
       " 'd3d11.dll',\n",
       " 'd3d11on12.dll',\n",
       " 'D3D12.dll',\n",
       " 'D3D12Core.dll',\n",
       " 'd3d8thk.dll',\n",
       " 'd3d9.dll',\n",
       " 'd3d9on12.dll',\n",
       " 'D3DCompiler_47.dll',\n",
       " 'D3DSCache.dll',\n",
       " 'd4d78066-e6db-44b7-b5cd-2eb82dce620c_HyperV-ComputeLegacy.dll',\n",
       " 'da-DK',\n",
       " 'dab.dll',\n",
       " 'dabapi.dll',\n",
       " 'DAConn.dll',\n",
       " 'dafAspInfraProvider.dll',\n",
       " 'dafBth.dll',\n",
       " 'DafDnsSd.dll',\n",
       " 'dafDockingProvider.dll',\n",
       " 'DafGip.dll',\n",
       " 'DAFIoT.dll',\n",
       " 'DAFIPP.dll',\n",
       " 'DAFMCP.dll',\n",
       " 'dafpos.dll',\n",
       " 'DafPrintProvider.dll',\n",
       " 'dafupnp.dll',\n",
       " 'dafWCN.dll',\n",
       " 'dafWfdProvider.dll',\n",
       " 'DAFWiProv.dll',\n",
       " 'DAFWSD.dll',\n",
       " 'DAMediaManager.dll',\n",
       " 'DAMM.dll',\n",
       " 'DaOtpCredentialProvider.dll',\n",
       " 'das.dll',\n",
       " 'dasHost.exe',\n",
       " 'dataclen.dll',\n",
       " 'DataExchange.dll',\n",
       " 'DataExchangeHost.exe',\n",
       " 'datamarketsvc.dll',\n",
       " 'DataStoreCacheDumpTool.exe',\n",
       " 'DataUsageHandlers.dll',\n",
       " 'DataUsageLiveTileTask.exe',\n",
       " 'datusage.dll',\n",
       " 'davclnt.dll',\n",
       " 'davhlpr.dll',\n",
       " 'DavSyncProvider.dll',\n",
       " 'daxexec.dll',\n",
       " 'dbgcore.dll',\n",
       " 'dbgeng.dll',\n",
       " 'dbghelp.dll',\n",
       " 'DbgModel.dll',\n",
       " 'dbnetlib.dll',\n",
       " 'dbnmpntw.dll',\n",
       " 'dccw.exe',\n",
       " 'dciman32.dll',\n",
       " 'dcntel.dll',\n",
       " 'dcomcnfg.exe',\n",
       " 'dcomp.dll',\n",
       " 'DDACLSys.dll',\n",
       " 'DdcAntiTheftApi.dll',\n",
       " 'DdcClaimsApi.dll',\n",
       " 'DdcComImplementationsDesktop.dll',\n",
       " 'DDDS.dll',\n",
       " 'DDFs',\n",
       " 'ddisplay.dll',\n",
       " 'ddodiag.exe',\n",
       " 'DDOIProxy.dll',\n",
       " 'DDORes.dll',\n",
       " 'ddpchunk.dll',\n",
       " 'ddptrace.dll',\n",
       " 'ddputils.dll',\n",
       " 'ddp_ps.dll',\n",
       " 'ddraw.dll',\n",
       " 'ddrawex.dll',\n",
       " 'de-DE',\n",
       " 'DefaultAccountTile.png',\n",
       " 'DefaultDeviceManager.dll',\n",
       " 'DefaultHrtfs.bin',\n",
       " 'DefaultPrinterProvider.dll',\n",
       " 'DefaultQuestions.json',\n",
       " 'Defrag.exe',\n",
       " 'defragproxy.dll',\n",
       " 'defragres.dll',\n",
       " 'defragsvc.dll',\n",
       " 'delegatorprovider.dll',\n",
       " 'DeliveryOptimizationMIProv.mof',\n",
       " 'DeliveryOptimizationMIProvUninstall.mof',\n",
       " 'deploymentcsphelper.exe',\n",
       " 'deploymentcsps.dll',\n",
       " 'desk.cpl',\n",
       " 'deskadp.dll',\n",
       " 'deskmon.dll',\n",
       " 'desktopimgdownldr.exe',\n",
       " 'DesktopKeepOnToastImg.gif',\n",
       " 'DesktopShellAppStateContract.dll',\n",
       " 'DesktopShellExt.dll',\n",
       " 'DesktopSwitcherDataModel.dll',\n",
       " 'DesktopView.Internal.Broker.dll',\n",
       " 'DesktopView.Internal.Broker.ProxyStub.dll',\n",
       " 'DetailedReading-Default.xml',\n",
       " 'DevDispItemProvider.dll',\n",
       " 'DeveloperOptionsSettingsHandlers.dll',\n",
       " 'devenum.dll',\n",
       " 'deviceaccess.dll',\n",
       " 'deviceassociation.dll',\n",
       " 'DeviceCensus.exe',\n",
       " 'DeviceCenter.dll',\n",
       " 'DeviceCredential.dll',\n",
       " 'DeviceCredentialDeployment.exe',\n",
       " 'DeviceDirectoryClient.dll',\n",
       " 'DeviceDisplayStatusManager.dll',\n",
       " 'DeviceDriverRetrievalClient.dll',\n",
       " 'DeviceEject.exe',\n",
       " 'DeviceElementSource.dll',\n",
       " 'DeviceEnroller.exe',\n",
       " 'DeviceFlows.DataModel.dll',\n",
       " 'DeviceMetadataRetrievalClient.dll',\n",
       " 'devicengccredprov.dll',\n",
       " 'DevicePairing.dll',\n",
       " 'DevicePairingExperienceMEM.dll',\n",
       " 'DevicePairingFolder.dll',\n",
       " 'DevicePairingProxy.dll',\n",
       " 'DevicePairingWizard.exe',\n",
       " 'DeviceProperties.exe',\n",
       " 'DeviceReactivation.dll',\n",
       " 'deviceregistration.dll',\n",
       " 'DeviceSetupManager.dll',\n",
       " 'DeviceSetupManagerAPI.dll',\n",
       " 'DeviceSetupStatusProvider.dll',\n",
       " 'DevicesFlowBroker.dll',\n",
       " 'DeviceSoftwareInstallationClient.dll',\n",
       " 'DeviceUpdateAgent.dll',\n",
       " 'DeviceUpdateCenterCsp.dll',\n",
       " 'DeviceUxRes.dll',\n",
       " 'devinv.dll',\n",
       " 'devmgmt.msc',\n",
       " 'devmgr.dll',\n",
       " 'DevModeRunAsUserConfig.msc',\n",
       " 'devobj.dll',\n",
       " 'DevPropMgr.dll',\n",
       " 'DevQueryBroker.dll',\n",
       " 'devrtl.dll',\n",
       " 'dfdts.dll',\n",
       " 'DFDWiz.exe',\n",
       " 'dfrgui.exe',\n",
       " 'dfscli.dll',\n",
       " 'dfshim.dll',\n",
       " 'DfsShlEx.dll',\n",
       " 'dggpext.dll',\n",
       " 'dhcpcmonitor.dll',\n",
       " 'dhcpcore.dll',\n",
       " 'dhcpcore6.dll',\n",
       " 'dhcpcsvc.dll',\n",
       " 'dhcpcsvc6.dll',\n",
       " 'dhcpsapi.dll',\n",
       " 'DHolographicDisplay.dll',\n",
       " 'DiagCpl.dll',\n",
       " 'diagnosticdataquery.dll',\n",
       " 'DiagnosticInvoker.dll',\n",
       " 'DiagnosticLogCSP.dll',\n",
       " 'diagperf.dll',\n",
       " 'DiagSvc.dll',\n",
       " 'DiagSvcs',\n",
       " 'diagtrack.dll',\n",
       " 'dialclient.dll',\n",
       " 'dialer.exe',\n",
       " 'DialogBlockerProc.dll',\n",
       " 'DialogBlockingManager.dll',\n",
       " 'DialogBlockingService.dll',\n",
       " 'dialserver.dll',\n",
       " 'DictationManager.dll',\n",
       " 'difxapi.dll',\n",
       " 'dimsjob.dll',\n",
       " 'dimsroam.dll',\n",
       " 'dinput.dll',\n",
       " 'dinput8.dll',\n",
       " 'Direct2DDesktop.dll',\n",
       " 'directmanipulation.dll',\n",
       " 'directml.dll',\n",
       " 'directxdatabaseupdater.exe',\n",
       " 'discan.dll',\n",
       " 'diskmgmt.msc',\n",
       " 'diskpart.exe',\n",
       " 'diskperf.exe',\n",
       " 'diskraid.exe',\n",
       " 'DiskSnapshot.conf',\n",
       " 'DiskSnapshot.exe',\n",
       " 'Dism',\n",
       " 'Dism.exe',\n",
       " 'DismApi.dll',\n",
       " 'DispBroker.Desktop.dll',\n",
       " 'DispBroker.dll',\n",
       " 'dispdiag.exe',\n",
       " 'dispex.dll',\n",
       " 'Display.dll',\n",
       " 'DisplayManager.dll',\n",
       " 'DisplaySwitch.exe',\n",
       " 'DisplaySystemToastIcon.contrast-white.png',\n",
       " 'DisplaySystemToastIcon.png',\n",
       " 'djctq.rs',\n",
       " 'djoin.exe',\n",
       " 'dllhost.exe',\n",
       " 'dllhst3g.exe',\n",
       " 'dlnashext.dll',\n",
       " 'DMAlertListener.ProxyStub.dll',\n",
       " 'DmApiSetExtImplDesktop.dll',\n",
       " 'DMAppsRes.dll',\n",
       " 'dmcertinst.exe',\n",
       " 'dmcfghost.exe',\n",
       " 'dmcfgutils.dll',\n",
       " 'dmclient.exe',\n",
       " 'dmcmnutils.dll',\n",
       " 'dmcommandlineutils.dll',\n",
       " 'dmcsps.dll',\n",
       " 'dmdlgs.dll',\n",
       " 'dmdskmgr.dll',\n",
       " 'dmdskres.dll',\n",
       " 'dmdskres2.dll',\n",
       " 'dmenrollengine.dll',\n",
       " 'dmenterprisediagnostics.dll',\n",
       " 'dmintf.dll',\n",
       " 'dmiso8601utils.dll',\n",
       " 'dmloader.dll',\n",
       " 'DmNotificationBroker.exe',\n",
       " 'dmocx.dll',\n",
       " 'dmoleaututils.dll',\n",
       " 'DmOmaCpMo.exe',\n",
       " 'dmprocessxmlfiltered.dll',\n",
       " 'dmpushproxy.dll',\n",
       " 'DMPushRouterCore.dll',\n",
       " 'DMRCDecoder.dll',\n",
       " ...]"
      ]
     },
     "execution_count": 77,
     "metadata": {},
     "output_type": "execute_result"
    }
   ],
   "source": [
    "os.listdir('C:\\\\Windows\\\\System32')"
   ]
  },
  {
   "cell_type": "code",
   "execution_count": 78,
   "id": "4328b144",
   "metadata": {},
   "outputs": [
    {
     "name": "stdout",
     "output_type": "stream",
     "text": [
      "2035444973\n"
     ]
    }
   ],
   "source": [
    "totalSize = 0\n",
    "for filename in os.listdir('C:\\\\Windows\\\\System32'):\n",
    "    totalSize = totalSize + os.path.getsize(os.path.join('C:\\\\Windows\\\\System32', filename))\n",
    "print(totalSize)"
   ]
  },
  {
   "cell_type": "markdown",
   "id": "3f7833c3",
   "metadata": {},
   "source": [
    "#### Modifying a List of Files Using Glob Patterns"
   ]
  },
  {
   "cell_type": "markdown",
   "id": "88976e06",
   "metadata": {},
   "source": [
    "If you intend to work on specific files, the glob() method is simpler to use than listdir(). Path objects have a glob() method for listing the contents of a folder according to a glob pattern. The glob() method returns a generator object that you'll need to pass to list() to easily view in the interactive shell"
   ]
  },
  {
   "cell_type": "code",
   "execution_count": 131,
   "id": "262df82f",
   "metadata": {},
   "outputs": [],
   "source": [
    "p = Path('D:/Downloads/Programs')"
   ]
  },
  {
   "cell_type": "code",
   "execution_count": 132,
   "id": "77fb5efe",
   "metadata": {},
   "outputs": [
    {
     "data": {
      "text/plain": [
       "<generator object Path.glob at 0x00000237C11A2350>"
      ]
     },
     "execution_count": 132,
     "metadata": {},
     "output_type": "execute_result"
    }
   ],
   "source": [
    "p.glob('*')"
   ]
  },
  {
   "cell_type": "code",
   "execution_count": 133,
   "id": "d1dc77ba",
   "metadata": {},
   "outputs": [
    {
     "data": {
      "text/plain": [
       "[WindowsPath('D:/Downloads/Programs/AtomSetup-x64.exe'),\n",
       " WindowsPath('D:/Downloads/Programs/Docker Desktop Installer.exe'),\n",
       " WindowsPath('D:/Downloads/Programs/dotnet-sdk-5.0.302-win-x64.exe'),\n",
       " WindowsPath('D:/Downloads/Programs/eclipse-inst-jre-win64.exe'),\n",
       " WindowsPath('D:/Downloads/Programs/fdm_x64_setup.exe'),\n",
       " WindowsPath('D:/Downloads/Programs/Git-2.32.0.2-64-bit.exe'),\n",
       " WindowsPath('D:/Downloads/Programs/gvim82.exe'),\n",
       " WindowsPath('D:/Downloads/Programs/heroku-x64.exe'),\n",
       " WindowsPath('D:/Downloads/Programs/HP-LaserJet-Pro-400-M401d-Full-Drivers-and-Software-for-windows.exe'),\n",
       " WindowsPath('D:/Downloads/Programs/idman640build2.exe'),\n",
       " WindowsPath('D:/Downloads/Programs/iLovePDF Desktop Installer.exe'),\n",
       " WindowsPath('D:/Downloads/Programs/liclipse_8.1.0_win32.x86_64.exe'),\n",
       " WindowsPath('D:/Downloads/Programs/Miniconda3-latest-Windows-x86_64.exe'),\n",
       " WindowsPath('D:/Downloads/Programs/mx5.3.8.2000.exe'),\n",
       " WindowsPath('D:/Downloads/Programs/node-v16.13.2-x64.msi'),\n",
       " WindowsPath('D:/Downloads/Programs/postgresql-13.4-1-windows-x64.exe'),\n",
       " WindowsPath('D:/Downloads/Programs/python-3.9.6-amd64.exe'),\n",
       " WindowsPath('D:/Downloads/Programs/R-4.1.1-win.exe'),\n",
       " WindowsPath('D:/Downloads/Programs/RStudio-1.4.1717.exe'),\n",
       " WindowsPath('D:/Downloads/Programs/rtools40v2-x86_64.exe'),\n",
       " WindowsPath('D:/Downloads/Programs/rustup-init.exe'),\n",
       " WindowsPath('D:/Downloads/Programs/vcredist_x86.exe'),\n",
       " WindowsPath('D:/Downloads/Programs/VirtualBox-6.1.26-145957-Win.exe'),\n",
       " WindowsPath('D:/Downloads/Programs/VSCodeUserSetup-ia32-1.41.1.exe'),\n",
       " WindowsPath('D:/Downloads/Programs/vs_community__1f771e8db05c4640810991e00c1fb79d.exe')]"
      ]
     },
     "execution_count": 133,
     "metadata": {},
     "output_type": "execute_result"
    }
   ],
   "source": [
    "list(p.glob('*')) # Make a list from the generator"
   ]
  },
  {
   "cell_type": "markdown",
   "id": "8edd4ef9",
   "metadata": {},
   "source": [
    "The asterisk (*) stands for \"multiple of any characters,\" so p.glob('*') returns a generator of all files in the path stored in p."
   ]
  },
  {
   "cell_type": "code",
   "execution_count": 134,
   "id": "7609937b",
   "metadata": {},
   "outputs": [
    {
     "data": {
      "text/plain": [
       "[]"
      ]
     },
     "execution_count": 134,
     "metadata": {},
     "output_type": "execute_result"
    }
   ],
   "source": [
    "list(p.glob('*.txt')) # List all text files."
   ]
  },
  {
   "cell_type": "markdown",
   "id": "1d3f0e45",
   "metadata": {},
   "source": [
    "The glob pattern '*.txt' will return files that start with any combination of characters as long as it ends with the string '.txt', which is the text file extension\n",
    "\n",
    "\n",
    "In contrast with the asterisk, the question mark (?) stands for any single character:"
   ]
  },
  {
   "cell_type": "code",
   "execution_count": 135,
   "id": "5faa4ff2",
   "metadata": {},
   "outputs": [
    {
     "data": {
      "text/plain": [
       "[]"
      ]
     },
     "execution_count": 135,
     "metadata": {},
     "output_type": "execute_result"
    }
   ],
   "source": [
    "list(p.glob('project?.docx'))"
   ]
  },
  {
   "cell_type": "code",
   "execution_count": 136,
   "id": "61ee3828",
   "metadata": {},
   "outputs": [
    {
     "data": {
      "text/plain": [
       "[WindowsPath('D:/Downloads/Programs/AtomSetup-x64.exe'),\n",
       " WindowsPath('D:/Downloads/Programs/Docker Desktop Installer.exe'),\n",
       " WindowsPath('D:/Downloads/Programs/dotnet-sdk-5.0.302-win-x64.exe'),\n",
       " WindowsPath('D:/Downloads/Programs/eclipse-inst-jre-win64.exe'),\n",
       " WindowsPath('D:/Downloads/Programs/fdm_x64_setup.exe'),\n",
       " WindowsPath('D:/Downloads/Programs/Git-2.32.0.2-64-bit.exe'),\n",
       " WindowsPath('D:/Downloads/Programs/gvim82.exe'),\n",
       " WindowsPath('D:/Downloads/Programs/heroku-x64.exe'),\n",
       " WindowsPath('D:/Downloads/Programs/HP-LaserJet-Pro-400-M401d-Full-Drivers-and-Software-for-windows.exe'),\n",
       " WindowsPath('D:/Downloads/Programs/idman640build2.exe'),\n",
       " WindowsPath('D:/Downloads/Programs/iLovePDF Desktop Installer.exe'),\n",
       " WindowsPath('D:/Downloads/Programs/liclipse_8.1.0_win32.x86_64.exe'),\n",
       " WindowsPath('D:/Downloads/Programs/Miniconda3-latest-Windows-x86_64.exe'),\n",
       " WindowsPath('D:/Downloads/Programs/mx5.3.8.2000.exe'),\n",
       " WindowsPath('D:/Downloads/Programs/postgresql-13.4-1-windows-x64.exe'),\n",
       " WindowsPath('D:/Downloads/Programs/python-3.9.6-amd64.exe'),\n",
       " WindowsPath('D:/Downloads/Programs/R-4.1.1-win.exe'),\n",
       " WindowsPath('D:/Downloads/Programs/RStudio-1.4.1717.exe'),\n",
       " WindowsPath('D:/Downloads/Programs/rtools40v2-x86_64.exe'),\n",
       " WindowsPath('D:/Downloads/Programs/rustup-init.exe'),\n",
       " WindowsPath('D:/Downloads/Programs/vcredist_x86.exe'),\n",
       " WindowsPath('D:/Downloads/Programs/VirtualBox-6.1.26-145957-Win.exe'),\n",
       " WindowsPath('D:/Downloads/Programs/VSCodeUserSetup-ia32-1.41.1.exe'),\n",
       " WindowsPath('D:/Downloads/Programs/vs_community__1f771e8db05c4640810991e00c1fb79d.exe')]"
      ]
     },
     "execution_count": 136,
     "metadata": {},
     "output_type": "execute_result"
    }
   ],
   "source": [
    "list(p.glob('*.?x?'))"
   ]
  },
  {
   "cell_type": "markdown",
   "id": "d1965406",
   "metadata": {},
   "source": [
    "##### The glob '*.?x?' will return files with any name and any three-character extension where the middle character is an 'x'."
   ]
  },
  {
   "cell_type": "code",
   "execution_count": null,
   "id": "8a2ad12e",
   "metadata": {},
   "outputs": [],
   "source": []
  },
  {
   "cell_type": "markdown",
   "id": "82a076fd",
   "metadata": {},
   "source": [
    "#### Checking Path Validity"
   ]
  },
  {
   "cell_type": "markdown",
   "id": "5f2ee286",
   "metadata": {},
   "source": [
    "Many Python functions will crash with an error if you supply them with a path that does not exist. Luckily, Path objects have methods to check whether a given path exists and whether it is a file or folder. "
   ]
  },
  {
   "cell_type": "code",
   "execution_count": 154,
   "id": "f7553e86",
   "metadata": {},
   "outputs": [],
   "source": [
    "winDir = Path('E:\\Lux\\Python\\Automate_Boring_Stuffs\\9_Files')"
   ]
  },
  {
   "cell_type": "code",
   "execution_count": 155,
   "id": "d3dfa2b8",
   "metadata": {},
   "outputs": [
    {
     "data": {
      "text/plain": [
       "WindowsPath('E:/Lux/Python/Automate_Boring_Stuffs/9_Files')"
      ]
     },
     "execution_count": 155,
     "metadata": {},
     "output_type": "execute_result"
    }
   ],
   "source": [
    "winDir"
   ]
  },
  {
   "cell_type": "code",
   "execution_count": 156,
   "id": "cf388ec0",
   "metadata": {},
   "outputs": [],
   "source": [
    "notExistsDir = Path('C:/This/Folder/Does/Not/Exist')"
   ]
  },
  {
   "cell_type": "code",
   "execution_count": 157,
   "id": "12abfc2d",
   "metadata": {},
   "outputs": [],
   "source": [
    "calcFile = Path('C:/Windows/System32/calc.exe')"
   ]
  },
  {
   "cell_type": "code",
   "execution_count": 158,
   "id": "810ec4df",
   "metadata": {},
   "outputs": [
    {
     "data": {
      "text/plain": [
       "True"
      ]
     },
     "execution_count": 158,
     "metadata": {},
     "output_type": "execute_result"
    }
   ],
   "source": [
    "winDir.exists()"
   ]
  },
  {
   "cell_type": "code",
   "execution_count": 159,
   "id": "103bf36a",
   "metadata": {},
   "outputs": [
    {
     "data": {
      "text/plain": [
       "False"
      ]
     },
     "execution_count": 159,
     "metadata": {},
     "output_type": "execute_result"
    }
   ],
   "source": [
    "notExistsDir.exists()"
   ]
  },
  {
   "cell_type": "code",
   "execution_count": 143,
   "id": "90d5bb00",
   "metadata": {},
   "outputs": [
    {
     "data": {
      "text/plain": [
       "True"
      ]
     },
     "execution_count": 143,
     "metadata": {},
     "output_type": "execute_result"
    }
   ],
   "source": [
    "calcFile.is_file()"
   ]
  },
  {
   "cell_type": "code",
   "execution_count": 144,
   "id": "aac3808c",
   "metadata": {},
   "outputs": [
    {
     "data": {
      "text/plain": [
       "False"
      ]
     },
     "execution_count": 144,
     "metadata": {},
     "output_type": "execute_result"
    }
   ],
   "source": [
    "calcFile.is_dir()"
   ]
  },
  {
   "cell_type": "markdown",
   "id": "762c15b7",
   "metadata": {},
   "source": [
    "### The File Reading/Writing Process"
   ]
  },
  {
   "cell_type": "code",
   "execution_count": 170,
   "id": "f67afbe4",
   "metadata": {},
   "outputs": [],
   "source": [
    "p = Path('E:\\Lux\\Python\\Automate_Boring_Stuffs\\9_Files')"
   ]
  },
  {
   "cell_type": "code",
   "execution_count": 171,
   "id": "729a3041",
   "metadata": {},
   "outputs": [
    {
     "data": {
      "text/plain": [
       "WindowsPath('E:/Lux/Python/Automate_Boring_Stuffs/9_Files')"
      ]
     },
     "execution_count": 171,
     "metadata": {},
     "output_type": "execute_result"
    }
   ],
   "source": [
    "p"
   ]
  },
  {
   "cell_type": "code",
   "execution_count": 162,
   "id": "5aea703a",
   "metadata": {},
   "outputs": [],
   "source": [
    "p = Path('spam.txt')"
   ]
  },
  {
   "cell_type": "code",
   "execution_count": 163,
   "id": "d4dcd3e2",
   "metadata": {},
   "outputs": [
    {
     "data": {
      "text/plain": [
       "13"
      ]
     },
     "execution_count": 163,
     "metadata": {},
     "output_type": "execute_result"
    }
   ],
   "source": [
    "p.write_text('Hello, world!')"
   ]
  },
  {
   "cell_type": "code",
   "execution_count": 164,
   "id": "0f8c4414",
   "metadata": {},
   "outputs": [
    {
     "data": {
      "text/plain": [
       "'Hello, world!'"
      ]
     },
     "execution_count": 164,
     "metadata": {},
     "output_type": "execute_result"
    }
   ],
   "source": [
    "p.read_text()"
   ]
  },
  {
   "cell_type": "markdown",
   "id": "74441a9f",
   "metadata": {},
   "source": [
    "##### Opening Files with the open() Function"
   ]
  },
  {
   "cell_type": "code",
   "execution_count": 179,
   "id": "067aca80",
   "metadata": {},
   "outputs": [],
   "source": [
    "helloFile = open(p / 'hello.txt')"
   ]
  },
  {
   "cell_type": "code",
   "execution_count": 175,
   "id": "ccf4d45d",
   "metadata": {},
   "outputs": [
    {
     "data": {
      "text/plain": [
       "\"When, in disgrace with fortune and men's eyes,\\nI all alone beweep my outcast state, \\nAnd trouble deaf heaven with my bootless cries, \\nAnd look upon myself and curse my fate,\""
      ]
     },
     "execution_count": 175,
     "metadata": {},
     "output_type": "execute_result"
    }
   ],
   "source": [
    "helloFile.read()"
   ]
  },
  {
   "cell_type": "code",
   "execution_count": 180,
   "id": "0a7d8df1",
   "metadata": {},
   "outputs": [],
   "source": [
    "helloContent = helloFile.read()"
   ]
  },
  {
   "cell_type": "code",
   "execution_count": 181,
   "id": "a7f8e1f2",
   "metadata": {},
   "outputs": [
    {
     "data": {
      "text/plain": [
       "\"When, in disgrace with fortune and men's eyes,\\nI all alone beweep my outcast state, \\nAnd trouble deaf heaven with my bootless cries, \\nAnd look upon myself and curse my fate,\""
      ]
     },
     "execution_count": 181,
     "metadata": {},
     "output_type": "execute_result"
    }
   ],
   "source": [
    "helloContent"
   ]
  },
  {
   "cell_type": "markdown",
   "id": "31c83d10",
   "metadata": {},
   "source": [
    "##### Writing to Files"
   ]
  },
  {
   "cell_type": "code",
   "execution_count": 198,
   "id": "149e171b",
   "metadata": {},
   "outputs": [],
   "source": [
    "baconFile = open('bacon.txt', 'w')"
   ]
  },
  {
   "cell_type": "code",
   "execution_count": 199,
   "id": "2e8ce3d8",
   "metadata": {},
   "outputs": [
    {
     "data": {
      "text/plain": [
       "14"
      ]
     },
     "execution_count": 199,
     "metadata": {},
     "output_type": "execute_result"
    }
   ],
   "source": [
    "baconFile.write('Hello, World!\\n')"
   ]
  },
  {
   "cell_type": "code",
   "execution_count": 200,
   "id": "f487d658",
   "metadata": {},
   "outputs": [],
   "source": [
    "baconFile.close()"
   ]
  },
  {
   "cell_type": "code",
   "execution_count": 201,
   "id": "1a9326e3",
   "metadata": {},
   "outputs": [],
   "source": [
    "baconFile = open('bacon.txt', 'a')"
   ]
  },
  {
   "cell_type": "code",
   "execution_count": 202,
   "id": "fad2fb0a",
   "metadata": {},
   "outputs": [
    {
     "data": {
      "text/plain": [
       "25"
      ]
     },
     "execution_count": 202,
     "metadata": {},
     "output_type": "execute_result"
    }
   ],
   "source": [
    "baconFile.write('Bacon is not a vegetable.')"
   ]
  },
  {
   "cell_type": "code",
   "execution_count": 203,
   "id": "e41e1903",
   "metadata": {},
   "outputs": [],
   "source": [
    "baconFile.close()"
   ]
  },
  {
   "cell_type": "code",
   "execution_count": 204,
   "id": "9ea3ebf7",
   "metadata": {},
   "outputs": [],
   "source": [
    "baconFile = open('bacon.txt')"
   ]
  },
  {
   "cell_type": "code",
   "execution_count": 205,
   "id": "1c8b488d",
   "metadata": {},
   "outputs": [],
   "source": [
    "content = baconFile.read()"
   ]
  },
  {
   "cell_type": "code",
   "execution_count": 206,
   "id": "b5c268bb",
   "metadata": {},
   "outputs": [],
   "source": [
    "baconFile.close()"
   ]
  },
  {
   "cell_type": "code",
   "execution_count": 207,
   "id": "c5127064",
   "metadata": {},
   "outputs": [
    {
     "name": "stdout",
     "output_type": "stream",
     "text": [
      "Hello, World!\n",
      "Bacon is not a vegetable.\n"
     ]
    }
   ],
   "source": [
    "print(content)"
   ]
  },
  {
   "cell_type": "markdown",
   "id": "adb155b1",
   "metadata": {},
   "source": [
    "#### Saving Variables with the shelve Module"
   ]
  },
  {
   "cell_type": "code",
   "execution_count": 208,
   "id": "c4e780ee",
   "metadata": {},
   "outputs": [],
   "source": [
    "import shelve"
   ]
  },
  {
   "cell_type": "markdown",
   "id": "f5d8b4b3",
   "metadata": {},
   "source": [
    "You can save variables in Your Python programs to binary shelf files using the shelve module. This way, your program can restore data to variables from the hard drive. The <b>shelve</b> module will let you add Save and Open features to your program"
   ]
  },
  {
   "cell_type": "code",
   "execution_count": 209,
   "id": "eb1d6857",
   "metadata": {},
   "outputs": [],
   "source": [
    "shelfFile = shelve.open('mydata')"
   ]
  },
  {
   "cell_type": "code",
   "execution_count": 210,
   "id": "3d743363",
   "metadata": {},
   "outputs": [],
   "source": [
    "cats = ['Zophie', 'Pooka', 'Simon']"
   ]
  },
  {
   "cell_type": "code",
   "execution_count": 211,
   "id": "076d1dcc",
   "metadata": {},
   "outputs": [],
   "source": [
    "shelfFile['cats'] = cats"
   ]
  },
  {
   "cell_type": "code",
   "execution_count": 212,
   "id": "03c59a13",
   "metadata": {},
   "outputs": [],
   "source": [
    "shelfFile.close()"
   ]
  },
  {
   "cell_type": "markdown",
   "id": "711b2b0f",
   "metadata": {},
   "source": [
    "Shelf values don't have to be opened in read or write mode--they can do both once opened. Enter the following into the interactive shell:"
   ]
  },
  {
   "cell_type": "code",
   "execution_count": 213,
   "id": "5e42ee2d",
   "metadata": {},
   "outputs": [],
   "source": [
    "shelfFile = shelve.open('mydata')"
   ]
  },
  {
   "cell_type": "code",
   "execution_count": 214,
   "id": "97e1da45",
   "metadata": {},
   "outputs": [
    {
     "data": {
      "text/plain": [
       "shelve.DbfilenameShelf"
      ]
     },
     "execution_count": 214,
     "metadata": {},
     "output_type": "execute_result"
    }
   ],
   "source": [
    "type(shelfFile)"
   ]
  },
  {
   "cell_type": "code",
   "execution_count": 215,
   "id": "ef4ef627",
   "metadata": {},
   "outputs": [
    {
     "data": {
      "text/plain": [
       "['Zophie', 'Pooka', 'Simon']"
      ]
     },
     "execution_count": 215,
     "metadata": {},
     "output_type": "execute_result"
    }
   ],
   "source": [
    "shelfFile['cats']"
   ]
  },
  {
   "cell_type": "code",
   "execution_count": 216,
   "id": "a0c62074",
   "metadata": {},
   "outputs": [],
   "source": [
    "shelfFile.close()"
   ]
  },
  {
   "cell_type": "code",
   "execution_count": null,
   "id": "71b5e17a",
   "metadata": {},
   "outputs": [],
   "source": []
  },
  {
   "cell_type": "code",
   "execution_count": 246,
   "id": "f0f2584a",
   "metadata": {},
   "outputs": [],
   "source": [
    "shelfFile = shelve.open('mydata')"
   ]
  },
  {
   "cell_type": "code",
   "execution_count": 247,
   "id": "e4e813b6",
   "metadata": {},
   "outputs": [
    {
     "data": {
      "text/plain": [
       "shelve.DbfilenameShelf"
      ]
     },
     "execution_count": 247,
     "metadata": {},
     "output_type": "execute_result"
    }
   ],
   "source": [
    "type(shelfFile)"
   ]
  },
  {
   "cell_type": "code",
   "execution_count": 248,
   "id": "cbfbcda3",
   "metadata": {},
   "outputs": [
    {
     "data": {
      "text/plain": [
       "['cats']"
      ]
     },
     "execution_count": 248,
     "metadata": {},
     "output_type": "execute_result"
    }
   ],
   "source": [
    "list(shelfFile.keys())"
   ]
  },
  {
   "cell_type": "code",
   "execution_count": 249,
   "id": "970cd8e0",
   "metadata": {},
   "outputs": [
    {
     "data": {
      "text/plain": [
       "[['Zophie', 'Pooka', 'Simon']]"
      ]
     },
     "execution_count": 249,
     "metadata": {},
     "output_type": "execute_result"
    }
   ],
   "source": [
    "list(shelfFile.values())"
   ]
  },
  {
   "cell_type": "code",
   "execution_count": 250,
   "id": "f3100995",
   "metadata": {},
   "outputs": [],
   "source": [
    "shelfFile.close()"
   ]
  },
  {
   "cell_type": "code",
   "execution_count": null,
   "id": "f46c18b1",
   "metadata": {},
   "outputs": [],
   "source": []
  },
  {
   "cell_type": "markdown",
   "id": "b849d2ca",
   "metadata": {},
   "source": [
    "#### Saving Variables with the pprint.pformat() Function"
   ]
  },
  {
   "cell_type": "code",
   "execution_count": 251,
   "id": "bf9fcdf0",
   "metadata": {},
   "outputs": [],
   "source": [
    "import pprint"
   ]
  },
  {
   "cell_type": "markdown",
   "id": "c64a63a4",
   "metadata": {},
   "source": [
    "\"Pretty Printing\" will not only make formatted strings easy to read, but it also ensures correct Python code. using the pprint.pformat() function one can get a string to write into a <i><b>.py</b></i> file"
   ]
  },
  {
   "cell_type": "code",
   "execution_count": 253,
   "id": "47eb7bbb",
   "metadata": {},
   "outputs": [],
   "source": [
    "cats = [{'name': 'Zophie', 'desc': 'chubby'},\n",
    "       {'name': 'Pooka', 'desc': 'fluffy'}]"
   ]
  },
  {
   "cell_type": "code",
   "execution_count": 254,
   "id": "97c42966",
   "metadata": {},
   "outputs": [
    {
     "data": {
      "text/plain": [
       "\"[{'desc': 'chubby', 'name': 'Zophie'}, {'desc': 'fluffy', 'name': 'Pooka'}]\""
      ]
     },
     "execution_count": 254,
     "metadata": {},
     "output_type": "execute_result"
    }
   ],
   "source": [
    "pprint.pformat(cats)"
   ]
  },
  {
   "cell_type": "code",
   "execution_count": 255,
   "id": "9cdf246a",
   "metadata": {},
   "outputs": [],
   "source": [
    "fileObj = open('myCats.py', 'w')"
   ]
  },
  {
   "cell_type": "code",
   "execution_count": 256,
   "id": "17e7ec35",
   "metadata": {},
   "outputs": [
    {
     "data": {
      "text/plain": [
       "83"
      ]
     },
     "execution_count": 256,
     "metadata": {},
     "output_type": "execute_result"
    }
   ],
   "source": [
    "fileObj.write('cats = '+pprint.pformat(cats) + '\\n')"
   ]
  },
  {
   "cell_type": "code",
   "execution_count": 257,
   "id": "1c0aba4c",
   "metadata": {},
   "outputs": [],
   "source": [
    "fileObj.close()"
   ]
  },
  {
   "cell_type": "markdown",
   "id": "797aa718",
   "metadata": {},
   "source": [
    "When the string from pprint.pformat() is saved to a <i><b>.py</b></i> file, the file is a module that can be imported just like any other. \n",
    "\n",
    "And since Python scripts are themselves just text files with the .py file extension, your Python programs can even generate other Python programs. You can then import these files into scripts."
   ]
  },
  {
   "cell_type": "code",
   "execution_count": 258,
   "id": "41149419",
   "metadata": {},
   "outputs": [],
   "source": [
    "import myCats"
   ]
  },
  {
   "cell_type": "code",
   "execution_count": 259,
   "id": "d1461c42",
   "metadata": {},
   "outputs": [
    {
     "data": {
      "text/plain": [
       "[{'desc': 'chubby', 'name': 'Zophie'}, {'desc': 'fluffy', 'name': 'Pooka'}]"
      ]
     },
     "execution_count": 259,
     "metadata": {},
     "output_type": "execute_result"
    }
   ],
   "source": [
    "myCats.cats"
   ]
  },
  {
   "cell_type": "code",
   "execution_count": 260,
   "id": "f5cc27f9",
   "metadata": {},
   "outputs": [
    {
     "data": {
      "text/plain": [
       "{'desc': 'chubby', 'name': 'Zophie'}"
      ]
     },
     "execution_count": 260,
     "metadata": {},
     "output_type": "execute_result"
    }
   ],
   "source": [
    "myCats.cats[0]"
   ]
  },
  {
   "cell_type": "code",
   "execution_count": 261,
   "id": "405c63a3",
   "metadata": {},
   "outputs": [
    {
     "data": {
      "text/plain": [
       "'Zophie'"
      ]
     },
     "execution_count": 261,
     "metadata": {},
     "output_type": "execute_result"
    }
   ],
   "source": [
    "myCats.cats[0]['name']"
   ]
  },
  {
   "cell_type": "markdown",
   "id": "0143508c",
   "metadata": {},
   "source": [
    "### Project: Generating Random Quiz Files"
   ]
  },
  {
   "cell_type": "code",
   "execution_count": null,
   "id": "09801a01",
   "metadata": {},
   "outputs": [],
   "source": []
  }
 ],
 "metadata": {
  "kernelspec": {
   "display_name": "Python 3 (ipykernel)",
   "language": "python",
   "name": "python3"
  },
  "language_info": {
   "codemirror_mode": {
    "name": "ipython",
    "version": 3
   },
   "file_extension": ".py",
   "mimetype": "text/x-python",
   "name": "python",
   "nbconvert_exporter": "python",
   "pygments_lexer": "ipython3",
   "version": "3.9.6"
  }
 },
 "nbformat": 4,
 "nbformat_minor": 5
}
