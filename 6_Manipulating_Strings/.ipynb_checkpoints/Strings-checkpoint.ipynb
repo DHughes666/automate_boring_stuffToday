{
 "cells": [
  {
   "cell_type": "markdown",
   "id": "bfec9b9b",
   "metadata": {},
   "source": [
    "# STRING FINANGLING"
   ]
  },
  {
   "cell_type": "markdown",
   "id": "80a96a83",
   "metadata": {},
   "source": [
    "### Escape characters"
   ]
  },
  {
   "cell_type": "code",
   "execution_count": 1,
   "id": "aef3a84b",
   "metadata": {},
   "outputs": [],
   "source": [
    "spam = 'Say hi to Bob'"
   ]
  },
  {
   "cell_type": "code",
   "execution_count": 2,
   "id": "b4d2e635",
   "metadata": {},
   "outputs": [
    {
     "data": {
      "text/plain": [
       "'Say hi to Bob'"
      ]
     },
     "execution_count": 2,
     "metadata": {},
     "output_type": "execute_result"
    }
   ],
   "source": [
    "spam"
   ]
  },
  {
   "cell_type": "code",
   "execution_count": 3,
   "id": "56915a43",
   "metadata": {},
   "outputs": [],
   "source": [
    "spamy = 'Say hi to Bob\\'s mother.'"
   ]
  },
  {
   "cell_type": "code",
   "execution_count": 4,
   "id": "3e26419b",
   "metadata": {},
   "outputs": [
    {
     "data": {
      "text/plain": [
       "\"Say hi to Bob's mother.\""
      ]
     },
     "execution_count": 4,
     "metadata": {},
     "output_type": "execute_result"
    }
   ],
   "source": [
    "spamy"
   ]
  },
  {
   "cell_type": "code",
   "execution_count": 5,
   "id": "fe453282",
   "metadata": {},
   "outputs": [
    {
     "name": "stdout",
     "output_type": "stream",
     "text": [
      "Hello there!\n",
      "How are you?\n",
      "I'm doing fine.'\n"
     ]
    }
   ],
   "source": [
    "print(\"Hello there!\\nHow are you?\\nI\\'m doing fine.'\")"
   ]
  },
  {
   "cell_type": "code",
   "execution_count": null,
   "id": "0fc21d39",
   "metadata": {},
   "outputs": [],
   "source": []
  },
  {
   "cell_type": "markdown",
   "id": "785df698",
   "metadata": {},
   "source": [
    "### Raw Strings"
   ]
  },
  {
   "cell_type": "markdown",
   "id": "b43a90b5",
   "metadata": {},
   "source": [
    "A raw string ignores all escape characters. A raw string can be declared by placing an 'r' before the quotation mark"
   ]
  },
  {
   "cell_type": "code",
   "execution_count": 6,
   "id": "964f65a6",
   "metadata": {},
   "outputs": [
    {
     "name": "stdout",
     "output_type": "stream",
     "text": [
      "That is Carol\\'s cat\n"
     ]
    }
   ],
   "source": [
    "print(r'That is Carol\\'s cat')"
   ]
  },
  {
   "cell_type": "markdown",
   "id": "08c46c1c",
   "metadata": {},
   "source": [
    "### Multiline Strings with Triple Quotes"
   ]
  },
  {
   "cell_type": "markdown",
   "id": "113dd2f9",
   "metadata": {},
   "source": [
    "Escaping single and double quotes is optional in multiline strings"
   ]
  },
  {
   "cell_type": "code",
   "execution_count": 8,
   "id": "3cf37453",
   "metadata": {},
   "outputs": [
    {
     "name": "stdout",
     "output_type": "stream",
     "text": [
      "Dear Alice,\n",
      "Eve's cat has been arrested for catnapping, cat burglary, and extortion.\n",
      "Sincerely,\n",
      "Bob\n"
     ]
    }
   ],
   "source": [
    "print('''Dear Alice,\n",
    "Eve's cat has been arrested for catnapping, cat burglary, and extortion.\n",
    "Sincerely,\n",
    "Bob''')"
   ]
  },
  {
   "cell_type": "markdown",
   "id": "5accc65a",
   "metadata": {},
   "source": [
    "### Indexing and Slicing Strings"
   ]
  },
  {
   "cell_type": "code",
   "execution_count": 9,
   "id": "0995a78a",
   "metadata": {},
   "outputs": [],
   "source": [
    "spam1 = 'Hello, world!'"
   ]
  },
  {
   "cell_type": "code",
   "execution_count": 11,
   "id": "bdadc0f7",
   "metadata": {},
   "outputs": [
    {
     "data": {
      "text/plain": [
       "'H'"
      ]
     },
     "execution_count": 11,
     "metadata": {},
     "output_type": "execute_result"
    }
   ],
   "source": [
    "spam1[0]"
   ]
  },
  {
   "cell_type": "code",
   "execution_count": 12,
   "id": "efc4b599",
   "metadata": {},
   "outputs": [
    {
     "data": {
      "text/plain": [
       "'o'"
      ]
     },
     "execution_count": 12,
     "metadata": {},
     "output_type": "execute_result"
    }
   ],
   "source": [
    "spam1[4]"
   ]
  },
  {
   "cell_type": "code",
   "execution_count": 13,
   "id": "3884987a",
   "metadata": {},
   "outputs": [
    {
     "data": {
      "text/plain": [
       "'!'"
      ]
     },
     "execution_count": 13,
     "metadata": {},
     "output_type": "execute_result"
    }
   ],
   "source": [
    "spam1[-1]"
   ]
  },
  {
   "cell_type": "code",
   "execution_count": 14,
   "id": "94278734",
   "metadata": {},
   "outputs": [
    {
     "data": {
      "text/plain": [
       "'Hello'"
      ]
     },
     "execution_count": 14,
     "metadata": {},
     "output_type": "execute_result"
    }
   ],
   "source": [
    "spam1[0:5]"
   ]
  },
  {
   "cell_type": "code",
   "execution_count": 15,
   "id": "37be73df",
   "metadata": {},
   "outputs": [
    {
     "data": {
      "text/plain": [
       "'Hello'"
      ]
     },
     "execution_count": 15,
     "metadata": {},
     "output_type": "execute_result"
    }
   ],
   "source": [
    "spam1[:5]"
   ]
  },
  {
   "cell_type": "code",
   "execution_count": 16,
   "id": "35b5ea5d",
   "metadata": {},
   "outputs": [
    {
     "data": {
      "text/plain": [
       "'world!'"
      ]
     },
     "execution_count": 16,
     "metadata": {},
     "output_type": "execute_result"
    }
   ],
   "source": [
    "spam1[7:]"
   ]
  },
  {
   "cell_type": "code",
   "execution_count": 19,
   "id": "9be339f1",
   "metadata": {},
   "outputs": [],
   "source": [
    "fizz = spam1[7:]"
   ]
  },
  {
   "cell_type": "code",
   "execution_count": 20,
   "id": "b1ddeb08",
   "metadata": {},
   "outputs": [
    {
     "data": {
      "text/plain": [
       "'world!'"
      ]
     },
     "execution_count": 20,
     "metadata": {},
     "output_type": "execute_result"
    }
   ],
   "source": [
    "fizz"
   ]
  },
  {
   "cell_type": "code",
   "execution_count": null,
   "id": "3c7f41e8",
   "metadata": {},
   "outputs": [],
   "source": []
  },
  {
   "cell_type": "markdown",
   "id": "ddcdfd54",
   "metadata": {},
   "source": [
    "### The in and not in Operations with Strings"
   ]
  },
  {
   "cell_type": "markdown",
   "id": "67d02b4e",
   "metadata": {},
   "source": [
    "The in or not in will evaluate to a Boolean True or False "
   ]
  },
  {
   "cell_type": "code",
   "execution_count": 21,
   "id": "30fd6ff9",
   "metadata": {},
   "outputs": [
    {
     "data": {
      "text/plain": [
       "True"
      ]
     },
     "execution_count": 21,
     "metadata": {},
     "output_type": "execute_result"
    }
   ],
   "source": [
    "'Hello' in 'Hello, world!'"
   ]
  },
  {
   "cell_type": "code",
   "execution_count": 22,
   "id": "ec69d915",
   "metadata": {},
   "outputs": [
    {
     "data": {
      "text/plain": [
       "True"
      ]
     },
     "execution_count": 22,
     "metadata": {},
     "output_type": "execute_result"
    }
   ],
   "source": [
    "'Hello' in 'Hello'"
   ]
  },
  {
   "cell_type": "code",
   "execution_count": 23,
   "id": "4cafd6fc",
   "metadata": {},
   "outputs": [
    {
     "data": {
      "text/plain": [
       "False"
      ]
     },
     "execution_count": 23,
     "metadata": {},
     "output_type": "execute_result"
    }
   ],
   "source": [
    "'HELLO' in 'Hello, world!'"
   ]
  },
  {
   "cell_type": "code",
   "execution_count": 24,
   "id": "770f2dcb",
   "metadata": {},
   "outputs": [
    {
     "data": {
      "text/plain": [
       "True"
      ]
     },
     "execution_count": 24,
     "metadata": {},
     "output_type": "execute_result"
    }
   ],
   "source": [
    "'' in 'spam'"
   ]
  },
  {
   "cell_type": "code",
   "execution_count": 25,
   "id": "0af70903",
   "metadata": {},
   "outputs": [
    {
     "data": {
      "text/plain": [
       "False"
      ]
     },
     "execution_count": 25,
     "metadata": {},
     "output_type": "execute_result"
    }
   ],
   "source": [
    "'cats' not in 'cats and dogs'"
   ]
  },
  {
   "cell_type": "markdown",
   "id": "50d4d690",
   "metadata": {},
   "source": [
    "### Putting Strings Inside Other Strings"
   ]
  },
  {
   "cell_type": "code",
   "execution_count": 26,
   "id": "3cf172a5",
   "metadata": {},
   "outputs": [
    {
     "data": {
      "text/plain": [
       "'Hello, my name is Al. I am 4000 years old.'"
      ]
     },
     "execution_count": 26,
     "metadata": {},
     "output_type": "execute_result"
    }
   ],
   "source": [
    "name = 'Al'\n",
    "age = 4000\n",
    "'Hello, my name is ' + name + '. I am ' + str(age) + ' years old.'"
   ]
  },
  {
   "cell_type": "markdown",
   "id": "2a3b6a81",
   "metadata": {},
   "source": [
    "The above can be done in an easier way"
   ]
  },
  {
   "cell_type": "code",
   "execution_count": 27,
   "id": "81b24833",
   "metadata": {},
   "outputs": [
    {
     "data": {
      "text/plain": [
       "'My name is Al. I am 4000 years old.'"
      ]
     },
     "execution_count": 27,
     "metadata": {},
     "output_type": "execute_result"
    }
   ],
   "source": [
    "'My name is %s. I am %s years old.' % (name, age)"
   ]
  },
  {
   "cell_type": "code",
   "execution_count": 28,
   "id": "b35c62ab",
   "metadata": {},
   "outputs": [
    {
     "data": {
      "text/plain": [
       "'My name is Al. Next year I will be 4001.'"
      ]
     },
     "execution_count": 28,
     "metadata": {},
     "output_type": "execute_result"
    }
   ],
   "source": [
    "f'My name is {name}. Next year I will be {age + 1}.'"
   ]
  },
  {
   "cell_type": "code",
   "execution_count": 29,
   "id": "9b4f3dcd",
   "metadata": {},
   "outputs": [
    {
     "data": {
      "text/plain": [
       "'My name is Al. Next year I will be 4001'"
      ]
     },
     "execution_count": 29,
     "metadata": {},
     "output_type": "execute_result"
    }
   ],
   "source": [
    "'My name is {}. Next year I will be {}'.format(name, age+1)"
   ]
  },
  {
   "cell_type": "markdown",
   "id": "666a324e",
   "metadata": {},
   "source": [
    "### Useful String Methods"
   ]
  },
  {
   "cell_type": "markdown",
   "id": "780134c7",
   "metadata": {},
   "source": [
    "##### The upper(), lower(), isupper(), and islower() Methods"
   ]
  },
  {
   "cell_type": "code",
   "execution_count": 30,
   "id": "0e7ddd13",
   "metadata": {},
   "outputs": [],
   "source": [
    "spa = 'Hello, world!'"
   ]
  },
  {
   "cell_type": "code",
   "execution_count": 31,
   "id": "2475664f",
   "metadata": {},
   "outputs": [
    {
     "data": {
      "text/plain": [
       "'Hello, world!'"
      ]
     },
     "execution_count": 31,
     "metadata": {},
     "output_type": "execute_result"
    }
   ],
   "source": [
    "spa"
   ]
  },
  {
   "cell_type": "code",
   "execution_count": 32,
   "id": "e26b4f8b",
   "metadata": {},
   "outputs": [],
   "source": [
    "spa = spa.upper()"
   ]
  },
  {
   "cell_type": "code",
   "execution_count": 33,
   "id": "cd187aab",
   "metadata": {},
   "outputs": [
    {
     "data": {
      "text/plain": [
       "'HELLO, WORLD!'"
      ]
     },
     "execution_count": 33,
     "metadata": {},
     "output_type": "execute_result"
    }
   ],
   "source": [
    "spa"
   ]
  },
  {
   "cell_type": "code",
   "execution_count": 34,
   "id": "16937742",
   "metadata": {},
   "outputs": [],
   "source": [
    "spa = spa.lower()"
   ]
  },
  {
   "cell_type": "code",
   "execution_count": 35,
   "id": "12735b0c",
   "metadata": {},
   "outputs": [
    {
     "data": {
      "text/plain": [
       "'hello, world!'"
      ]
     },
     "execution_count": 35,
     "metadata": {},
     "output_type": "execute_result"
    }
   ],
   "source": [
    "spa"
   ]
  },
  {
   "cell_type": "markdown",
   "id": "a16959e9",
   "metadata": {},
   "source": [
    "The upper() and lower() methods are helpful if you need to make a case-insensitive comparison"
   ]
  },
  {
   "cell_type": "code",
   "execution_count": 36,
   "id": "367e8d0a",
   "metadata": {},
   "outputs": [
    {
     "name": "stdout",
     "output_type": "stream",
     "text": [
      "How are you?\n",
      "Great\n",
      "I feel great too.\n"
     ]
    }
   ],
   "source": [
    "print('How are you?')\n",
    "feeling = input()\n",
    "if feeling.lower() == 'great':\n",
    "    print('I feel great too.')\n",
    "else:\n",
    "    print('I hope the rest of your day is good.')"
   ]
  },
  {
   "cell_type": "markdown",
   "id": "2bb8d682",
   "metadata": {},
   "source": [
    "##### The isX() Methods"
   ]
  },
  {
   "cell_type": "code",
   "execution_count": 38,
   "id": "e8f1f660",
   "metadata": {},
   "outputs": [
    {
     "data": {
      "text/plain": [
       "True"
      ]
     },
     "execution_count": 38,
     "metadata": {},
     "output_type": "execute_result"
    }
   ],
   "source": [
    "#String only consists of letters and isn't blank\n",
    "'hello'.isalpha()"
   ]
  },
  {
   "cell_type": "code",
   "execution_count": 40,
   "id": "e6440712",
   "metadata": {},
   "outputs": [
    {
     "data": {
      "text/plain": [
       "False"
      ]
     },
     "execution_count": 40,
     "metadata": {},
     "output_type": "execute_result"
    }
   ],
   "source": [
    "#String consists only of letters and numbers and isn't blank\n",
    "'hello123'.isalpha()"
   ]
  },
  {
   "cell_type": "code",
   "execution_count": 42,
   "id": "f488fca8",
   "metadata": {},
   "outputs": [
    {
     "data": {
      "text/plain": [
       "True"
      ]
     },
     "execution_count": 42,
     "metadata": {},
     "output_type": "execute_result"
    }
   ],
   "source": [
    "'hello123'.isalnum()"
   ]
  },
  {
   "cell_type": "code",
   "execution_count": 43,
   "id": "82604a18",
   "metadata": {},
   "outputs": [
    {
     "data": {
      "text/plain": [
       "True"
      ]
     },
     "execution_count": 43,
     "metadata": {},
     "output_type": "execute_result"
    }
   ],
   "source": [
    "#String only consists of numeric characters and is not blank\n",
    "'123'.isdecimal()"
   ]
  },
  {
   "cell_type": "code",
   "execution_count": 44,
   "id": "1592edcc",
   "metadata": {},
   "outputs": [
    {
     "data": {
      "text/plain": [
       "True"
      ]
     },
     "execution_count": 44,
     "metadata": {},
     "output_type": "execute_result"
    }
   ],
   "source": [
    "#String only consists of spaces, tabs or newlines and is not blank\n",
    "'     '.isspace()"
   ]
  },
  {
   "cell_type": "code",
   "execution_count": 45,
   "id": "2a37b3ea",
   "metadata": {},
   "outputs": [
    {
     "data": {
      "text/plain": [
       "True"
      ]
     },
     "execution_count": 45,
     "metadata": {},
     "output_type": "execute_result"
    }
   ],
   "source": [
    "#String consists only of words that begin with an uppercase letter followed by only lowercase letters\n",
    "'This Is Title Case'.istitle()"
   ]
  },
  {
   "cell_type": "code",
   "execution_count": 46,
   "id": "720dac39",
   "metadata": {},
   "outputs": [
    {
     "data": {
      "text/plain": [
       "False"
      ]
     },
     "execution_count": 46,
     "metadata": {},
     "output_type": "execute_result"
    }
   ],
   "source": [
    "'This Is not Title Case 123'.istitle()"
   ]
  },
  {
   "cell_type": "code",
   "execution_count": 47,
   "id": "03fc4ece",
   "metadata": {},
   "outputs": [
    {
     "data": {
      "text/plain": [
       "False"
      ]
     },
     "execution_count": 47,
     "metadata": {},
     "output_type": "execute_result"
    }
   ],
   "source": [
    "'This Is NOT Title Case Either'.istitle()"
   ]
  },
  {
   "cell_type": "code",
   "execution_count": 48,
   "id": "0343c655",
   "metadata": {},
   "outputs": [
    {
     "name": "stdout",
     "output_type": "stream",
     "text": [
      "Enter your age:\n",
      "red\n",
      "Please enter a number for your age.\n",
      "Enter your age:\n",
      "33\n",
      "Select a new password (letters and numbers only):\n",
      "yumm\n"
     ]
    }
   ],
   "source": [
    "while True:\n",
    "    print('Enter your age:')\n",
    "    age = input()\n",
    "    if age.isdecimal():\n",
    "        break\n",
    "    print('Please enter a number for your age.')\n",
    "    \n",
    "while True:\n",
    "    print('Select a new password (letters and numbers only):')\n",
    "    password = input()\n",
    "    if password.isalnum():\n",
    "        break\n",
    "    print('Passwords can only have letters and numbers')"
   ]
  },
  {
   "cell_type": "code",
   "execution_count": null,
   "id": "d875cd4c",
   "metadata": {},
   "outputs": [],
   "source": []
  },
  {
   "cell_type": "markdown",
   "id": "083b555f",
   "metadata": {},
   "source": [
    "##### The startswith() and endswith() Methods"
   ]
  },
  {
   "cell_type": "code",
   "execution_count": 49,
   "id": "e8abac3b",
   "metadata": {},
   "outputs": [
    {
     "data": {
      "text/plain": [
       "True"
      ]
     },
     "execution_count": 49,
     "metadata": {},
     "output_type": "execute_result"
    }
   ],
   "source": [
    "'Hello, world!'.startswith('Hello')"
   ]
  },
  {
   "cell_type": "code",
   "execution_count": 50,
   "id": "7ed0fb69",
   "metadata": {},
   "outputs": [
    {
     "data": {
      "text/plain": [
       "True"
      ]
     },
     "execution_count": 50,
     "metadata": {},
     "output_type": "execute_result"
    }
   ],
   "source": [
    "'Hello, world!'.endswith('world!')"
   ]
  },
  {
   "cell_type": "code",
   "execution_count": 51,
   "id": "e90ecbd5",
   "metadata": {},
   "outputs": [
    {
     "data": {
      "text/plain": [
       "False"
      ]
     },
     "execution_count": 51,
     "metadata": {},
     "output_type": "execute_result"
    }
   ],
   "source": [
    "'abc123'.startswith('abcdef')"
   ]
  },
  {
   "cell_type": "code",
   "execution_count": 52,
   "id": "7816e84f",
   "metadata": {},
   "outputs": [
    {
     "data": {
      "text/plain": [
       "False"
      ]
     },
     "execution_count": 52,
     "metadata": {},
     "output_type": "execute_result"
    }
   ],
   "source": [
    "'abc123'.endswith('12')"
   ]
  },
  {
   "cell_type": "code",
   "execution_count": 53,
   "id": "9fba851a",
   "metadata": {},
   "outputs": [
    {
     "data": {
      "text/plain": [
       "True"
      ]
     },
     "execution_count": 53,
     "metadata": {},
     "output_type": "execute_result"
    }
   ],
   "source": [
    "'Hello, world!'.endswith('Hello, world!')"
   ]
  },
  {
   "cell_type": "code",
   "execution_count": null,
   "id": "01b801ea",
   "metadata": {},
   "outputs": [],
   "source": []
  },
  {
   "cell_type": "markdown",
   "id": "34beb793",
   "metadata": {},
   "source": [
    "##### The join() and split() Methods"
   ]
  },
  {
   "cell_type": "markdown",
   "id": "4fc8ae54",
   "metadata": {},
   "source": [
    "The join() method is useful when you have a list of strings that need to be joined together into a single string value. The join() method is called on a string"
   ]
  },
  {
   "cell_type": "markdown",
   "id": "5cabb15b",
   "metadata": {},
   "source": [
    "-> Separated by a comma which came before the join()"
   ]
  },
  {
   "cell_type": "code",
   "execution_count": 13,
   "id": "a7ce1a33",
   "metadata": {},
   "outputs": [
    {
     "data": {
      "text/plain": [
       "'cats, rats, bats'"
      ]
     },
     "execution_count": 13,
     "metadata": {},
     "output_type": "execute_result"
    }
   ],
   "source": [
    "', '.join(['cats', 'rats', 'bats'])"
   ]
  },
  {
   "cell_type": "markdown",
   "id": "683497e2",
   "metadata": {},
   "source": [
    "-> Separated by a space which came before the join()"
   ]
  },
  {
   "cell_type": "code",
   "execution_count": 14,
   "id": "388d0307",
   "metadata": {},
   "outputs": [
    {
     "data": {
      "text/plain": [
       "'My name is Simon'"
      ]
     },
     "execution_count": 14,
     "metadata": {},
     "output_type": "execute_result"
    }
   ],
   "source": [
    "' '.join(['My', 'name', 'is', 'Simon'])"
   ]
  },
  {
   "cell_type": "markdown",
   "id": "12c32c59",
   "metadata": {},
   "source": [
    "The split() method does the opposite"
   ]
  },
  {
   "cell_type": "code",
   "execution_count": 5,
   "id": "3eb05676",
   "metadata": {},
   "outputs": [
    {
     "data": {
      "text/plain": [
       "['My', 'name', 'is', 'Simon']"
      ]
     },
     "execution_count": 5,
     "metadata": {},
     "output_type": "execute_result"
    }
   ],
   "source": [
    "'My name is Simon'.split()"
   ]
  },
  {
   "cell_type": "code",
   "execution_count": 6,
   "id": "a9e402c7",
   "metadata": {},
   "outputs": [
    {
     "data": {
      "text/plain": [
       "['My', 'name', 'is', 'Simon']"
      ]
     },
     "execution_count": 6,
     "metadata": {},
     "output_type": "execute_result"
    }
   ],
   "source": [
    "'MyABCnameABCisABCSimon'.split('ABC')"
   ]
  },
  {
   "cell_type": "code",
   "execution_count": 7,
   "id": "f25c82e3",
   "metadata": {},
   "outputs": [
    {
     "data": {
      "text/plain": [
       "['My na', 'e is Si', 'on']"
      ]
     },
     "execution_count": 7,
     "metadata": {},
     "output_type": "execute_result"
    }
   ],
   "source": [
    "'My name is Simon'.split('m')"
   ]
  },
  {
   "cell_type": "markdown",
   "id": "4c1ab163",
   "metadata": {},
   "source": [
    "A common use of split() is to split a multiline string along the newline characters"
   ]
  },
  {
   "cell_type": "code",
   "execution_count": 8,
   "id": "27f7f1b4",
   "metadata": {},
   "outputs": [],
   "source": [
    "huk = '''Dear Alice,\n",
    "How have you been? I am fine.\n",
    "There is a container in the fridge\n",
    "that is labeled \"Milk Experiment\n",
    "\n",
    "Please do not drink it.\n",
    "Sincerely,\n",
    "Qazim\"'''"
   ]
  },
  {
   "cell_type": "code",
   "execution_count": 9,
   "id": "9c5d4371",
   "metadata": {},
   "outputs": [
    {
     "data": {
      "text/plain": [
       "['Dear Alice,',\n",
       " 'How have you been? I am fine.',\n",
       " 'There is a container in the fridge',\n",
       " 'that is labeled \"Milk Experiment',\n",
       " '',\n",
       " 'Please do not drink it.',\n",
       " 'Sincerely,',\n",
       " 'Qazim\"']"
      ]
     },
     "execution_count": 9,
     "metadata": {},
     "output_type": "execute_result"
    }
   ],
   "source": [
    "huk.split('\\n')"
   ]
  },
  {
   "cell_type": "markdown",
   "id": "70c6d0e6",
   "metadata": {},
   "source": [
    "##### Splitting Strings with the partition() Method"
   ]
  },
  {
   "cell_type": "markdown",
   "id": "0ff1a4d8",
   "metadata": {},
   "source": [
    "The partition() string method can split a string into the text before and after a separator string. This method searches the string it is called on for the separator string it is passed, and returns a tuple of three substrings for the 'before,' 'separator,' and 'after' substrings"
   ]
  },
  {
   "cell_type": "code",
   "execution_count": 11,
   "id": "0bdf0051",
   "metadata": {},
   "outputs": [
    {
     "data": {
      "text/plain": [
       "('Hello, ', 'w', 'orld!')"
      ]
     },
     "execution_count": 11,
     "metadata": {},
     "output_type": "execute_result"
    }
   ],
   "source": [
    "'Hello, world!'.partition('w')"
   ]
  },
  {
   "cell_type": "code",
   "execution_count": 12,
   "id": "3cfd6495",
   "metadata": {},
   "outputs": [
    {
     "data": {
      "text/plain": [
       "('Hello, ', 'world', '!')"
      ]
     },
     "execution_count": 12,
     "metadata": {},
     "output_type": "execute_result"
    }
   ],
   "source": [
    "'Hello, world!'.partition('world')"
   ]
  },
  {
   "cell_type": "markdown",
   "id": "b46e4e26",
   "metadata": {},
   "source": [
    "if the separator being passed occurs multiple times in the string, only the first occurrence is considered"
   ]
  },
  {
   "cell_type": "code",
   "execution_count": 15,
   "id": "f13837e7",
   "metadata": {},
   "outputs": [
    {
     "data": {
      "text/plain": [
       "('Hell', 'o', ', world!')"
      ]
     },
     "execution_count": 15,
     "metadata": {},
     "output_type": "execute_result"
    }
   ],
   "source": [
    "'Hello, world!'.partition('o')"
   ]
  },
  {
   "cell_type": "markdown",
   "id": "1f109956",
   "metadata": {},
   "source": [
    "if the separator being passed cannot be found, the result will be the tuple of the entire string"
   ]
  },
  {
   "cell_type": "code",
   "execution_count": 16,
   "id": "c31c92b9",
   "metadata": {},
   "outputs": [
    {
     "data": {
      "text/plain": [
       "('Hello, world!', '', '')"
      ]
     },
     "execution_count": 16,
     "metadata": {},
     "output_type": "execute_result"
    }
   ],
   "source": [
    "'Hello, world!'.partition('XYZ')"
   ]
  },
  {
   "cell_type": "markdown",
   "id": "61abcb77",
   "metadata": {},
   "source": [
    "You can use the multiple assignment trick to assign the three returned string to three variables"
   ]
  },
  {
   "cell_type": "code",
   "execution_count": 17,
   "id": "00a88f8d",
   "metadata": {},
   "outputs": [],
   "source": [
    "before, sep, after = 'Hello, world!'.partition(' ')"
   ]
  },
  {
   "cell_type": "code",
   "execution_count": 18,
   "id": "f90ffe36",
   "metadata": {},
   "outputs": [
    {
     "data": {
      "text/plain": [
       "'Hello,'"
      ]
     },
     "execution_count": 18,
     "metadata": {},
     "output_type": "execute_result"
    }
   ],
   "source": [
    "before"
   ]
  },
  {
   "cell_type": "code",
   "execution_count": 19,
   "id": "d42b84a7",
   "metadata": {},
   "outputs": [
    {
     "data": {
      "text/plain": [
       "'world!'"
      ]
     },
     "execution_count": 19,
     "metadata": {},
     "output_type": "execute_result"
    }
   ],
   "source": [
    "after"
   ]
  },
  {
   "cell_type": "markdown",
   "id": "7d09ec29",
   "metadata": {},
   "source": [
    "##### Justifying Text with rjust(), ljust(), and center() Methods"
   ]
  },
  {
   "cell_type": "code",
   "execution_count": null,
   "id": "fbb8de6a",
   "metadata": {},
   "outputs": [],
   "source": []
  }
 ],
 "metadata": {
  "kernelspec": {
   "display_name": "Python 3",
   "language": "python",
   "name": "python3"
  },
  "language_info": {
   "codemirror_mode": {
    "name": "ipython",
    "version": 3
   },
   "file_extension": ".py",
   "mimetype": "text/x-python",
   "name": "python",
   "nbconvert_exporter": "python",
   "pygments_lexer": "ipython3",
   "version": "3.9.6"
  }
 },
 "nbformat": 4,
 "nbformat_minor": 5
}
