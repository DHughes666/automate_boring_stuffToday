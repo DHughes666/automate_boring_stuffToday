{
 "cells": [
  {
   "cell_type": "markdown",
   "id": "e488e417",
   "metadata": {},
   "source": [
    "# READING & WRITING FILES"
   ]
  },
  {
   "cell_type": "code",
   "execution_count": 1,
   "id": "afd4c32e",
   "metadata": {},
   "outputs": [],
   "source": [
    "from pathlib import Path"
   ]
  },
  {
   "cell_type": "code",
   "execution_count": 2,
   "id": "9662919b",
   "metadata": {},
   "outputs": [
    {
     "data": {
      "text/plain": [
       "WindowsPath('spam/bacon/eggs')"
      ]
     },
     "execution_count": 2,
     "metadata": {},
     "output_type": "execute_result"
    }
   ],
   "source": [
    "Path('spam', 'bacon', 'eggs')"
   ]
  },
  {
   "cell_type": "code",
   "execution_count": 3,
   "id": "da9de03f",
   "metadata": {},
   "outputs": [
    {
     "data": {
      "text/plain": [
       "'spam\\\\bacon\\\\egss'"
      ]
     },
     "execution_count": 3,
     "metadata": {},
     "output_type": "execute_result"
    }
   ],
   "source": [
    "str(Path('spam', 'bacon', 'egss'))"
   ]
  },
  {
   "cell_type": "code",
   "execution_count": 4,
   "id": "e97238a4",
   "metadata": {},
   "outputs": [],
   "source": [
    "myFiles = ['file1.txt', 'file2.csv', 'file3.docx']"
   ]
  },
  {
   "cell_type": "code",
   "execution_count": 5,
   "id": "6c616ea7",
   "metadata": {},
   "outputs": [
    {
     "name": "stdout",
     "output_type": "stream",
     "text": [
      "E:\\Lux\\Python\\Automate_Boring_Stuffs\\9_Files\\file1.txt\n",
      "E:\\Lux\\Python\\Automate_Boring_Stuffs\\9_Files\\file2.csv\n",
      "E:\\Lux\\Python\\Automate_Boring_Stuffs\\9_Files\\file3.docx\n"
     ]
    }
   ],
   "source": [
    "for filename in myFiles:\n",
    "    print(Path(r'E:\\Lux\\Python\\Automate_Boring_Stuffs\\9_Files', filename))"
   ]
  },
  {
   "cell_type": "code",
   "execution_count": 6,
   "id": "838b2abb",
   "metadata": {},
   "outputs": [
    {
     "data": {
      "text/plain": [
       "WindowsPath('spam/bacon/egss')"
      ]
     },
     "execution_count": 6,
     "metadata": {},
     "output_type": "execute_result"
    }
   ],
   "source": [
    "Path('spam') /'bacon'/'egss'"
   ]
  },
  {
   "cell_type": "code",
   "execution_count": 7,
   "id": "2958c3fd",
   "metadata": {},
   "outputs": [
    {
     "data": {
      "text/plain": [
       "WindowsPath('spam/bacon/eggs')"
      ]
     },
     "execution_count": 7,
     "metadata": {},
     "output_type": "execute_result"
    }
   ],
   "source": [
    "Path('spam')/Path('bacon/eggs')"
   ]
  },
  {
   "cell_type": "code",
   "execution_count": 8,
   "id": "cb43e491",
   "metadata": {},
   "outputs": [
    {
     "data": {
      "text/plain": [
       "WindowsPath('spam/bacon/eggs')"
      ]
     },
     "execution_count": 8,
     "metadata": {},
     "output_type": "execute_result"
    }
   ],
   "source": [
    "Path('spam') / Path('bacon', 'eggs')"
   ]
  },
  {
   "cell_type": "code",
   "execution_count": 9,
   "id": "a2c2191e",
   "metadata": {},
   "outputs": [],
   "source": [
    "homeFolder = r'E:\\Lux\\Python\\Automate_Boring_Stuffs'"
   ]
  },
  {
   "cell_type": "code",
   "execution_count": 10,
   "id": "7633ee24",
   "metadata": {},
   "outputs": [],
   "source": [
    "subFolder = 'spam'"
   ]
  },
  {
   "cell_type": "code",
   "execution_count": 11,
   "id": "eab36827",
   "metadata": {},
   "outputs": [
    {
     "data": {
      "text/plain": [
       "'E:\\\\Lux\\\\Python\\\\Automate_Boring_Stuffs\\\\spam'"
      ]
     },
     "execution_count": 11,
     "metadata": {},
     "output_type": "execute_result"
    }
   ],
   "source": [
    "homeFolder + '\\\\' + subFolder"
   ]
  },
  {
   "cell_type": "code",
   "execution_count": 12,
   "id": "2d7ed1ad",
   "metadata": {},
   "outputs": [
    {
     "data": {
      "text/plain": [
       "'E:\\\\Lux\\\\Python\\\\Automate_Boring_Stuffs\\\\spam'"
      ]
     },
     "execution_count": 12,
     "metadata": {},
     "output_type": "execute_result"
    }
   ],
   "source": [
    "'\\\\'.join([homeFolder, subFolder])"
   ]
  },
  {
   "cell_type": "markdown",
   "id": "1d792663",
   "metadata": {},
   "source": [
    "The /math division operator joins paths correctly, no matter what operating system your code is running on"
   ]
  },
  {
   "cell_type": "code",
   "execution_count": 14,
   "id": "5398b80c",
   "metadata": {},
   "outputs": [],
   "source": [
    "homeFolder = Path('E:\\Lux\\Python\\Automate_Boring_Stuffs')"
   ]
  },
  {
   "cell_type": "code",
   "execution_count": 15,
   "id": "0448d06c",
   "metadata": {},
   "outputs": [],
   "source": [
    "subFolder = Path('spam')"
   ]
  },
  {
   "cell_type": "code",
   "execution_count": 16,
   "id": "69454f7d",
   "metadata": {},
   "outputs": [
    {
     "data": {
      "text/plain": [
       "'E:\\\\Lux\\\\Python\\\\Automate_Boring_Stuffs\\\\spam'"
      ]
     },
     "execution_count": 16,
     "metadata": {},
     "output_type": "execute_result"
    }
   ],
   "source": [
    "str(homeFolder / subFolder)"
   ]
  },
  {
   "cell_type": "markdown",
   "id": "0add7abc",
   "metadata": {},
   "source": [
    "The only thing you need to keep in mind when using the / operator for joining paths is that one of the first two values must be a Path object"
   ]
  },
  {
   "cell_type": "markdown",
   "id": "6dcc2e54",
   "metadata": {},
   "source": [
    "###### Python will give an error if you try entering the following into the interactive shell:"
   ]
  },
  {
   "cell_type": "code",
   "execution_count": 17,
   "id": "ebbae89f",
   "metadata": {},
   "outputs": [
    {
     "ename": "TypeError",
     "evalue": "unsupported operand type(s) for /: 'str' and 'str'",
     "output_type": "error",
     "traceback": [
      "\u001b[1;31m---------------------------------------------------------------------------\u001b[0m",
      "\u001b[1;31mTypeError\u001b[0m                                 Traceback (most recent call last)",
      "Input \u001b[1;32mIn [17]\u001b[0m, in \u001b[0;36m<module>\u001b[1;34m\u001b[0m\n\u001b[1;32m----> 1\u001b[0m \u001b[38;5;124;43m'\u001b[39;49m\u001b[38;5;124;43mspam\u001b[39;49m\u001b[38;5;124;43m'\u001b[39;49m\u001b[43m \u001b[49m\u001b[38;5;241;43m/\u001b[39;49m\u001b[43m \u001b[49m\u001b[38;5;124;43m'\u001b[39;49m\u001b[38;5;124;43mbacon\u001b[39;49m\u001b[38;5;124;43m'\u001b[39;49m \u001b[38;5;241m/\u001b[39m \u001b[38;5;124m'\u001b[39m\u001b[38;5;124meggs\u001b[39m\u001b[38;5;124m'\u001b[39m\n",
      "\u001b[1;31mTypeError\u001b[0m: unsupported operand type(s) for /: 'str' and 'str'"
     ]
    }
   ],
   "source": [
    "'spam' / 'bacon' / 'eggs'"
   ]
  },
  {
   "cell_type": "markdown",
   "id": "d2f3f03e",
   "metadata": {},
   "source": [
    "Every program that runs on your computer has a <i>current working directory,</i> or <i>cwd</i>. Any filenames or paths that do not begin with the root folder are assumed to be under the current working directory."
   ]
  },
  {
   "cell_type": "code",
   "execution_count": 18,
   "id": "9c35abfb",
   "metadata": {},
   "outputs": [],
   "source": [
    "import os"
   ]
  },
  {
   "cell_type": "code",
   "execution_count": 19,
   "id": "fc356e90",
   "metadata": {},
   "outputs": [
    {
     "data": {
      "text/plain": [
       "WindowsPath('E:/Lux/Python/Automate_Boring_Stuffs')"
      ]
     },
     "execution_count": 19,
     "metadata": {},
     "output_type": "execute_result"
    }
   ],
   "source": [
    "Path.cwd()"
   ]
  },
  {
   "cell_type": "code",
   "execution_count": 20,
   "id": "d48ad1b7",
   "metadata": {},
   "outputs": [],
   "source": [
    "os.chdir('C:\\\\Windows\\\\System32')"
   ]
  },
  {
   "cell_type": "code",
   "execution_count": 21,
   "id": "7e91a9b0",
   "metadata": {},
   "outputs": [
    {
     "data": {
      "text/plain": [
       "WindowsPath('C:/Windows/System32')"
      ]
     },
     "execution_count": 21,
     "metadata": {},
     "output_type": "execute_result"
    }
   ],
   "source": [
    "Path.cwd()"
   ]
  },
  {
   "cell_type": "markdown",
   "id": "537f6cc1",
   "metadata": {},
   "source": [
    "Here, the current directory is set to <i>E:\\Lux\\Python\\Automate_Boring_Stuffs</i>. When we change the current working directory to <i>C:\\Windows\\System32\\</i>, the filename <i>project.docx</i> is interpreted as <i>C:\\Windows\\System32\\project.docx</i>"
   ]
  },
  {
   "cell_type": "markdown",
   "id": "40dffc7c",
   "metadata": {},
   "source": [
    "###### Python will display an error if you try to change to a directory that does not exist"
   ]
  },
  {
   "cell_type": "code",
   "execution_count": 22,
   "id": "1bd3ddff",
   "metadata": {},
   "outputs": [
    {
     "ename": "FileNotFoundError",
     "evalue": "[WinError 2] The system cannot find the file specified: 'C:/ThisFolderDoesNotExist'",
     "output_type": "error",
     "traceback": [
      "\u001b[1;31m---------------------------------------------------------------------------\u001b[0m",
      "\u001b[1;31mFileNotFoundError\u001b[0m                         Traceback (most recent call last)",
      "Input \u001b[1;32mIn [22]\u001b[0m, in \u001b[0;36m<module>\u001b[1;34m\u001b[0m\n\u001b[1;32m----> 1\u001b[0m \u001b[43mos\u001b[49m\u001b[38;5;241;43m.\u001b[39;49m\u001b[43mchdir\u001b[49m\u001b[43m(\u001b[49m\u001b[38;5;124;43m'\u001b[39;49m\u001b[38;5;124;43mC:/ThisFolderDoesNotExist\u001b[39;49m\u001b[38;5;124;43m'\u001b[39;49m\u001b[43m)\u001b[49m\n",
      "\u001b[1;31mFileNotFoundError\u001b[0m: [WinError 2] The system cannot find the file specified: 'C:/ThisFolderDoesNotExist'"
     ]
    }
   ],
   "source": [
    "os.chdir('C:/ThisFolderDoesNotExist')"
   ]
  },
  {
   "cell_type": "markdown",
   "id": "57fcf790",
   "metadata": {},
   "source": [
    "There is no pathlib function for changing the working directory, because changing the current working directory while a program is running can often lead to subtle bugs."
   ]
  },
  {
   "cell_type": "code",
   "execution_count": 23,
   "id": "4415ddcc",
   "metadata": {},
   "outputs": [
    {
     "data": {
      "text/plain": [
       "WindowsPath('C:/Users/Admin')"
      ]
     },
     "execution_count": 23,
     "metadata": {},
     "output_type": "execute_result"
    }
   ],
   "source": [
    "Path.home()"
   ]
  },
  {
   "cell_type": "markdown",
   "id": "dfb02354",
   "metadata": {},
   "source": [
    "#### Absolute vs. Relative Paths"
   ]
  },
  {
   "cell_type": "markdown",
   "id": "515a264a",
   "metadata": {},
   "source": [
    "There are two ways to specify a file path:\n",
    "    \n",
    "**1** An <i>absolute path</i>, which always begins with the root folder\n",
    "\n",
    "**2** A <i>relative path</i>, which is relative to the program's current working directory"
   ]
  },
  {
   "cell_type": "markdown",
   "id": "8f916adb",
   "metadata": {},
   "source": [
    "There are also the <i>dot (.)</i> and <i>dot-dot (..)</i> folders. These are not real folders but special names that can be used in a path. A single ('dot') for a folder name is shorthand for 'this directory'. Two periods ('dot-dot') means 'the parent folder.'"
   ]
  },
  {
   "cell_type": "markdown",
   "id": "13443876",
   "metadata": {},
   "source": [
    "#### Creating New Folders Using the os.makedirs() Function"
   ]
  },
  {
   "cell_type": "code",
   "execution_count": 36,
   "id": "4d5eb869",
   "metadata": {},
   "outputs": [],
   "source": [
    "os.chdir('E:\\Lux\\Python\\Automate_Boring_Stuffs')"
   ]
  },
  {
   "cell_type": "code",
   "execution_count": 24,
   "id": "a13acba0",
   "metadata": {},
   "outputs": [],
   "source": [
    "os.makedirs('C:\\\\delicious\\\\walnut\\\\waffles')"
   ]
  },
  {
   "cell_type": "markdown",
   "id": "4c99f395",
   "metadata": {},
   "source": [
    "To make a directory from a Path object, call the mkdir() method. "
   ]
  },
  {
   "cell_type": "code",
   "execution_count": 26,
   "id": "0d0a6825",
   "metadata": {},
   "outputs": [],
   "source": [
    "Path(r'E:\\Lux\\Python\\Automate_Boring_Stuffs\\9_Files\\spam').mkdir()"
   ]
  },
  {
   "cell_type": "markdown",
   "id": "a2cb3da5",
   "metadata": {},
   "source": [
    "###### Handling Absolute and Relative Paths"
   ]
  },
  {
   "cell_type": "code",
   "execution_count": 27,
   "id": "a5ef244a",
   "metadata": {},
   "outputs": [
    {
     "data": {
      "text/plain": [
       "WindowsPath('C:/Windows/System32')"
      ]
     },
     "execution_count": 27,
     "metadata": {},
     "output_type": "execute_result"
    }
   ],
   "source": [
    "Path.cwd()"
   ]
  },
  {
   "cell_type": "code",
   "execution_count": 28,
   "id": "4087fdd3",
   "metadata": {},
   "outputs": [
    {
     "data": {
      "text/plain": [
       "True"
      ]
     },
     "execution_count": 28,
     "metadata": {},
     "output_type": "execute_result"
    }
   ],
   "source": [
    "Path.cwd().is_absolute()"
   ]
  },
  {
   "cell_type": "code",
   "execution_count": 30,
   "id": "c6d2713b",
   "metadata": {},
   "outputs": [
    {
     "data": {
      "text/plain": [
       "False"
      ]
     },
     "execution_count": 30,
     "metadata": {},
     "output_type": "execute_result"
    }
   ],
   "source": [
    "Path('spam/bacon/eggs').is_absolute()"
   ]
  },
  {
   "cell_type": "code",
   "execution_count": 31,
   "id": "2ca30750",
   "metadata": {},
   "outputs": [
    {
     "data": {
      "text/plain": [
       "WindowsPath('my/relative/path')"
      ]
     },
     "execution_count": 31,
     "metadata": {},
     "output_type": "execute_result"
    }
   ],
   "source": [
    "Path('my/relative/path')"
   ]
  },
  {
   "cell_type": "code",
   "execution_count": 37,
   "id": "b04f1fc0",
   "metadata": {},
   "outputs": [
    {
     "data": {
      "text/plain": [
       "WindowsPath('E:/Lux/Python/Automate_Boring_Stuffs/my/relative/path')"
      ]
     },
     "execution_count": 37,
     "metadata": {},
     "output_type": "execute_result"
    }
   ],
   "source": [
    "Path.cwd() / Path('my/relative/path')"
   ]
  },
  {
   "cell_type": "code",
   "execution_count": 34,
   "id": "13143929",
   "metadata": {},
   "outputs": [],
   "source": []
  },
  {
   "cell_type": "code",
   "execution_count": null,
   "id": "67702200",
   "metadata": {},
   "outputs": [],
   "source": []
  }
 ],
 "metadata": {
  "kernelspec": {
   "display_name": "Python 3 (ipykernel)",
   "language": "python",
   "name": "python3"
  },
  "language_info": {
   "codemirror_mode": {
    "name": "ipython",
    "version": 3
   },
   "file_extension": ".py",
   "mimetype": "text/x-python",
   "name": "python",
   "nbconvert_exporter": "python",
   "pygments_lexer": "ipython3",
   "version": "3.9.6"
  }
 },
 "nbformat": 4,
 "nbformat_minor": 5
}
