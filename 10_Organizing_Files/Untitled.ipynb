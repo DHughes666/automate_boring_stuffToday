{
 "cells": [
  {
   "cell_type": "code",
   "execution_count": null,
   "id": "ed868d30",
   "metadata": {},
   "outputs": [],
   "source": [
    "[5, 2, C, D, +] = 30\n",
    "[5, -2, 4, C, D, 9, +, +] = 27\n",
    "\n",
    "\n",
    "demo(5)"
   ]
  },
  {
   "cell_type": "code",
   "execution_count": null,
   "id": "8f1dadc9",
   "metadata": {},
   "outputs": [],
   "source": [
    "def demo(ops):\n",
    "    result = []\n",
    "    ops = ops.split()\n",
    "    \n",
    "    for i in ops:\n",
    "        if type(i) == int:\n",
    "           result.append(i) \n",
    "        if type(i) == str and i == +:\n",
    "            \n",
    "    else:\n",
    "        for i in ops:\n",
    "            if ops[i] == 'x':\n",
    "                return result.append(i)\n",
    "            if ops[i] == '+':\n",
    "                return result.append(ops[i] + ops[-2])\n",
    "            if ops[i] == 'D':\n",
    "                return result.append(ops[i] * 2)\n",
    "            if ops[i] == 'C':\n",
    "                return result.append(ops.pop())\n",
    "            else:\n",
    "                return result.append(ops[i])\n",
    "    return result"
   ]
  },
  {
   "cell_type": "code",
   "execution_count": null,
   "id": "1803a74d",
   "metadata": {},
   "outputs": [],
   "source": []
  },
  {
   "cell_type": "code",
   "execution_count": null,
   "id": "f6a9ea73",
   "metadata": {},
   "outputs": [],
   "source": []
  }
 ],
 "metadata": {
  "kernelspec": {
   "display_name": "Python 3 (ipykernel)",
   "language": "python",
   "name": "python3"
  },
  "language_info": {
   "codemirror_mode": {
    "name": "ipython",
    "version": 3
   },
   "file_extension": ".py",
   "mimetype": "text/x-python",
   "name": "python",
   "nbconvert_exporter": "python",
   "pygments_lexer": "ipython3",
   "version": "3.9.6"
  }
 },
 "nbformat": 4,
 "nbformat_minor": 5
}
